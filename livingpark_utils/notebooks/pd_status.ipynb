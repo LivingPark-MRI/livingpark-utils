{
 "cells": [
  {
   "cell_type": "markdown",
   "metadata": {
    "slideshow": {
     "slide_type": "slide"
    }
   },
   "source": [
    "# 👋 Introduction"
   ]
  },
  {
   "cell_type": "markdown",
   "metadata": {
    "slideshow": {
     "slide_type": "fragment"
    }
   },
   "source": [
    "The medication status of PD patients is important as medication importantly affects clinical measures such as the Hoehn & Yahr score used in many studies. In PPMI, medication is available through the following main variables:\n",
    "* PDSTATE (ON/OFF): the current functional state of the patient\n",
    "* PDTRTMNT (0/1): 1 if the participant is on PD medication or receives deep brain stimulation, 0 otherwise\n",
    "* ON/OFFPDMEDTM: time of most recent PD medication dose\n",
    "* ON/OFFPDMEDDT: date of most recent PD medication dose\n",
    "\n",
    "As mentioned in the \"Methods for Defining PD Med Use\" in PPMI study data, OFF state requires that the last dose of levodopa or dopamine agonist was taken 6 hours or more before MDS-UPDRS Part III assessment.\n",
    "\n",
    "The goal of this notebook is (1) to identify and correct inconsistencies among these variables, (2) to impute missing data for PDSTATE and PDTRTMNT, and (3) to check the sanity of the corrected dataset."
   ]
  },
  {
   "cell_type": "code",
   "execution_count": 1,
   "metadata": {},
   "outputs": [
    {
     "data": {
      "text/html": [
       "<script>\n",
       "code_show=true; \n",
       "function code_toggle() {\n",
       " if (code_show){\n",
       " $('div.input').hide();\n",
       " } else {\n",
       " $('div.input').show();\n",
       " }\n",
       " code_show = !code_show\n",
       "} \n",
       "$( document ).ready(code_toggle);\n",
       "</script>\n",
       "<form action=\"javascript:code_toggle()\"><input type=\"submit\" value=\"Click here to toggle on/off the Python code.\"></form>"
      ],
      "text/plain": [
       "<IPython.core.display.HTML object>"
      ]
     },
     "execution_count": 1,
     "metadata": {},
     "output_type": "execute_result"
    }
   ],
   "source": [
    "from IPython.display import HTML\n",
    "\n",
    "HTML(\n",
    "    \"\"\"<script>\n",
    "code_show=true; \n",
    "function code_toggle() {\n",
    " if (code_show){\n",
    " $('div.input').hide();\n",
    " } else {\n",
    " $('div.input').show();\n",
    " }\n",
    " code_show = !code_show\n",
    "} \n",
    "$( document ).ready(code_toggle);\n",
    "</script>\n",
    "<form action=\"javascript:code_toggle()\"><input type=\"submit\" value=\"Click here to toggle on/off the Python code.\"></form>\"\"\"\n",
    ")"
   ]
  },
  {
   "cell_type": "code",
   "execution_count": 2,
   "metadata": {},
   "outputs": [
    {
     "name": "stdout",
     "output_type": "stream",
     "text": [
      "This notebook was run on 2023-04-17 16:26:28 UTC +0000\n"
     ]
    }
   ],
   "source": [
    "import datetime\n",
    "import warnings\n",
    "\n",
    "import pytz\n",
    "\n",
    "\n",
    "# warnings.filterwarnings('ignore')\n",
    "\n",
    "now = datetime.datetime.now(pytz.utc).strftime(\"%Y-%m-%d %H:%M:%S %Z %z\")\n",
    "print(f\"This notebook was run on {now}\")"
   ]
  },
  {
   "cell_type": "markdown",
   "metadata": {
    "slideshow": {
     "slide_type": "slide"
    }
   },
   "source": [
    "# 🔽 Data download\n",
    "\n",
    "The above-mentioned variables are available in PPMI file `MDS_UPDRS_Part_III.csv`. To download this file, we will use package `ppmi-downloader` available on PyPi. The package will ask you for your PPMI login and password."
   ]
  },
  {
   "cell_type": "code",
   "execution_count": 3,
   "metadata": {
    "scrolled": false
   },
   "outputs": [
    {
     "name": "stdout",
     "output_type": "stream",
     "text": [
      "This notebook was run on 2023-04-17 16:26:29 UTC +0000\n",
      "Download skipped: No missing files!\n",
      "File downloaded\n"
     ]
    }
   ],
   "source": [
    "from livingpark_utils.download import ppmi\n",
    "import livingpark_utils\n",
    "import pandas as pd\n",
    "import os\n",
    "\n",
    "utils = livingpark_utils.LivingParkUtils()\n",
    "utils.notebook_init()\n",
    "\n",
    "updrs_file_name = \"MDS-UPDRS_Part_III.csv\"\n",
    "downloader = ppmi.Downloader(utils.study_files_dir, headless=False)\n",
    "utils.get_study_files([updrs_file_name], default=downloader)\n",
    "df = pd.read_csv(os.path.join(utils.study_files_dir, updrs_file_name))\n",
    "\n",
    "print(\"File downloaded\")"
   ]
  },
  {
   "attachments": {},
   "cell_type": "markdown",
   "metadata": {},
   "source": [
    "# Assign exam date and time for PDSTATE ON and OFF."
   ]
  },
  {
   "cell_type": "code",
   "execution_count": 4,
   "metadata": {},
   "outputs": [],
   "source": [
    "df = df.merge(\n",
    "    df[df[\"PDSTATE\"] == \"OFF\"][\n",
    "        [\"PATNO\", \"EVENT_ID\", \"EXAMDT\", \"EXAMTM\", \"PDMEDDT\", \"PDMEDTM\"]\n",
    "    ].rename(\n",
    "        columns={\n",
    "            \"EXAMDT\": \"OFFEXAMDT\",\n",
    "            \"EXAMTM\": \"OFFEXAMTM\",\n",
    "            \"PDMEDDT\": \"OFFPDMEDDT\",\n",
    "            \"PDMEDTM\": \"OFFPDMEDTM\",\n",
    "        }\n",
    "    ),\n",
    "    how=\"left\",\n",
    "    on=(\"PATNO\", \"EVENT_ID\"),\n",
    ").merge(\n",
    "    df[df[\"PDSTATE\"] == \"ON\"][\n",
    "        [\"PATNO\", \"EVENT_ID\", \"EXAMDT\", \"EXAMTM\", \"PDMEDDT\", \"PDMEDTM\"]\n",
    "    ].rename(\n",
    "        columns={\n",
    "            \"EXAMDT\": \"ONEXAMDT\",\n",
    "            \"EXAMTM\": \"ONEXAMTM\",\n",
    "            \"PDMEDDT\": \"ONPDMEDDT\",\n",
    "            \"PDMEDTM\": \"ONPDMEDTM\",\n",
    "        }\n",
    "    ),\n",
    "    how=\"left\",\n",
    "    on=(\"PATNO\", \"EVENT_ID\"),\n",
    ")\n"
   ]
  },
  {
   "cell_type": "markdown",
   "metadata": {
    "slideshow": {
     "slide_type": "slide"
    }
   },
   "source": [
    "# ⁉️ Inconsistencies"
   ]
  },
  {
   "cell_type": "markdown",
   "metadata": {
    "slideshow": {
     "slide_type": "fragment"
    }
   },
   "source": [
    "## PDTRTMNT=0 and PDSTATE=ON\n",
    "\n",
    "<div class=\"alert alert-block alert-danger\">\n",
    "     \t&#10060; <b>Problem:</b> a few records have PDSTATE=ON and PDTRTMNT=0, which is inconsistent:\n",
    "</div>"
   ]
  },
  {
   "cell_type": "code",
   "execution_count": 5,
   "metadata": {},
   "outputs": [
    {
     "data": {
      "text/html": [
       "<div>\n",
       "<style scoped>\n",
       "    .dataframe tbody tr th:only-of-type {\n",
       "        vertical-align: middle;\n",
       "    }\n",
       "\n",
       "    .dataframe tbody tr th {\n",
       "        vertical-align: top;\n",
       "    }\n",
       "\n",
       "    .dataframe thead th {\n",
       "        text-align: right;\n",
       "    }\n",
       "</style>\n",
       "<table border=\"1\" class=\"dataframe\">\n",
       "  <thead>\n",
       "    <tr style=\"text-align: right;\">\n",
       "      <th></th>\n",
       "      <th></th>\n",
       "      <th>REC_ID</th>\n",
       "    </tr>\n",
       "    <tr>\n",
       "      <th>PDSTATE</th>\n",
       "      <th>PDTRTMNT</th>\n",
       "      <th></th>\n",
       "    </tr>\n",
       "  </thead>\n",
       "  <tbody>\n",
       "    <tr>\n",
       "      <th rowspan=\"2\" valign=\"top\">OFF</th>\n",
       "      <th>0.0</th>\n",
       "      <td>19</td>\n",
       "    </tr>\n",
       "    <tr>\n",
       "      <th>1.0</th>\n",
       "      <td>3947</td>\n",
       "    </tr>\n",
       "    <tr>\n",
       "      <th rowspan=\"2\" valign=\"top\">ON</th>\n",
       "      <th>0.0</th>\n",
       "      <td>41</td>\n",
       "    </tr>\n",
       "    <tr>\n",
       "      <th>1.0</th>\n",
       "      <td>5988</td>\n",
       "    </tr>\n",
       "    <tr>\n",
       "      <th rowspan=\"3\" valign=\"top\">NaN</th>\n",
       "      <th>0.0</th>\n",
       "      <td>9090</td>\n",
       "    </tr>\n",
       "    <tr>\n",
       "      <th>1.0</th>\n",
       "      <td>23</td>\n",
       "    </tr>\n",
       "    <tr>\n",
       "      <th>NaN</th>\n",
       "      <td>2318</td>\n",
       "    </tr>\n",
       "  </tbody>\n",
       "</table>\n",
       "</div>"
      ],
      "text/plain": [
       "                  REC_ID\n",
       "PDSTATE PDTRTMNT        \n",
       "OFF     0.0           19\n",
       "        1.0         3947\n",
       "ON      0.0           41\n",
       "        1.0         5988\n",
       "NaN     0.0         9090\n",
       "        1.0           23\n",
       "        NaN         2318"
      ]
     },
     "execution_count": 5,
     "metadata": {},
     "output_type": "execute_result"
    }
   ],
   "source": [
    "df.groupby([\"PDSTATE\", \"PDTRTMNT\"], dropna=False)[[\"REC_ID\"]].count()"
   ]
  },
  {
   "cell_type": "code",
   "execution_count": 6,
   "metadata": {
    "scrolled": true
   },
   "outputs": [],
   "source": [
    "errors = df[(df[\"PDSTATE\"] == \"ON\") & (df[\"PDTRTMNT\"] == 0)]\n",
    "# print the time difference between EXAMTM and PDMEDTM\n",
    "# (pd.to_datetime(errors[\"ONEXAMTM\"]) - pd.to_datetime(errors[\"ONPDMEDTM\"]))"
   ]
  },
  {
   "cell_type": "markdown",
   "metadata": {
    "slideshow": {
     "slide_type": "fragment"
    }
   },
   "source": [
    "<div class=\"alert alert-block alert-success\">\n",
    "     \t&#10003; <b>Proposed correction</b>: set PDTRTMNT to 1 for these records. It doesn't seem realistic that a plausible PDMEDTM and PDSTATE=ON have been entered by mistake while the patient was not under medication.\n",
    "</div>"
   ]
  },
  {
   "cell_type": "markdown",
   "metadata": {
    "slideshow": {
     "slide_type": "slide"
    }
   },
   "source": [
    "⚙️ Implementation\n",
    "\n"
   ]
  },
  {
   "cell_type": "code",
   "execution_count": 7,
   "metadata": {},
   "outputs": [],
   "source": [
    "df.loc[(df[\"PDSTATE\"] == \"ON\") & (df[\"PDTRTMNT\"] == 0), \"PDTRTMNT\"] = 1"
   ]
  },
  {
   "cell_type": "markdown",
   "metadata": {
    "slideshow": {
     "slide_type": "fragment"
    }
   },
   "source": [
    "Let's verify that the inconsistency is now resolved:"
   ]
  },
  {
   "cell_type": "code",
   "execution_count": 8,
   "metadata": {
    "scrolled": true
   },
   "outputs": [
    {
     "data": {
      "text/html": [
       "<div>\n",
       "<style scoped>\n",
       "    .dataframe tbody tr th:only-of-type {\n",
       "        vertical-align: middle;\n",
       "    }\n",
       "\n",
       "    .dataframe tbody tr th {\n",
       "        vertical-align: top;\n",
       "    }\n",
       "\n",
       "    .dataframe thead th {\n",
       "        text-align: right;\n",
       "    }\n",
       "</style>\n",
       "<table border=\"1\" class=\"dataframe\">\n",
       "  <thead>\n",
       "    <tr style=\"text-align: right;\">\n",
       "      <th></th>\n",
       "      <th></th>\n",
       "      <th>REC_ID</th>\n",
       "    </tr>\n",
       "    <tr>\n",
       "      <th>PDSTATE</th>\n",
       "      <th>PDTRTMNT</th>\n",
       "      <th></th>\n",
       "    </tr>\n",
       "  </thead>\n",
       "  <tbody>\n",
       "    <tr>\n",
       "      <th rowspan=\"2\" valign=\"top\">OFF</th>\n",
       "      <th>0.0</th>\n",
       "      <td>19</td>\n",
       "    </tr>\n",
       "    <tr>\n",
       "      <th>1.0</th>\n",
       "      <td>3947</td>\n",
       "    </tr>\n",
       "    <tr>\n",
       "      <th>ON</th>\n",
       "      <th>1.0</th>\n",
       "      <td>6029</td>\n",
       "    </tr>\n",
       "    <tr>\n",
       "      <th rowspan=\"3\" valign=\"top\">NaN</th>\n",
       "      <th>0.0</th>\n",
       "      <td>9090</td>\n",
       "    </tr>\n",
       "    <tr>\n",
       "      <th>1.0</th>\n",
       "      <td>23</td>\n",
       "    </tr>\n",
       "    <tr>\n",
       "      <th>NaN</th>\n",
       "      <td>2318</td>\n",
       "    </tr>\n",
       "  </tbody>\n",
       "</table>\n",
       "</div>"
      ],
      "text/plain": [
       "                  REC_ID\n",
       "PDSTATE PDTRTMNT        \n",
       "OFF     0.0           19\n",
       "        1.0         3947\n",
       "ON      1.0         6029\n",
       "NaN     0.0         9090\n",
       "        1.0           23\n",
       "        NaN         2318"
      ]
     },
     "execution_count": 8,
     "metadata": {},
     "output_type": "execute_result"
    }
   ],
   "source": [
    "df.groupby([\"PDSTATE\", \"PDTRTMNT\"], dropna=False)[[\"REC_ID\"]].count()"
   ]
  },
  {
   "cell_type": "markdown",
   "metadata": {
    "slideshow": {
     "slide_type": "slide"
    }
   },
   "source": [
    "## EVENT_ID = SC and PDTRTMNT = 1"
   ]
  },
  {
   "cell_type": "markdown",
   "metadata": {
    "slideshow": {
     "slide_type": "fragment"
    }
   },
   "source": [
    "<div class=\"alert alert-block alert-danger\">\n",
    "     \t&#10060; <b>Problem</b>: Some patients were on medication at screening time while PPMI patients were supposed to be unmedicated at screening time.\n",
    "    </div>"
   ]
  },
  {
   "cell_type": "markdown",
   "metadata": {
    "slideshow": {
     "slide_type": "fragment"
    }
   },
   "source": [
    "Number of patients on medication at screening time:"
   ]
  },
  {
   "cell_type": "code",
   "execution_count": 9,
   "metadata": {},
   "outputs": [
    {
     "data": {
      "text/plain": [
       "9"
      ]
     },
     "execution_count": 9,
     "metadata": {},
     "output_type": "execute_result"
    }
   ],
   "source": [
    "len(df[(df[\"EVENT_ID\"] == \"SC\") & (df[\"PDTRTMNT\"] == 1)])"
   ]
  },
  {
   "cell_type": "markdown",
   "metadata": {
    "slideshow": {
     "slide_type": "fragment"
    }
   },
   "source": [
    "<div class=\"alert alert-block alert-success\">\n",
    "     \t&#10003; <b>Proposed correction:</b> keep the records. Maybe the patients started medication between recruitment and screening time.\n",
    "</div>"
   ]
  },
  {
   "cell_type": "markdown",
   "metadata": {},
   "source": [
    "## PDSTATE=ON and EXAMTM<PDMEDTM"
   ]
  },
  {
   "cell_type": "markdown",
   "metadata": {
    "slideshow": {
     "slide_type": "fragment"
    }
   },
   "source": [
    "<div class=\"alert alert-block alert-danger\">\n",
    "     \t&#10060; <b>Problem</b>: Some records have PDSTATE=ON but PDMEDTM is after EXAMTM. \n",
    "    </div>"
   ]
  },
  {
   "cell_type": "markdown",
   "metadata": {
    "slideshow": {
     "slide_type": "fragment"
    }
   },
   "source": [
    "Number of records where PDSTATE=ON and EXAMTM<PDMEDTM:"
   ]
  },
  {
   "cell_type": "code",
   "execution_count": 10,
   "metadata": {},
   "outputs": [
    {
     "data": {
      "text/plain": [
       "75"
      ]
     },
     "execution_count": 10,
     "metadata": {},
     "output_type": "execute_result"
    }
   ],
   "source": [
    "# ON records\n",
    "on = df[df[\"PDSTATE\"] == \"ON\"]\n",
    "\n",
    "\n",
    "def to_secs(x):\n",
    "    \"\"\"\n",
    "    Convert time from hh:mm to seconds since midnight\n",
    "\n",
    "    x: time in hh:ss format\n",
    "    return: number of seconds elapsed since midnight\n",
    "    \"\"\"\n",
    "    if str(x) == \"nan\":\n",
    "        import numpy as np\n",
    "\n",
    "        return np.NaN\n",
    "    try:\n",
    "        hour, mn, sec = x.split(\":\")\n",
    "    except Exception as e:\n",
    "        print(f'Cannot process \"{x}\"')\n",
    "        raise (e)\n",
    "    return int(hour) * 3600 + int(mn) * 60 + int(sec)\n",
    "\n",
    "\n",
    "on[\"delta\"] = on[\"ONEXAMTM\"].apply(to_secs) - on[\"ONPDMEDTM\"].apply(to_secs)\n",
    "len(on[on[\"delta\"] < 0])"
   ]
  },
  {
   "cell_type": "markdown",
   "metadata": {
    "slideshow": {
     "slide_type": "fragment"
    }
   },
   "source": [
    "<div class=\"alert alert-block alert-success\">\n",
    "     \t&#10003; <b>Proposed correction:</b> discard the records. \n",
    "</div>"
   ]
  },
  {
   "cell_type": "markdown",
   "metadata": {},
   "source": [
    "Note: for some of these records, medication date was likely on the day before the exam, although this cannot be verified since dates only contain a year and a month but no day. Even in such cases, duration between medication time and exam time was more than 6 hours which is inconsistent with the rule used for the other records."
   ]
  },
  {
   "cell_type": "markdown",
   "metadata": {
    "slideshow": {
     "slide_type": "slide"
    }
   },
   "source": [
    "⚙️ Implementation"
   ]
  },
  {
   "cell_type": "code",
   "execution_count": 11,
   "metadata": {},
   "outputs": [
    {
     "name": "stdout",
     "output_type": "stream",
     "text": [
      "Removed 75 records where PDSTATE=ON and EXAMTM<PDMEDTM\n"
     ]
    }
   ],
   "source": [
    "before = len(df)\n",
    "df = df[\n",
    "    ~(\n",
    "        (df[\"PDSTATE\"] == \"ON\")\n",
    "        & df[\"ONEXAMTM\"].notnull()\n",
    "        & df[\"ONPDMEDTM\"].notnull()\n",
    "        & (df[\"ONEXAMTM\"] < df[\"ONPDMEDTM\"])\n",
    "    )\n",
    "]\n",
    "print(f\"Removed {before-len(df)} records where PDSTATE=ON and EXAMTM<PDMEDTM\")"
   ]
  },
  {
   "cell_type": "markdown",
   "metadata": {
    "slideshow": {
     "slide_type": "slide"
    }
   },
   "source": [
    "## Visits with 3 exams"
   ]
  },
  {
   "cell_type": "markdown",
   "metadata": {
    "slideshow": {
     "slide_type": "fragment"
    }
   },
   "source": [
    "<div class=\"alert alert-block alert-danger\">\n",
    "    \t&#10060; <b>Problem</b>: some visits have 3 exams while a maximum of two exams per visit are expected, one in OFF state and one in ON state.\n",
    "</div>"
   ]
  },
  {
   "cell_type": "markdown",
   "metadata": {
    "slideshow": {
     "slide_type": "fragment"
    }
   },
   "source": [
    "Number of records that belong to a visit with more than 3 exams:"
   ]
  },
  {
   "cell_type": "code",
   "execution_count": 12,
   "metadata": {},
   "outputs": [
    {
     "data": {
      "text/plain": [
       "107"
      ]
     },
     "execution_count": 12,
     "metadata": {},
     "output_type": "execute_result"
    }
   ],
   "source": [
    "pb = df.groupby([\"PATNO\", \"EVENT_ID\"]).filter(lambda x: len(x) > 2)\n",
    "len(pb)"
   ]
  },
  {
   "cell_type": "markdown",
   "metadata": {
    "slideshow": {
     "slide_type": "fragment"
    }
   },
   "source": [
    "Each exams triple has an exam with missing ONEXAMTM, missing OFFEXAMTM, and missing PDSTATE:"
   ]
  },
  {
   "cell_type": "code",
   "execution_count": 13,
   "metadata": {},
   "outputs": [
    {
     "data": {
      "text/html": [
       "<table border=\"1\" class=\"dataframe\">\n",
       "  <thead>\n",
       "    <tr style=\"text-align: right;\">\n",
       "      <th>EVENT_ID</th>\n",
       "      <th>PDSTATE</th>\n",
       "      <th>ONEXAMTM</th>\n",
       "      <th>OFFEXAMTM</th>\n",
       "    </tr>\n",
       "  </thead>\n",
       "  <tbody>\n",
       "    <tr>\n",
       "      <td>V16</td>\n",
       "      <td>ON</td>\n",
       "      <td>09:36:00</td>\n",
       "      <td>08:35:00</td>\n",
       "    </tr>\n",
       "    <tr>\n",
       "      <td>V16</td>\n",
       "      <td>ON</td>\n",
       "      <td>09:36:00</td>\n",
       "      <td>08:35:00</td>\n",
       "    </tr>\n",
       "    <tr>\n",
       "      <td>V16</td>\n",
       "      <td>ON</td>\n",
       "      <td>09:36:00</td>\n",
       "      <td>08:35:00</td>\n",
       "    </tr>\n",
       "    <tr>\n",
       "      <td>V16</td>\n",
       "      <td>ON</td>\n",
       "      <td>09:36:00</td>\n",
       "      <td>08:35:00</td>\n",
       "    </tr>\n",
       "    <tr>\n",
       "      <td>V16</td>\n",
       "      <td>NaN</td>\n",
       "      <td>09:36:00</td>\n",
       "      <td>08:35:00</td>\n",
       "    </tr>\n",
       "    <tr>\n",
       "      <td>V16</td>\n",
       "      <td>NaN</td>\n",
       "      <td>09:36:00</td>\n",
       "      <td>08:35:00</td>\n",
       "    </tr>\n",
       "    <tr>\n",
       "      <td>V16</td>\n",
       "      <td>NaN</td>\n",
       "      <td>09:36:00</td>\n",
       "      <td>08:35:00</td>\n",
       "    </tr>\n",
       "    <tr>\n",
       "      <td>V16</td>\n",
       "      <td>NaN</td>\n",
       "      <td>09:36:00</td>\n",
       "      <td>08:35:00</td>\n",
       "    </tr>\n",
       "    <tr>\n",
       "      <td>V16</td>\n",
       "      <td>OFF</td>\n",
       "      <td>09:36:00</td>\n",
       "      <td>08:35:00</td>\n",
       "    </tr>\n",
       "    <tr>\n",
       "      <td>V16</td>\n",
       "      <td>OFF</td>\n",
       "      <td>09:36:00</td>\n",
       "      <td>08:35:00</td>\n",
       "    </tr>\n",
       "    <tr>\n",
       "      <td>V16</td>\n",
       "      <td>OFF</td>\n",
       "      <td>09:36:00</td>\n",
       "      <td>08:35:00</td>\n",
       "    </tr>\n",
       "    <tr>\n",
       "      <td>V16</td>\n",
       "      <td>OFF</td>\n",
       "      <td>09:36:00</td>\n",
       "      <td>08:35:00</td>\n",
       "    </tr>\n",
       "    <tr>\n",
       "      <td>V16</td>\n",
       "      <td>ON</td>\n",
       "      <td>09:36:00</td>\n",
       "      <td>08:35:00</td>\n",
       "    </tr>\n",
       "    <tr>\n",
       "      <td>V16</td>\n",
       "      <td>ON</td>\n",
       "      <td>09:36:00</td>\n",
       "      <td>08:35:00</td>\n",
       "    </tr>\n",
       "    <tr>\n",
       "      <td>V16</td>\n",
       "      <td>ON</td>\n",
       "      <td>09:36:00</td>\n",
       "      <td>08:35:00</td>\n",
       "    </tr>\n",
       "    <tr>\n",
       "      <td>V16</td>\n",
       "      <td>ON</td>\n",
       "      <td>09:36:00</td>\n",
       "      <td>08:35:00</td>\n",
       "    </tr>\n",
       "    <tr>\n",
       "      <td>V16</td>\n",
       "      <td>OFF</td>\n",
       "      <td>09:36:00</td>\n",
       "      <td>08:35:00</td>\n",
       "    </tr>\n",
       "    <tr>\n",
       "      <td>V16</td>\n",
       "      <td>OFF</td>\n",
       "      <td>09:36:00</td>\n",
       "      <td>08:35:00</td>\n",
       "    </tr>\n",
       "    <tr>\n",
       "      <td>V16</td>\n",
       "      <td>OFF</td>\n",
       "      <td>09:36:00</td>\n",
       "      <td>08:35:00</td>\n",
       "    </tr>\n",
       "    <tr>\n",
       "      <td>V16</td>\n",
       "      <td>OFF</td>\n",
       "      <td>09:36:00</td>\n",
       "      <td>08:35:00</td>\n",
       "    </tr>\n",
       "    <tr>\n",
       "      <td>V16</td>\n",
       "      <td>NaN</td>\n",
       "      <td>12:45:00</td>\n",
       "      <td>10:48:00</td>\n",
       "    </tr>\n",
       "    <tr>\n",
       "      <td>V16</td>\n",
       "      <td>NaN</td>\n",
       "      <td>12:45:00</td>\n",
       "      <td>10:48:00</td>\n",
       "    </tr>\n",
       "    <tr>\n",
       "      <td>V16</td>\n",
       "      <td>NaN</td>\n",
       "      <td>12:45:00</td>\n",
       "      <td>10:48:00</td>\n",
       "    </tr>\n",
       "    <tr>\n",
       "      <td>V16</td>\n",
       "      <td>NaN</td>\n",
       "      <td>12:45:00</td>\n",
       "      <td>10:48:00</td>\n",
       "    </tr>\n",
       "    <tr>\n",
       "      <td>V16</td>\n",
       "      <td>OFF</td>\n",
       "      <td>12:45:00</td>\n",
       "      <td>10:48:00</td>\n",
       "    </tr>\n",
       "    <tr>\n",
       "      <td>V16</td>\n",
       "      <td>OFF</td>\n",
       "      <td>12:45:00</td>\n",
       "      <td>10:48:00</td>\n",
       "    </tr>\n",
       "    <tr>\n",
       "      <td>V16</td>\n",
       "      <td>OFF</td>\n",
       "      <td>12:45:00</td>\n",
       "      <td>10:48:00</td>\n",
       "    </tr>\n",
       "    <tr>\n",
       "      <td>V16</td>\n",
       "      <td>OFF</td>\n",
       "      <td>12:45:00</td>\n",
       "      <td>10:48:00</td>\n",
       "    </tr>\n",
       "    <tr>\n",
       "      <td>V16</td>\n",
       "      <td>ON</td>\n",
       "      <td>12:45:00</td>\n",
       "      <td>10:48:00</td>\n",
       "    </tr>\n",
       "    <tr>\n",
       "      <td>V16</td>\n",
       "      <td>ON</td>\n",
       "      <td>12:45:00</td>\n",
       "      <td>10:48:00</td>\n",
       "    </tr>\n",
       "    <tr>\n",
       "      <td>V16</td>\n",
       "      <td>ON</td>\n",
       "      <td>12:45:00</td>\n",
       "      <td>10:48:00</td>\n",
       "    </tr>\n",
       "    <tr>\n",
       "      <td>V16</td>\n",
       "      <td>ON</td>\n",
       "      <td>12:45:00</td>\n",
       "      <td>10:48:00</td>\n",
       "    </tr>\n",
       "    <tr>\n",
       "      <td>V16</td>\n",
       "      <td>OFF</td>\n",
       "      <td>12:45:00</td>\n",
       "      <td>10:48:00</td>\n",
       "    </tr>\n",
       "    <tr>\n",
       "      <td>V16</td>\n",
       "      <td>OFF</td>\n",
       "      <td>12:45:00</td>\n",
       "      <td>10:48:00</td>\n",
       "    </tr>\n",
       "    <tr>\n",
       "      <td>V16</td>\n",
       "      <td>OFF</td>\n",
       "      <td>12:45:00</td>\n",
       "      <td>10:48:00</td>\n",
       "    </tr>\n",
       "    <tr>\n",
       "      <td>V16</td>\n",
       "      <td>OFF</td>\n",
       "      <td>12:45:00</td>\n",
       "      <td>10:48:00</td>\n",
       "    </tr>\n",
       "    <tr>\n",
       "      <td>V16</td>\n",
       "      <td>ON</td>\n",
       "      <td>12:45:00</td>\n",
       "      <td>10:48:00</td>\n",
       "    </tr>\n",
       "    <tr>\n",
       "      <td>V16</td>\n",
       "      <td>ON</td>\n",
       "      <td>12:45:00</td>\n",
       "      <td>10:48:00</td>\n",
       "    </tr>\n",
       "    <tr>\n",
       "      <td>V16</td>\n",
       "      <td>ON</td>\n",
       "      <td>12:45:00</td>\n",
       "      <td>10:48:00</td>\n",
       "    </tr>\n",
       "    <tr>\n",
       "      <td>V16</td>\n",
       "      <td>ON</td>\n",
       "      <td>12:45:00</td>\n",
       "      <td>10:48:00</td>\n",
       "    </tr>\n",
       "    <tr>\n",
       "      <td>V14</td>\n",
       "      <td>ON</td>\n",
       "      <td>12:00:00</td>\n",
       "      <td>10:20:00</td>\n",
       "    </tr>\n",
       "    <tr>\n",
       "      <td>V14</td>\n",
       "      <td>ON</td>\n",
       "      <td>12:00:00</td>\n",
       "      <td>10:20:00</td>\n",
       "    </tr>\n",
       "    <tr>\n",
       "      <td>V14</td>\n",
       "      <td>ON</td>\n",
       "      <td>12:00:00</td>\n",
       "      <td>10:20:00</td>\n",
       "    </tr>\n",
       "    <tr>\n",
       "      <td>V14</td>\n",
       "      <td>ON</td>\n",
       "      <td>12:00:00</td>\n",
       "      <td>10:20:00</td>\n",
       "    </tr>\n",
       "    <tr>\n",
       "      <td>V14</td>\n",
       "      <td>OFF</td>\n",
       "      <td>12:00:00</td>\n",
       "      <td>10:20:00</td>\n",
       "    </tr>\n",
       "    <tr>\n",
       "      <td>V14</td>\n",
       "      <td>OFF</td>\n",
       "      <td>12:00:00</td>\n",
       "      <td>10:20:00</td>\n",
       "    </tr>\n",
       "    <tr>\n",
       "      <td>V14</td>\n",
       "      <td>OFF</td>\n",
       "      <td>12:00:00</td>\n",
       "      <td>10:20:00</td>\n",
       "    </tr>\n",
       "    <tr>\n",
       "      <td>V14</td>\n",
       "      <td>OFF</td>\n",
       "      <td>12:00:00</td>\n",
       "      <td>10:20:00</td>\n",
       "    </tr>\n",
       "    <tr>\n",
       "      <td>V14</td>\n",
       "      <td>ON</td>\n",
       "      <td>12:00:00</td>\n",
       "      <td>10:20:00</td>\n",
       "    </tr>\n",
       "    <tr>\n",
       "      <td>V14</td>\n",
       "      <td>ON</td>\n",
       "      <td>12:00:00</td>\n",
       "      <td>10:20:00</td>\n",
       "    </tr>\n",
       "    <tr>\n",
       "      <td>V14</td>\n",
       "      <td>ON</td>\n",
       "      <td>12:00:00</td>\n",
       "      <td>10:20:00</td>\n",
       "    </tr>\n",
       "    <tr>\n",
       "      <td>V14</td>\n",
       "      <td>ON</td>\n",
       "      <td>12:00:00</td>\n",
       "      <td>10:20:00</td>\n",
       "    </tr>\n",
       "    <tr>\n",
       "      <td>V14</td>\n",
       "      <td>OFF</td>\n",
       "      <td>12:00:00</td>\n",
       "      <td>10:20:00</td>\n",
       "    </tr>\n",
       "    <tr>\n",
       "      <td>V14</td>\n",
       "      <td>OFF</td>\n",
       "      <td>12:00:00</td>\n",
       "      <td>10:20:00</td>\n",
       "    </tr>\n",
       "    <tr>\n",
       "      <td>V14</td>\n",
       "      <td>OFF</td>\n",
       "      <td>12:00:00</td>\n",
       "      <td>10:20:00</td>\n",
       "    </tr>\n",
       "    <tr>\n",
       "      <td>V14</td>\n",
       "      <td>OFF</td>\n",
       "      <td>12:00:00</td>\n",
       "      <td>10:20:00</td>\n",
       "    </tr>\n",
       "    <tr>\n",
       "      <td>V14</td>\n",
       "      <td>NaN</td>\n",
       "      <td>12:00:00</td>\n",
       "      <td>10:20:00</td>\n",
       "    </tr>\n",
       "    <tr>\n",
       "      <td>V14</td>\n",
       "      <td>NaN</td>\n",
       "      <td>12:00:00</td>\n",
       "      <td>10:20:00</td>\n",
       "    </tr>\n",
       "    <tr>\n",
       "      <td>V14</td>\n",
       "      <td>NaN</td>\n",
       "      <td>12:00:00</td>\n",
       "      <td>10:20:00</td>\n",
       "    </tr>\n",
       "    <tr>\n",
       "      <td>V14</td>\n",
       "      <td>NaN</td>\n",
       "      <td>12:00:00</td>\n",
       "      <td>10:20:00</td>\n",
       "    </tr>\n",
       "    <tr>\n",
       "      <td>V13</td>\n",
       "      <td>ON</td>\n",
       "      <td>10:40:00</td>\n",
       "      <td>09:18:00</td>\n",
       "    </tr>\n",
       "    <tr>\n",
       "      <td>V13</td>\n",
       "      <td>ON</td>\n",
       "      <td>10:40:00</td>\n",
       "      <td>09:18:00</td>\n",
       "    </tr>\n",
       "    <tr>\n",
       "      <td>V13</td>\n",
       "      <td>ON</td>\n",
       "      <td>10:40:00</td>\n",
       "      <td>09:18:00</td>\n",
       "    </tr>\n",
       "    <tr>\n",
       "      <td>V13</td>\n",
       "      <td>ON</td>\n",
       "      <td>10:40:00</td>\n",
       "      <td>09:18:00</td>\n",
       "    </tr>\n",
       "    <tr>\n",
       "      <td>V13</td>\n",
       "      <td>OFF</td>\n",
       "      <td>10:40:00</td>\n",
       "      <td>09:18:00</td>\n",
       "    </tr>\n",
       "    <tr>\n",
       "      <td>V13</td>\n",
       "      <td>OFF</td>\n",
       "      <td>10:40:00</td>\n",
       "      <td>09:18:00</td>\n",
       "    </tr>\n",
       "    <tr>\n",
       "      <td>V13</td>\n",
       "      <td>OFF</td>\n",
       "      <td>10:40:00</td>\n",
       "      <td>09:18:00</td>\n",
       "    </tr>\n",
       "    <tr>\n",
       "      <td>V13</td>\n",
       "      <td>OFF</td>\n",
       "      <td>10:40:00</td>\n",
       "      <td>09:18:00</td>\n",
       "    </tr>\n",
       "    <tr>\n",
       "      <td>V13</td>\n",
       "      <td>NaN</td>\n",
       "      <td>10:40:00</td>\n",
       "      <td>09:18:00</td>\n",
       "    </tr>\n",
       "    <tr>\n",
       "      <td>V13</td>\n",
       "      <td>NaN</td>\n",
       "      <td>10:40:00</td>\n",
       "      <td>09:18:00</td>\n",
       "    </tr>\n",
       "    <tr>\n",
       "      <td>V13</td>\n",
       "      <td>NaN</td>\n",
       "      <td>10:40:00</td>\n",
       "      <td>09:18:00</td>\n",
       "    </tr>\n",
       "    <tr>\n",
       "      <td>V13</td>\n",
       "      <td>NaN</td>\n",
       "      <td>10:40:00</td>\n",
       "      <td>09:18:00</td>\n",
       "    </tr>\n",
       "    <tr>\n",
       "      <td>V13</td>\n",
       "      <td>OFF</td>\n",
       "      <td>10:40:00</td>\n",
       "      <td>09:18:00</td>\n",
       "    </tr>\n",
       "    <tr>\n",
       "      <td>V13</td>\n",
       "      <td>OFF</td>\n",
       "      <td>10:40:00</td>\n",
       "      <td>09:18:00</td>\n",
       "    </tr>\n",
       "    <tr>\n",
       "      <td>V13</td>\n",
       "      <td>OFF</td>\n",
       "      <td>10:40:00</td>\n",
       "      <td>09:18:00</td>\n",
       "    </tr>\n",
       "    <tr>\n",
       "      <td>V13</td>\n",
       "      <td>OFF</td>\n",
       "      <td>10:40:00</td>\n",
       "      <td>09:18:00</td>\n",
       "    </tr>\n",
       "    <tr>\n",
       "      <td>V13</td>\n",
       "      <td>ON</td>\n",
       "      <td>10:40:00</td>\n",
       "      <td>09:18:00</td>\n",
       "    </tr>\n",
       "    <tr>\n",
       "      <td>V13</td>\n",
       "      <td>ON</td>\n",
       "      <td>10:40:00</td>\n",
       "      <td>09:18:00</td>\n",
       "    </tr>\n",
       "    <tr>\n",
       "      <td>V13</td>\n",
       "      <td>ON</td>\n",
       "      <td>10:40:00</td>\n",
       "      <td>09:18:00</td>\n",
       "    </tr>\n",
       "    <tr>\n",
       "      <td>V13</td>\n",
       "      <td>ON</td>\n",
       "      <td>10:40:00</td>\n",
       "      <td>09:18:00</td>\n",
       "    </tr>\n",
       "    <tr>\n",
       "      <td>V04</td>\n",
       "      <td>ON</td>\n",
       "      <td>14:00:00</td>\n",
       "      <td>NaN</td>\n",
       "    </tr>\n",
       "    <tr>\n",
       "      <td>V04</td>\n",
       "      <td>ON</td>\n",
       "      <td>12:15:00</td>\n",
       "      <td>NaN</td>\n",
       "    </tr>\n",
       "    <tr>\n",
       "      <td>V04</td>\n",
       "      <td>ON</td>\n",
       "      <td>14:00:00</td>\n",
       "      <td>NaN</td>\n",
       "    </tr>\n",
       "    <tr>\n",
       "      <td>V04</td>\n",
       "      <td>ON</td>\n",
       "      <td>12:15:00</td>\n",
       "      <td>NaN</td>\n",
       "    </tr>\n",
       "    <tr>\n",
       "      <td>V12</td>\n",
       "      <td>OFF</td>\n",
       "      <td>NaN</td>\n",
       "      <td>10:05:00</td>\n",
       "    </tr>\n",
       "    <tr>\n",
       "      <td>V12</td>\n",
       "      <td>OFF</td>\n",
       "      <td>NaN</td>\n",
       "      <td>10:05:00</td>\n",
       "    </tr>\n",
       "    <tr>\n",
       "      <td>V12</td>\n",
       "      <td>OFF</td>\n",
       "      <td>NaN</td>\n",
       "      <td>10:05:00</td>\n",
       "    </tr>\n",
       "    <tr>\n",
       "      <td>V12</td>\n",
       "      <td>OFF</td>\n",
       "      <td>NaN</td>\n",
       "      <td>10:05:00</td>\n",
       "    </tr>\n",
       "    <tr>\n",
       "      <td>V12</td>\n",
       "      <td>ON</td>\n",
       "      <td>NaN</td>\n",
       "      <td>10:05:00</td>\n",
       "    </tr>\n",
       "    <tr>\n",
       "      <td>V12</td>\n",
       "      <td>ON</td>\n",
       "      <td>NaN</td>\n",
       "      <td>10:05:00</td>\n",
       "    </tr>\n",
       "    <tr>\n",
       "      <td>V12</td>\n",
       "      <td>ON</td>\n",
       "      <td>NaN</td>\n",
       "      <td>10:05:00</td>\n",
       "    </tr>\n",
       "    <tr>\n",
       "      <td>V12</td>\n",
       "      <td>ON</td>\n",
       "      <td>NaN</td>\n",
       "      <td>10:05:00</td>\n",
       "    </tr>\n",
       "    <tr>\n",
       "      <td>V12</td>\n",
       "      <td>OFF</td>\n",
       "      <td>NaN</td>\n",
       "      <td>10:05:00</td>\n",
       "    </tr>\n",
       "    <tr>\n",
       "      <td>V12</td>\n",
       "      <td>OFF</td>\n",
       "      <td>NaN</td>\n",
       "      <td>10:05:00</td>\n",
       "    </tr>\n",
       "    <tr>\n",
       "      <td>V12</td>\n",
       "      <td>OFF</td>\n",
       "      <td>NaN</td>\n",
       "      <td>10:05:00</td>\n",
       "    </tr>\n",
       "    <tr>\n",
       "      <td>V12</td>\n",
       "      <td>OFF</td>\n",
       "      <td>NaN</td>\n",
       "      <td>10:05:00</td>\n",
       "    </tr>\n",
       "    <tr>\n",
       "      <td>V12</td>\n",
       "      <td>NaN</td>\n",
       "      <td>NaN</td>\n",
       "      <td>10:05:00</td>\n",
       "    </tr>\n",
       "    <tr>\n",
       "      <td>V12</td>\n",
       "      <td>NaN</td>\n",
       "      <td>NaN</td>\n",
       "      <td>10:05:00</td>\n",
       "    </tr>\n",
       "    <tr>\n",
       "      <td>V12</td>\n",
       "      <td>NaN</td>\n",
       "      <td>NaN</td>\n",
       "      <td>10:05:00</td>\n",
       "    </tr>\n",
       "    <tr>\n",
       "      <td>V12</td>\n",
       "      <td>NaN</td>\n",
       "      <td>NaN</td>\n",
       "      <td>10:05:00</td>\n",
       "    </tr>\n",
       "    <tr>\n",
       "      <td>V12</td>\n",
       "      <td>ON</td>\n",
       "      <td>NaN</td>\n",
       "      <td>10:05:00</td>\n",
       "    </tr>\n",
       "    <tr>\n",
       "      <td>V12</td>\n",
       "      <td>ON</td>\n",
       "      <td>NaN</td>\n",
       "      <td>10:05:00</td>\n",
       "    </tr>\n",
       "    <tr>\n",
       "      <td>V12</td>\n",
       "      <td>ON</td>\n",
       "      <td>NaN</td>\n",
       "      <td>10:05:00</td>\n",
       "    </tr>\n",
       "    <tr>\n",
       "      <td>V12</td>\n",
       "      <td>ON</td>\n",
       "      <td>NaN</td>\n",
       "      <td>10:05:00</td>\n",
       "    </tr>\n",
       "    <tr>\n",
       "      <td>V08</td>\n",
       "      <td>NaN</td>\n",
       "      <td>NaN</td>\n",
       "      <td>NaN</td>\n",
       "    </tr>\n",
       "    <tr>\n",
       "      <td>V08</td>\n",
       "      <td>ON</td>\n",
       "      <td>NaN</td>\n",
       "      <td>NaN</td>\n",
       "    </tr>\n",
       "    <tr>\n",
       "      <td>V08</td>\n",
       "      <td>OFF</td>\n",
       "      <td>NaN</td>\n",
       "      <td>NaN</td>\n",
       "    </tr>\n",
       "  </tbody>\n",
       "</table>"
      ],
      "text/plain": [
       "<IPython.core.display.HTML object>"
      ]
     },
     "execution_count": 13,
     "metadata": {},
     "output_type": "execute_result"
    }
   ],
   "source": [
    "pb = df.groupby([\"PATNO\", \"EVENT_ID\"]).filter(lambda x: len(x) > 2)\n",
    "pb_trunc = pb[[\"EVENT_ID\", \"PDSTATE\", \"ONEXAMTM\", \"OFFEXAMTM\"]]\n",
    "from IPython.display import HTML\n",
    "\n",
    "HTML(pb_trunc.to_html(index=False))"
   ]
  },
  {
   "cell_type": "markdown",
   "metadata": {
    "slideshow": {
     "slide_type": "fragment"
    }
   },
   "source": [
    "<div class=\"alert alert-block alert-success\">\n",
    "  \t&#10003;   <b>Proposed correction:</b> remove exam with ONEXAMTM=NaN and OFFEXAMTM=NaN and PDSTATE=NaN when visit has 3 exams.\n",
    "</div>"
   ]
  },
  {
   "cell_type": "markdown",
   "metadata": {
    "slideshow": {
     "slide_type": "slide"
    }
   },
   "source": [
    "⚙️ Implementation"
   ]
  },
  {
   "cell_type": "code",
   "execution_count": 14,
   "metadata": {},
   "outputs": [
    {
     "name": "stdout",
     "output_type": "stream",
     "text": [
      "Number of removed records: 1\n"
     ]
    }
   ],
   "source": [
    "a = df.groupby([\"PATNO\", \"EVENT_ID\"]).filter(lambda x: len(x) > 2)\n",
    "index = (\n",
    "    a[(a[\"PDSTATE\"].isnull()) & (a[\"ONEXAMTM\"].isnull()) & (a[\"OFFEXAMTM\"].isnull())]\n",
    ").index\n",
    "\n",
    "before_len = len(df)\n",
    "df = df[~df.index.isin(index)]\n",
    "print(f\"Number of removed records: {before_len-len(df)}\")"
   ]
  },
  {
   "cell_type": "markdown",
   "metadata": {},
   "source": [
    "Let's verify that the inconsistency is solved by counting the number of records that belong to a visit with more than 3 exams:"
   ]
  },
  {
   "cell_type": "code",
   "execution_count": 15,
   "metadata": {},
   "outputs": [
    {
     "data": {
      "text/plain": [
       "104"
      ]
     },
     "execution_count": 15,
     "metadata": {},
     "output_type": "execute_result"
    }
   ],
   "source": [
    "pb = df.groupby([\"PATNO\", \"EVENT_ID\"]).filter(lambda x: len(x) > 2)\n",
    "len(pb)"
   ]
  },
  {
   "cell_type": "markdown",
   "metadata": {},
   "source": [
    "There are still records that belong to a visit with more than 3 exams."
   ]
  },
  {
   "cell_type": "markdown",
   "metadata": {
    "slideshow": {
     "slide_type": "fragment"
    }
   },
   "source": [
    "<div class=\"alert alert-block alert-success\">\n",
    "  \t&#10003;   <b>Proposed correction:</b> remove duplicated records.\n",
    "</div>"
   ]
  },
  {
   "cell_type": "markdown",
   "metadata": {
    "slideshow": {
     "slide_type": "slide"
    }
   },
   "source": [
    "⚙️ Implementation"
   ]
  },
  {
   "cell_type": "code",
   "execution_count": 16,
   "metadata": {},
   "outputs": [
    {
     "name": "stdout",
     "output_type": "stream",
     "text": [
      "Number of removed records: 60\n"
     ]
    }
   ],
   "source": [
    "before_len = len(df)\n",
    "df = df[~df.drop([\"REC_ID\"], axis=1).duplicated(keep=\"first\")]\n",
    "print(f\"Number of removed records: {before_len-len(df)}\")"
   ]
  },
  {
   "cell_type": "markdown",
   "metadata": {},
   "source": [
    "There are still records that belong to a visit with more than 3 exams. The corresponding visits all have 2 exams with PDSTATE=OFF, however, only one of these visits has HRPOSTMED != NaN. "
   ]
  },
  {
   "cell_type": "code",
   "execution_count": 17,
   "metadata": {},
   "outputs": [
    {
     "data": {
      "text/html": [
       "<div>\n",
       "<style scoped>\n",
       "    .dataframe tbody tr th:only-of-type {\n",
       "        vertical-align: middle;\n",
       "    }\n",
       "\n",
       "    .dataframe tbody tr th {\n",
       "        vertical-align: top;\n",
       "    }\n",
       "\n",
       "    .dataframe thead th {\n",
       "        text-align: right;\n",
       "    }\n",
       "</style>\n",
       "<table border=\"1\" class=\"dataframe\">\n",
       "  <thead>\n",
       "    <tr style=\"text-align: right;\">\n",
       "      <th></th>\n",
       "      <th>EVENT_ID</th>\n",
       "      <th>PDSTATE</th>\n",
       "      <th>HRPOSTMED</th>\n",
       "      <th>OFFPDMEDDT</th>\n",
       "      <th>OFFPDMEDTM</th>\n",
       "    </tr>\n",
       "  </thead>\n",
       "  <tbody>\n",
       "    <tr>\n",
       "      <th>1300</th>\n",
       "      <td>V16</td>\n",
       "      <td>ON</td>\n",
       "      <td>0.4500</td>\n",
       "      <td>09/2021</td>\n",
       "      <td>17:30:00</td>\n",
       "    </tr>\n",
       "    <tr>\n",
       "      <th>1302</th>\n",
       "      <td>V16</td>\n",
       "      <td>ON</td>\n",
       "      <td>0.4500</td>\n",
       "      <td>09/2021</td>\n",
       "      <td>17:30:00</td>\n",
       "    </tr>\n",
       "    <tr>\n",
       "      <th>1304</th>\n",
       "      <td>V16</td>\n",
       "      <td>NaN</td>\n",
       "      <td>NaN</td>\n",
       "      <td>09/2021</td>\n",
       "      <td>17:30:00</td>\n",
       "    </tr>\n",
       "    <tr>\n",
       "      <th>1306</th>\n",
       "      <td>V16</td>\n",
       "      <td>NaN</td>\n",
       "      <td>NaN</td>\n",
       "      <td>09/2021</td>\n",
       "      <td>17:30:00</td>\n",
       "    </tr>\n",
       "    <tr>\n",
       "      <th>1308</th>\n",
       "      <td>V16</td>\n",
       "      <td>OFF</td>\n",
       "      <td>NaN</td>\n",
       "      <td>09/2021</td>\n",
       "      <td>17:30:00</td>\n",
       "    </tr>\n",
       "    <tr>\n",
       "      <th>1310</th>\n",
       "      <td>V16</td>\n",
       "      <td>OFF</td>\n",
       "      <td>NaN</td>\n",
       "      <td>09/2021</td>\n",
       "      <td>17:30:00</td>\n",
       "    </tr>\n",
       "    <tr>\n",
       "      <th>1316</th>\n",
       "      <td>V16</td>\n",
       "      <td>OFF</td>\n",
       "      <td>15.0833</td>\n",
       "      <td>09/2021</td>\n",
       "      <td>17:30:00</td>\n",
       "    </tr>\n",
       "    <tr>\n",
       "      <th>1318</th>\n",
       "      <td>V16</td>\n",
       "      <td>OFF</td>\n",
       "      <td>15.0833</td>\n",
       "      <td>09/2021</td>\n",
       "      <td>17:30:00</td>\n",
       "    </tr>\n",
       "    <tr>\n",
       "      <th>9071</th>\n",
       "      <td>V16</td>\n",
       "      <td>NaN</td>\n",
       "      <td>NaN</td>\n",
       "      <td>04/2021</td>\n",
       "      <td>23:00:00</td>\n",
       "    </tr>\n",
       "    <tr>\n",
       "      <th>9073</th>\n",
       "      <td>V16</td>\n",
       "      <td>NaN</td>\n",
       "      <td>NaN</td>\n",
       "      <td>04/2021</td>\n",
       "      <td>23:00:00</td>\n",
       "    </tr>\n",
       "    <tr>\n",
       "      <th>9075</th>\n",
       "      <td>V16</td>\n",
       "      <td>OFF</td>\n",
       "      <td>11.8000</td>\n",
       "      <td>04/2021</td>\n",
       "      <td>23:00:00</td>\n",
       "    </tr>\n",
       "    <tr>\n",
       "      <th>9077</th>\n",
       "      <td>V16</td>\n",
       "      <td>OFF</td>\n",
       "      <td>11.8000</td>\n",
       "      <td>04/2021</td>\n",
       "      <td>23:00:00</td>\n",
       "    </tr>\n",
       "    <tr>\n",
       "      <th>9079</th>\n",
       "      <td>V16</td>\n",
       "      <td>ON</td>\n",
       "      <td>1.5000</td>\n",
       "      <td>04/2021</td>\n",
       "      <td>23:00:00</td>\n",
       "    </tr>\n",
       "    <tr>\n",
       "      <th>9081</th>\n",
       "      <td>V16</td>\n",
       "      <td>ON</td>\n",
       "      <td>1.5000</td>\n",
       "      <td>04/2021</td>\n",
       "      <td>23:00:00</td>\n",
       "    </tr>\n",
       "    <tr>\n",
       "      <th>9083</th>\n",
       "      <td>V16</td>\n",
       "      <td>OFF</td>\n",
       "      <td>NaN</td>\n",
       "      <td>04/2021</td>\n",
       "      <td>23:00:00</td>\n",
       "    </tr>\n",
       "    <tr>\n",
       "      <th>9085</th>\n",
       "      <td>V16</td>\n",
       "      <td>OFF</td>\n",
       "      <td>NaN</td>\n",
       "      <td>04/2021</td>\n",
       "      <td>23:00:00</td>\n",
       "    </tr>\n",
       "    <tr>\n",
       "      <th>12811</th>\n",
       "      <td>V14</td>\n",
       "      <td>ON</td>\n",
       "      <td>1.5000</td>\n",
       "      <td>01/2022</td>\n",
       "      <td>21:00:00</td>\n",
       "    </tr>\n",
       "    <tr>\n",
       "      <th>12813</th>\n",
       "      <td>V14</td>\n",
       "      <td>ON</td>\n",
       "      <td>1.5000</td>\n",
       "      <td>01/2022</td>\n",
       "      <td>21:00:00</td>\n",
       "    </tr>\n",
       "    <tr>\n",
       "      <th>12815</th>\n",
       "      <td>V14</td>\n",
       "      <td>OFF</td>\n",
       "      <td>NaN</td>\n",
       "      <td>01/2022</td>\n",
       "      <td>21:00:00</td>\n",
       "    </tr>\n",
       "    <tr>\n",
       "      <th>12817</th>\n",
       "      <td>V14</td>\n",
       "      <td>OFF</td>\n",
       "      <td>NaN</td>\n",
       "      <td>01/2022</td>\n",
       "      <td>21:00:00</td>\n",
       "    </tr>\n",
       "    <tr>\n",
       "      <th>12823</th>\n",
       "      <td>V14</td>\n",
       "      <td>OFF</td>\n",
       "      <td>13.3333</td>\n",
       "      <td>01/2022</td>\n",
       "      <td>21:00:00</td>\n",
       "    </tr>\n",
       "    <tr>\n",
       "      <th>12825</th>\n",
       "      <td>V14</td>\n",
       "      <td>OFF</td>\n",
       "      <td>13.3333</td>\n",
       "      <td>01/2022</td>\n",
       "      <td>21:00:00</td>\n",
       "    </tr>\n",
       "    <tr>\n",
       "      <th>12827</th>\n",
       "      <td>V14</td>\n",
       "      <td>NaN</td>\n",
       "      <td>NaN</td>\n",
       "      <td>01/2022</td>\n",
       "      <td>21:00:00</td>\n",
       "    </tr>\n",
       "    <tr>\n",
       "      <th>12829</th>\n",
       "      <td>V14</td>\n",
       "      <td>NaN</td>\n",
       "      <td>NaN</td>\n",
       "      <td>01/2022</td>\n",
       "      <td>21:00:00</td>\n",
       "    </tr>\n",
       "    <tr>\n",
       "      <th>14240</th>\n",
       "      <td>V13</td>\n",
       "      <td>ON</td>\n",
       "      <td>1.0000</td>\n",
       "      <td>09/2021</td>\n",
       "      <td>22:00:00</td>\n",
       "    </tr>\n",
       "    <tr>\n",
       "      <th>14242</th>\n",
       "      <td>V13</td>\n",
       "      <td>ON</td>\n",
       "      <td>1.0000</td>\n",
       "      <td>09/2021</td>\n",
       "      <td>22:00:00</td>\n",
       "    </tr>\n",
       "    <tr>\n",
       "      <th>14244</th>\n",
       "      <td>V13</td>\n",
       "      <td>OFF</td>\n",
       "      <td>11.3000</td>\n",
       "      <td>09/2021</td>\n",
       "      <td>22:00:00</td>\n",
       "    </tr>\n",
       "    <tr>\n",
       "      <th>14246</th>\n",
       "      <td>V13</td>\n",
       "      <td>OFF</td>\n",
       "      <td>11.3000</td>\n",
       "      <td>09/2021</td>\n",
       "      <td>22:00:00</td>\n",
       "    </tr>\n",
       "    <tr>\n",
       "      <th>14248</th>\n",
       "      <td>V13</td>\n",
       "      <td>NaN</td>\n",
       "      <td>NaN</td>\n",
       "      <td>09/2021</td>\n",
       "      <td>22:00:00</td>\n",
       "    </tr>\n",
       "    <tr>\n",
       "      <th>14250</th>\n",
       "      <td>V13</td>\n",
       "      <td>NaN</td>\n",
       "      <td>NaN</td>\n",
       "      <td>09/2021</td>\n",
       "      <td>22:00:00</td>\n",
       "    </tr>\n",
       "    <tr>\n",
       "      <th>14252</th>\n",
       "      <td>V13</td>\n",
       "      <td>OFF</td>\n",
       "      <td>NaN</td>\n",
       "      <td>09/2021</td>\n",
       "      <td>22:00:00</td>\n",
       "    </tr>\n",
       "    <tr>\n",
       "      <th>14254</th>\n",
       "      <td>V13</td>\n",
       "      <td>OFF</td>\n",
       "      <td>NaN</td>\n",
       "      <td>09/2021</td>\n",
       "      <td>22:00:00</td>\n",
       "    </tr>\n",
       "    <tr>\n",
       "      <th>14312</th>\n",
       "      <td>V04</td>\n",
       "      <td>ON</td>\n",
       "      <td>28.0000</td>\n",
       "      <td>NaN</td>\n",
       "      <td>NaN</td>\n",
       "    </tr>\n",
       "    <tr>\n",
       "      <th>14313</th>\n",
       "      <td>V04</td>\n",
       "      <td>ON</td>\n",
       "      <td>28.0000</td>\n",
       "      <td>NaN</td>\n",
       "      <td>NaN</td>\n",
       "    </tr>\n",
       "    <tr>\n",
       "      <th>14314</th>\n",
       "      <td>V04</td>\n",
       "      <td>ON</td>\n",
       "      <td>2.2500</td>\n",
       "      <td>NaN</td>\n",
       "      <td>NaN</td>\n",
       "    </tr>\n",
       "    <tr>\n",
       "      <th>14315</th>\n",
       "      <td>V04</td>\n",
       "      <td>ON</td>\n",
       "      <td>2.2500</td>\n",
       "      <td>NaN</td>\n",
       "      <td>NaN</td>\n",
       "    </tr>\n",
       "    <tr>\n",
       "      <th>14962</th>\n",
       "      <td>V12</td>\n",
       "      <td>OFF</td>\n",
       "      <td>14.0833</td>\n",
       "      <td>09/2020</td>\n",
       "      <td>20:00:00</td>\n",
       "    </tr>\n",
       "    <tr>\n",
       "      <th>14964</th>\n",
       "      <td>V12</td>\n",
       "      <td>OFF</td>\n",
       "      <td>14.0833</td>\n",
       "      <td>09/2020</td>\n",
       "      <td>20:00:00</td>\n",
       "    </tr>\n",
       "    <tr>\n",
       "      <th>14966</th>\n",
       "      <td>V12</td>\n",
       "      <td>ON</td>\n",
       "      <td>NaN</td>\n",
       "      <td>09/2020</td>\n",
       "      <td>20:00:00</td>\n",
       "    </tr>\n",
       "    <tr>\n",
       "      <th>14968</th>\n",
       "      <td>V12</td>\n",
       "      <td>ON</td>\n",
       "      <td>NaN</td>\n",
       "      <td>09/2020</td>\n",
       "      <td>20:00:00</td>\n",
       "    </tr>\n",
       "    <tr>\n",
       "      <th>14970</th>\n",
       "      <td>V12</td>\n",
       "      <td>OFF</td>\n",
       "      <td>NaN</td>\n",
       "      <td>09/2020</td>\n",
       "      <td>20:00:00</td>\n",
       "    </tr>\n",
       "    <tr>\n",
       "      <th>14972</th>\n",
       "      <td>V12</td>\n",
       "      <td>OFF</td>\n",
       "      <td>NaN</td>\n",
       "      <td>09/2020</td>\n",
       "      <td>20:00:00</td>\n",
       "    </tr>\n",
       "    <tr>\n",
       "      <th>14974</th>\n",
       "      <td>V12</td>\n",
       "      <td>NaN</td>\n",
       "      <td>NaN</td>\n",
       "      <td>09/2020</td>\n",
       "      <td>20:00:00</td>\n",
       "    </tr>\n",
       "    <tr>\n",
       "      <th>14976</th>\n",
       "      <td>V12</td>\n",
       "      <td>NaN</td>\n",
       "      <td>NaN</td>\n",
       "      <td>09/2020</td>\n",
       "      <td>20:00:00</td>\n",
       "    </tr>\n",
       "  </tbody>\n",
       "</table>\n",
       "</div>"
      ],
      "text/plain": [
       "      EVENT_ID PDSTATE  HRPOSTMED OFFPDMEDDT OFFPDMEDTM\n",
       "1300       V16      ON     0.4500    09/2021   17:30:00\n",
       "1302       V16      ON     0.4500    09/2021   17:30:00\n",
       "1304       V16     NaN        NaN    09/2021   17:30:00\n",
       "1306       V16     NaN        NaN    09/2021   17:30:00\n",
       "1308       V16     OFF        NaN    09/2021   17:30:00\n",
       "1310       V16     OFF        NaN    09/2021   17:30:00\n",
       "1316       V16     OFF    15.0833    09/2021   17:30:00\n",
       "1318       V16     OFF    15.0833    09/2021   17:30:00\n",
       "9071       V16     NaN        NaN    04/2021   23:00:00\n",
       "9073       V16     NaN        NaN    04/2021   23:00:00\n",
       "9075       V16     OFF    11.8000    04/2021   23:00:00\n",
       "9077       V16     OFF    11.8000    04/2021   23:00:00\n",
       "9079       V16      ON     1.5000    04/2021   23:00:00\n",
       "9081       V16      ON     1.5000    04/2021   23:00:00\n",
       "9083       V16     OFF        NaN    04/2021   23:00:00\n",
       "9085       V16     OFF        NaN    04/2021   23:00:00\n",
       "12811      V14      ON     1.5000    01/2022   21:00:00\n",
       "12813      V14      ON     1.5000    01/2022   21:00:00\n",
       "12815      V14     OFF        NaN    01/2022   21:00:00\n",
       "12817      V14     OFF        NaN    01/2022   21:00:00\n",
       "12823      V14     OFF    13.3333    01/2022   21:00:00\n",
       "12825      V14     OFF    13.3333    01/2022   21:00:00\n",
       "12827      V14     NaN        NaN    01/2022   21:00:00\n",
       "12829      V14     NaN        NaN    01/2022   21:00:00\n",
       "14240      V13      ON     1.0000    09/2021   22:00:00\n",
       "14242      V13      ON     1.0000    09/2021   22:00:00\n",
       "14244      V13     OFF    11.3000    09/2021   22:00:00\n",
       "14246      V13     OFF    11.3000    09/2021   22:00:00\n",
       "14248      V13     NaN        NaN    09/2021   22:00:00\n",
       "14250      V13     NaN        NaN    09/2021   22:00:00\n",
       "14252      V13     OFF        NaN    09/2021   22:00:00\n",
       "14254      V13     OFF        NaN    09/2021   22:00:00\n",
       "14312      V04      ON    28.0000        NaN        NaN\n",
       "14313      V04      ON    28.0000        NaN        NaN\n",
       "14314      V04      ON     2.2500        NaN        NaN\n",
       "14315      V04      ON     2.2500        NaN        NaN\n",
       "14962      V12     OFF    14.0833    09/2020   20:00:00\n",
       "14964      V12     OFF    14.0833    09/2020   20:00:00\n",
       "14966      V12      ON        NaN    09/2020   20:00:00\n",
       "14968      V12      ON        NaN    09/2020   20:00:00\n",
       "14970      V12     OFF        NaN    09/2020   20:00:00\n",
       "14972      V12     OFF        NaN    09/2020   20:00:00\n",
       "14974      V12     NaN        NaN    09/2020   20:00:00\n",
       "14976      V12     NaN        NaN    09/2020   20:00:00"
      ]
     },
     "execution_count": 17,
     "metadata": {},
     "output_type": "execute_result"
    }
   ],
   "source": [
    "pb = df.groupby([\"PATNO\", \"EVENT_ID\"]).filter(lambda x: len(x) > 2)\n",
    "pb[[\"EVENT_ID\", \"PDSTATE\", \"HRPOSTMED\", \"OFFPDMEDDT\", \"OFFPDMEDTM\"]]"
   ]
  },
  {
   "cell_type": "markdown",
   "metadata": {
    "slideshow": {
     "slide_type": "fragment"
    }
   },
   "source": [
    "<div class=\"alert alert-block alert-success\">\n",
    "  \t&#10003;   <b>Proposed correction:</b> remove exam with HRPOSTMED=NaN and PDSTATE=OFF when visit has 3 exams.\n",
    "</div>"
   ]
  },
  {
   "cell_type": "markdown",
   "metadata": {
    "slideshow": {
     "slide_type": "slide"
    }
   },
   "source": [
    "⚙️ Implementation"
   ]
  },
  {
   "cell_type": "code",
   "execution_count": 18,
   "metadata": {
    "scrolled": true
   },
   "outputs": [
    {
     "name": "stdout",
     "output_type": "stream",
     "text": [
      "Number of removed records: 10\n"
     ]
    }
   ],
   "source": [
    "a = df.groupby([\"PATNO\", \"EVENT_ID\"]).filter(lambda x: len(x) > 2)\n",
    "index = (a[(a[\"HRPOSTMED\"].isnull()) & (a[\"PDSTATE\"] == \"OFF\")]).index\n",
    "\n",
    "before_len = len(df)\n",
    "df = df[~df.index.isin(index)]\n",
    "print(f\"Number of removed records: {before_len-len(df)}\")"
   ]
  },
  {
   "cell_type": "markdown",
   "metadata": {},
   "source": [
    "Let's verify that the inconsistency is solved by counting the number of records that belong to a visit with more than 3 exams:"
   ]
  },
  {
   "cell_type": "code",
   "execution_count": 19,
   "metadata": {},
   "outputs": [
    {
     "data": {
      "text/plain": [
       "34"
      ]
     },
     "execution_count": 19,
     "metadata": {},
     "output_type": "execute_result"
    }
   ],
   "source": [
    "pb = df.groupby([\"PATNO\", \"EVENT_ID\"]).filter(lambda x: len(x) > 2)\n",
    "len(pb)"
   ]
  },
  {
   "cell_type": "markdown",
   "metadata": {
    "slideshow": {
     "slide_type": "slide"
    }
   },
   "source": [
    "# 🕵️ Imputation of missing PDSTATE or PDTRTMNT"
   ]
  },
  {
   "cell_type": "markdown",
   "metadata": {
    "slideshow": {
     "slide_type": "fragment"
    }
   },
   "source": [
    "<div class=\"alert alert-block alert-danger\">\n",
    "    \t&#10060; <b>Problem:</b> variables PDSTATE and PDTRTMNT have missing data, which makes it difficult to identify when/if a patient was under medication.\n",
    "</div>"
   ]
  },
  {
   "cell_type": "markdown",
   "metadata": {},
   "source": [
    "The following table summarizes the number of records for which PDSTATE or PDTRTMNT is missing:"
   ]
  },
  {
   "cell_type": "code",
   "execution_count": 20,
   "metadata": {
    "scrolled": true
   },
   "outputs": [
    {
     "data": {
      "text/html": [
       "<div>\n",
       "<style scoped>\n",
       "    .dataframe tbody tr th:only-of-type {\n",
       "        vertical-align: middle;\n",
       "    }\n",
       "\n",
       "    .dataframe tbody tr th {\n",
       "        vertical-align: top;\n",
       "    }\n",
       "\n",
       "    .dataframe thead th {\n",
       "        text-align: right;\n",
       "    }\n",
       "</style>\n",
       "<table border=\"1\" class=\"dataframe\">\n",
       "  <thead>\n",
       "    <tr style=\"text-align: right;\">\n",
       "      <th></th>\n",
       "      <th></th>\n",
       "      <th>REC_ID</th>\n",
       "    </tr>\n",
       "    <tr>\n",
       "      <th>PDSTATE</th>\n",
       "      <th>PDTRTMNT</th>\n",
       "      <th></th>\n",
       "    </tr>\n",
       "  </thead>\n",
       "  <tbody>\n",
       "    <tr>\n",
       "      <th rowspan=\"2\" valign=\"top\">OFF</th>\n",
       "      <th>0.0</th>\n",
       "      <td>19</td>\n",
       "    </tr>\n",
       "    <tr>\n",
       "      <th>1.0</th>\n",
       "      <td>3917</td>\n",
       "    </tr>\n",
       "    <tr>\n",
       "      <th>ON</th>\n",
       "      <th>1.0</th>\n",
       "      <td>5924</td>\n",
       "    </tr>\n",
       "    <tr>\n",
       "      <th rowspan=\"3\" valign=\"top\">NaN</th>\n",
       "      <th>0.0</th>\n",
       "      <td>9090</td>\n",
       "    </tr>\n",
       "    <tr>\n",
       "      <th>1.0</th>\n",
       "      <td>12</td>\n",
       "    </tr>\n",
       "    <tr>\n",
       "      <th>NaN</th>\n",
       "      <td>2318</td>\n",
       "    </tr>\n",
       "  </tbody>\n",
       "</table>\n",
       "</div>"
      ],
      "text/plain": [
       "                  REC_ID\n",
       "PDSTATE PDTRTMNT        \n",
       "OFF     0.0           19\n",
       "        1.0         3917\n",
       "ON      1.0         5924\n",
       "NaN     0.0         9090\n",
       "        1.0           12\n",
       "        NaN         2318"
      ]
     },
     "execution_count": 20,
     "metadata": {},
     "output_type": "execute_result"
    }
   ],
   "source": [
    "df.groupby([\"PDSTATE\", \"PDTRTMNT\"], dropna=False)[[\"REC_ID\"]].count()"
   ]
  },
  {
   "cell_type": "markdown",
   "metadata": {
    "slideshow": {
     "slide_type": "fragment"
    }
   },
   "source": [
    "The following cases will be treated separately in the following sections:\n",
    "\n",
    "|               |PDSTATE | PDTRTMNT | Number of records |\n",
    "|---------------|--------|----------|-------------------|\n",
    "| **Case 1** | NaN    | 0        | 8674          |\n",
    "| **Case 2**|  NaN   | 1        | 2               |\n",
    "| **Case 3** | NaN    | NaN      | 2318             |"
   ]
  },
  {
   "cell_type": "code",
   "execution_count": 21,
   "metadata": {},
   "outputs": [
    {
     "data": {
      "text/html": [
       "<div>\n",
       "<style scoped>\n",
       "    .dataframe tbody tr th:only-of-type {\n",
       "        vertical-align: middle;\n",
       "    }\n",
       "\n",
       "    .dataframe tbody tr th {\n",
       "        vertical-align: top;\n",
       "    }\n",
       "\n",
       "    .dataframe thead th {\n",
       "        text-align: right;\n",
       "    }\n",
       "</style>\n",
       "<table border=\"1\" class=\"dataframe\">\n",
       "  <thead>\n",
       "    <tr style=\"text-align: right;\">\n",
       "      <th></th>\n",
       "      <th></th>\n",
       "      <th>REC_ID</th>\n",
       "    </tr>\n",
       "    <tr>\n",
       "      <th>PDSTATE</th>\n",
       "      <th>PDTRTMNT</th>\n",
       "      <th></th>\n",
       "    </tr>\n",
       "  </thead>\n",
       "  <tbody>\n",
       "    <tr>\n",
       "      <th rowspan=\"2\" valign=\"top\">OFF</th>\n",
       "      <th>0.0</th>\n",
       "      <td>19</td>\n",
       "    </tr>\n",
       "    <tr>\n",
       "      <th>1.0</th>\n",
       "      <td>3917</td>\n",
       "    </tr>\n",
       "    <tr>\n",
       "      <th>ON</th>\n",
       "      <th>1.0</th>\n",
       "      <td>5924</td>\n",
       "    </tr>\n",
       "    <tr>\n",
       "      <th rowspan=\"3\" valign=\"top\">NaN</th>\n",
       "      <th>0.0</th>\n",
       "      <td>9090</td>\n",
       "    </tr>\n",
       "    <tr>\n",
       "      <th>1.0</th>\n",
       "      <td>12</td>\n",
       "    </tr>\n",
       "    <tr>\n",
       "      <th>NaN</th>\n",
       "      <td>2318</td>\n",
       "    </tr>\n",
       "  </tbody>\n",
       "</table>\n",
       "</div>"
      ],
      "text/plain": [
       "                  REC_ID\n",
       "PDSTATE PDTRTMNT        \n",
       "OFF     0.0           19\n",
       "        1.0         3917\n",
       "ON      1.0         5924\n",
       "NaN     0.0         9090\n",
       "        1.0           12\n",
       "        NaN         2318"
      ]
     },
     "execution_count": 21,
     "metadata": {},
     "output_type": "execute_result"
    }
   ],
   "source": [
    "df.groupby([\"PDSTATE\", \"PDTRTMNT\"], dropna=False)[[\"REC_ID\"]].count()"
   ]
  },
  {
   "cell_type": "markdown",
   "metadata": {
    "slideshow": {
     "slide_type": "slide"
    }
   },
   "source": [
    "## Case 1: PDSTATE=NaN and PDTRTMNT=0\n",
    "\n",
    "<div class=\"alert alert-block alert-success\">\n",
    "   \t&#10003;   <b>Proposed correction</b>: set PDSTATE=OFF. The patient is not medicated and for this reason PDSTATE is likely to not have been entered.\n",
    "</div>"
   ]
  },
  {
   "cell_type": "markdown",
   "metadata": {
    "slideshow": {
     "slide_type": "fragment"
    }
   },
   "source": [
    "⚙️ Implementation"
   ]
  },
  {
   "cell_type": "code",
   "execution_count": 22,
   "metadata": {},
   "outputs": [],
   "source": [
    "df.loc[(df[\"PDSTATE\"].isnull()) & (df[\"PDTRTMNT\"] == 0), \"PDSTATE\"] = \"OFF\""
   ]
  },
  {
   "cell_type": "markdown",
   "metadata": {
    "slideshow": {
     "slide_type": "fragment"
    }
   },
   "source": [
    "Let's verify that case 2 is now resolved:"
   ]
  },
  {
   "cell_type": "code",
   "execution_count": 23,
   "metadata": {
    "scrolled": true
   },
   "outputs": [
    {
     "data": {
      "text/html": [
       "<div>\n",
       "<style scoped>\n",
       "    .dataframe tbody tr th:only-of-type {\n",
       "        vertical-align: middle;\n",
       "    }\n",
       "\n",
       "    .dataframe tbody tr th {\n",
       "        vertical-align: top;\n",
       "    }\n",
       "\n",
       "    .dataframe thead th {\n",
       "        text-align: right;\n",
       "    }\n",
       "</style>\n",
       "<table border=\"1\" class=\"dataframe\">\n",
       "  <thead>\n",
       "    <tr style=\"text-align: right;\">\n",
       "      <th></th>\n",
       "      <th></th>\n",
       "      <th>REC_ID</th>\n",
       "    </tr>\n",
       "    <tr>\n",
       "      <th>PDSTATE</th>\n",
       "      <th>PDTRTMNT</th>\n",
       "      <th></th>\n",
       "    </tr>\n",
       "  </thead>\n",
       "  <tbody>\n",
       "    <tr>\n",
       "      <th rowspan=\"2\" valign=\"top\">OFF</th>\n",
       "      <th>0.0</th>\n",
       "      <td>9109</td>\n",
       "    </tr>\n",
       "    <tr>\n",
       "      <th>1.0</th>\n",
       "      <td>3917</td>\n",
       "    </tr>\n",
       "    <tr>\n",
       "      <th>ON</th>\n",
       "      <th>1.0</th>\n",
       "      <td>5924</td>\n",
       "    </tr>\n",
       "    <tr>\n",
       "      <th rowspan=\"2\" valign=\"top\">NaN</th>\n",
       "      <th>1.0</th>\n",
       "      <td>12</td>\n",
       "    </tr>\n",
       "    <tr>\n",
       "      <th>NaN</th>\n",
       "      <td>2318</td>\n",
       "    </tr>\n",
       "  </tbody>\n",
       "</table>\n",
       "</div>"
      ],
      "text/plain": [
       "                  REC_ID\n",
       "PDSTATE PDTRTMNT        \n",
       "OFF     0.0         9109\n",
       "        1.0         3917\n",
       "ON      1.0         5924\n",
       "NaN     1.0           12\n",
       "        NaN         2318"
      ]
     },
     "execution_count": 23,
     "metadata": {},
     "output_type": "execute_result"
    }
   ],
   "source": [
    "df.groupby([\"PDSTATE\", \"PDTRTMNT\"], dropna=False)[[\"REC_ID\"]].count()"
   ]
  },
  {
   "cell_type": "markdown",
   "metadata": {
    "slideshow": {
     "slide_type": "slide"
    }
   },
   "source": [
    "## Case 2: PDSTATE=NaN and PDTRTMNT=1\n",
    "\n",
    "<div class=\"alert alert-block alert-success\">\n",
    "    \t&#10003; <b>Proposed correction</b>: drop the record as there are only 2 of them. \n",
    "</div>"
   ]
  },
  {
   "cell_type": "code",
   "execution_count": 24,
   "metadata": {},
   "outputs": [],
   "source": [
    "df = df[~(df[\"PDSTATE\"].isnull()) | (df[\"PDTRTMNT\"] != 1)]"
   ]
  },
  {
   "cell_type": "markdown",
   "metadata": {},
   "source": [
    "Updated records distribution:"
   ]
  },
  {
   "cell_type": "code",
   "execution_count": 25,
   "metadata": {},
   "outputs": [
    {
     "data": {
      "text/html": [
       "<div>\n",
       "<style scoped>\n",
       "    .dataframe tbody tr th:only-of-type {\n",
       "        vertical-align: middle;\n",
       "    }\n",
       "\n",
       "    .dataframe tbody tr th {\n",
       "        vertical-align: top;\n",
       "    }\n",
       "\n",
       "    .dataframe thead th {\n",
       "        text-align: right;\n",
       "    }\n",
       "</style>\n",
       "<table border=\"1\" class=\"dataframe\">\n",
       "  <thead>\n",
       "    <tr style=\"text-align: right;\">\n",
       "      <th></th>\n",
       "      <th></th>\n",
       "      <th>REC_ID</th>\n",
       "    </tr>\n",
       "    <tr>\n",
       "      <th>PDSTATE</th>\n",
       "      <th>PDTRTMNT</th>\n",
       "      <th></th>\n",
       "    </tr>\n",
       "  </thead>\n",
       "  <tbody>\n",
       "    <tr>\n",
       "      <th rowspan=\"2\" valign=\"top\">OFF</th>\n",
       "      <th>0.0</th>\n",
       "      <td>9109</td>\n",
       "    </tr>\n",
       "    <tr>\n",
       "      <th>1.0</th>\n",
       "      <td>3917</td>\n",
       "    </tr>\n",
       "    <tr>\n",
       "      <th>ON</th>\n",
       "      <th>1.0</th>\n",
       "      <td>5924</td>\n",
       "    </tr>\n",
       "    <tr>\n",
       "      <th>NaN</th>\n",
       "      <th>NaN</th>\n",
       "      <td>2318</td>\n",
       "    </tr>\n",
       "  </tbody>\n",
       "</table>\n",
       "</div>"
      ],
      "text/plain": [
       "                  REC_ID\n",
       "PDSTATE PDTRTMNT        \n",
       "OFF     0.0         9109\n",
       "        1.0         3917\n",
       "ON      1.0         5924\n",
       "NaN     NaN         2318"
      ]
     },
     "execution_count": 25,
     "metadata": {},
     "output_type": "execute_result"
    }
   ],
   "source": [
    "df.groupby([\"PDSTATE\", \"PDTRTMNT\"], dropna=False)[[\"REC_ID\"]].count()"
   ]
  },
  {
   "cell_type": "markdown",
   "metadata": {
    "slideshow": {
     "slide_type": "slide"
    }
   },
   "source": [
    "## Case 3: PDSTATE=NaN and PDTRTMNT=NaN\n",
    "\n",
    "Similar to case 1, no record in case 3 has a medication date (ON/OFFPDMEDDT), a medication time (ON/OFFPDMEDTM), or\n",
    "a DBS status (DBSYN):"
   ]
  },
  {
   "cell_type": "code",
   "execution_count": 26,
   "metadata": {
    "scrolled": true
   },
   "outputs": [
    {
     "data": {
      "text/html": [
       "<div>\n",
       "<style scoped>\n",
       "    .dataframe tbody tr th:only-of-type {\n",
       "        vertical-align: middle;\n",
       "    }\n",
       "\n",
       "    .dataframe tbody tr th {\n",
       "        vertical-align: top;\n",
       "    }\n",
       "\n",
       "    .dataframe thead th {\n",
       "        text-align: right;\n",
       "    }\n",
       "</style>\n",
       "<table border=\"1\" class=\"dataframe\">\n",
       "  <thead>\n",
       "    <tr style=\"text-align: right;\">\n",
       "      <th></th>\n",
       "      <th></th>\n",
       "      <th></th>\n",
       "      <th></th>\n",
       "      <th></th>\n",
       "      <th></th>\n",
       "      <th></th>\n",
       "      <th></th>\n",
       "      <th></th>\n",
       "      <th></th>\n",
       "      <th>REC_ID</th>\n",
       "      <th>PATNO</th>\n",
       "      <th>EVENT_ID</th>\n",
       "      <th>PAG_NAME</th>\n",
       "      <th>INFODT</th>\n",
       "      <th>PDTRTMNT</th>\n",
       "      <th>PDSTATE</th>\n",
       "      <th>PDMEDYN</th>\n",
       "      <th>ONOFFORDER</th>\n",
       "      <th>OFFEXAM</th>\n",
       "      <th>...</th>\n",
       "      <th>NP3TOT</th>\n",
       "      <th>DYSKPRES</th>\n",
       "      <th>DYSKIRAT</th>\n",
       "      <th>NHY</th>\n",
       "      <th>ORIG_ENTRY</th>\n",
       "      <th>LAST_UPDATE</th>\n",
       "      <th>OFFEXAMDT</th>\n",
       "      <th>OFFEXAMTM</th>\n",
       "      <th>ONEXAMDT</th>\n",
       "      <th>ONEXAMTM</th>\n",
       "    </tr>\n",
       "    <tr>\n",
       "      <th>OFFPDMEDDT</th>\n",
       "      <th>OFFPDMEDTM</th>\n",
       "      <th>ONPDMEDDT</th>\n",
       "      <th>ONPDMEDTM</th>\n",
       "      <th>DBSYN</th>\n",
       "      <th>HRPOSTMED</th>\n",
       "      <th>DBSONTM</th>\n",
       "      <th>DBSOFFTM</th>\n",
       "      <th>HRDBSOFF</th>\n",
       "      <th>HRDBSON</th>\n",
       "      <th></th>\n",
       "      <th></th>\n",
       "      <th></th>\n",
       "      <th></th>\n",
       "      <th></th>\n",
       "      <th></th>\n",
       "      <th></th>\n",
       "      <th></th>\n",
       "      <th></th>\n",
       "      <th></th>\n",
       "      <th></th>\n",
       "      <th></th>\n",
       "      <th></th>\n",
       "      <th></th>\n",
       "      <th></th>\n",
       "      <th></th>\n",
       "      <th></th>\n",
       "      <th></th>\n",
       "      <th></th>\n",
       "      <th></th>\n",
       "      <th></th>\n",
       "    </tr>\n",
       "  </thead>\n",
       "  <tbody>\n",
       "    <tr>\n",
       "      <th>NaN</th>\n",
       "      <th>NaN</th>\n",
       "      <th>NaN</th>\n",
       "      <th>NaN</th>\n",
       "      <th>0.0</th>\n",
       "      <th>NaN</th>\n",
       "      <th>NaN</th>\n",
       "      <th>NaN</th>\n",
       "      <th>NaN</th>\n",
       "      <th>NaN</th>\n",
       "      <td>2318</td>\n",
       "      <td>2318</td>\n",
       "      <td>2318</td>\n",
       "      <td>2318</td>\n",
       "      <td>2318</td>\n",
       "      <td>0</td>\n",
       "      <td>0</td>\n",
       "      <td>0</td>\n",
       "      <td>0</td>\n",
       "      <td>0</td>\n",
       "      <td>...</td>\n",
       "      <td>2310</td>\n",
       "      <td>2316</td>\n",
       "      <td>39</td>\n",
       "      <td>2316</td>\n",
       "      <td>2318</td>\n",
       "      <td>2318</td>\n",
       "      <td>0</td>\n",
       "      <td>0</td>\n",
       "      <td>0</td>\n",
       "      <td>0</td>\n",
       "    </tr>\n",
       "  </tbody>\n",
       "</table>\n",
       "<p>1 rows × 60 columns</p>\n",
       "</div>"
      ],
      "text/plain": [
       "                                                                                             REC_ID   \n",
       "OFFPDMEDDT OFFPDMEDTM ONPDMEDDT ONPDMEDTM DBSYN HRPOSTMED DBSONTM DBSOFFTM HRDBSOFF HRDBSON           \n",
       "NaN        NaN        NaN       NaN       0.0   NaN       NaN     NaN      NaN      NaN        2318  \\\n",
       "\n",
       "                                                                                             PATNO   \n",
       "OFFPDMEDDT OFFPDMEDTM ONPDMEDDT ONPDMEDTM DBSYN HRPOSTMED DBSONTM DBSOFFTM HRDBSOFF HRDBSON          \n",
       "NaN        NaN        NaN       NaN       0.0   NaN       NaN     NaN      NaN      NaN       2318  \\\n",
       "\n",
       "                                                                                             EVENT_ID   \n",
       "OFFPDMEDDT OFFPDMEDTM ONPDMEDDT ONPDMEDTM DBSYN HRPOSTMED DBSONTM DBSOFFTM HRDBSOFF HRDBSON             \n",
       "NaN        NaN        NaN       NaN       0.0   NaN       NaN     NaN      NaN      NaN          2318  \\\n",
       "\n",
       "                                                                                             PAG_NAME   \n",
       "OFFPDMEDDT OFFPDMEDTM ONPDMEDDT ONPDMEDTM DBSYN HRPOSTMED DBSONTM DBSOFFTM HRDBSOFF HRDBSON             \n",
       "NaN        NaN        NaN       NaN       0.0   NaN       NaN     NaN      NaN      NaN          2318  \\\n",
       "\n",
       "                                                                                             INFODT   \n",
       "OFFPDMEDDT OFFPDMEDTM ONPDMEDDT ONPDMEDTM DBSYN HRPOSTMED DBSONTM DBSOFFTM HRDBSOFF HRDBSON           \n",
       "NaN        NaN        NaN       NaN       0.0   NaN       NaN     NaN      NaN      NaN        2318  \\\n",
       "\n",
       "                                                                                             PDTRTMNT   \n",
       "OFFPDMEDDT OFFPDMEDTM ONPDMEDDT ONPDMEDTM DBSYN HRPOSTMED DBSONTM DBSOFFTM HRDBSOFF HRDBSON             \n",
       "NaN        NaN        NaN       NaN       0.0   NaN       NaN     NaN      NaN      NaN             0  \\\n",
       "\n",
       "                                                                                             PDSTATE   \n",
       "OFFPDMEDDT OFFPDMEDTM ONPDMEDDT ONPDMEDTM DBSYN HRPOSTMED DBSONTM DBSOFFTM HRDBSOFF HRDBSON            \n",
       "NaN        NaN        NaN       NaN       0.0   NaN       NaN     NaN      NaN      NaN            0  \\\n",
       "\n",
       "                                                                                             PDMEDYN   \n",
       "OFFPDMEDDT OFFPDMEDTM ONPDMEDDT ONPDMEDTM DBSYN HRPOSTMED DBSONTM DBSOFFTM HRDBSOFF HRDBSON            \n",
       "NaN        NaN        NaN       NaN       0.0   NaN       NaN     NaN      NaN      NaN            0  \\\n",
       "\n",
       "                                                                                             ONOFFORDER   \n",
       "OFFPDMEDDT OFFPDMEDTM ONPDMEDDT ONPDMEDTM DBSYN HRPOSTMED DBSONTM DBSOFFTM HRDBSOFF HRDBSON               \n",
       "NaN        NaN        NaN       NaN       0.0   NaN       NaN     NaN      NaN      NaN               0  \\\n",
       "\n",
       "                                                                                             OFFEXAM   \n",
       "OFFPDMEDDT OFFPDMEDTM ONPDMEDDT ONPDMEDTM DBSYN HRPOSTMED DBSONTM DBSOFFTM HRDBSOFF HRDBSON            \n",
       "NaN        NaN        NaN       NaN       0.0   NaN       NaN     NaN      NaN      NaN            0  \\\n",
       "\n",
       "                                                                                             ...   \n",
       "OFFPDMEDDT OFFPDMEDTM ONPDMEDDT ONPDMEDTM DBSYN HRPOSTMED DBSONTM DBSOFFTM HRDBSOFF HRDBSON  ...   \n",
       "NaN        NaN        NaN       NaN       0.0   NaN       NaN     NaN      NaN      NaN      ...  \\\n",
       "\n",
       "                                                                                             NP3TOT   \n",
       "OFFPDMEDDT OFFPDMEDTM ONPDMEDDT ONPDMEDTM DBSYN HRPOSTMED DBSONTM DBSOFFTM HRDBSOFF HRDBSON           \n",
       "NaN        NaN        NaN       NaN       0.0   NaN       NaN     NaN      NaN      NaN        2310  \\\n",
       "\n",
       "                                                                                             DYSKPRES   \n",
       "OFFPDMEDDT OFFPDMEDTM ONPDMEDDT ONPDMEDTM DBSYN HRPOSTMED DBSONTM DBSOFFTM HRDBSOFF HRDBSON             \n",
       "NaN        NaN        NaN       NaN       0.0   NaN       NaN     NaN      NaN      NaN          2316  \\\n",
       "\n",
       "                                                                                             DYSKIRAT   \n",
       "OFFPDMEDDT OFFPDMEDTM ONPDMEDDT ONPDMEDTM DBSYN HRPOSTMED DBSONTM DBSOFFTM HRDBSOFF HRDBSON             \n",
       "NaN        NaN        NaN       NaN       0.0   NaN       NaN     NaN      NaN      NaN            39  \\\n",
       "\n",
       "                                                                                              NHY   \n",
       "OFFPDMEDDT OFFPDMEDTM ONPDMEDDT ONPDMEDTM DBSYN HRPOSTMED DBSONTM DBSOFFTM HRDBSOFF HRDBSON         \n",
       "NaN        NaN        NaN       NaN       0.0   NaN       NaN     NaN      NaN      NaN      2316  \\\n",
       "\n",
       "                                                                                             ORIG_ENTRY   \n",
       "OFFPDMEDDT OFFPDMEDTM ONPDMEDDT ONPDMEDTM DBSYN HRPOSTMED DBSONTM DBSOFFTM HRDBSOFF HRDBSON               \n",
       "NaN        NaN        NaN       NaN       0.0   NaN       NaN     NaN      NaN      NaN            2318  \\\n",
       "\n",
       "                                                                                             LAST_UPDATE   \n",
       "OFFPDMEDDT OFFPDMEDTM ONPDMEDDT ONPDMEDTM DBSYN HRPOSTMED DBSONTM DBSOFFTM HRDBSOFF HRDBSON                \n",
       "NaN        NaN        NaN       NaN       0.0   NaN       NaN     NaN      NaN      NaN             2318  \\\n",
       "\n",
       "                                                                                             OFFEXAMDT   \n",
       "OFFPDMEDDT OFFPDMEDTM ONPDMEDDT ONPDMEDTM DBSYN HRPOSTMED DBSONTM DBSOFFTM HRDBSOFF HRDBSON              \n",
       "NaN        NaN        NaN       NaN       0.0   NaN       NaN     NaN      NaN      NaN              0  \\\n",
       "\n",
       "                                                                                             OFFEXAMTM   \n",
       "OFFPDMEDDT OFFPDMEDTM ONPDMEDDT ONPDMEDTM DBSYN HRPOSTMED DBSONTM DBSOFFTM HRDBSOFF HRDBSON              \n",
       "NaN        NaN        NaN       NaN       0.0   NaN       NaN     NaN      NaN      NaN              0  \\\n",
       "\n",
       "                                                                                             ONEXAMDT   \n",
       "OFFPDMEDDT OFFPDMEDTM ONPDMEDDT ONPDMEDTM DBSYN HRPOSTMED DBSONTM DBSOFFTM HRDBSOFF HRDBSON             \n",
       "NaN        NaN        NaN       NaN       0.0   NaN       NaN     NaN      NaN      NaN             0  \\\n",
       "\n",
       "                                                                                             ONEXAMTM  \n",
       "OFFPDMEDDT OFFPDMEDTM ONPDMEDDT ONPDMEDTM DBSYN HRPOSTMED DBSONTM DBSOFFTM HRDBSOFF HRDBSON            \n",
       "NaN        NaN        NaN       NaN       0.0   NaN       NaN     NaN      NaN      NaN             0  \n",
       "\n",
       "[1 rows x 60 columns]"
      ]
     },
     "execution_count": 26,
     "metadata": {},
     "output_type": "execute_result"
    }
   ],
   "source": [
    "case_3 = df[(df[\"PDSTATE\"].isnull()) & (df[\"PDTRTMNT\"].isnull())]\n",
    "case_3.groupby(\n",
    "    [\n",
    "        \"OFFPDMEDDT\",\n",
    "        \"OFFPDMEDTM\",\n",
    "        \"ONPDMEDDT\",\n",
    "        \"ONPDMEDTM\",\n",
    "        \"DBSYN\",\n",
    "        \"HRPOSTMED\",\n",
    "        \"DBSONTM\",\n",
    "        \"DBSOFFTM\",\n",
    "        \"HRDBSOFF\",\n",
    "        \"HRDBSON\",\n",
    "    ],\n",
    "    dropna=False,\n",
    ").count()"
   ]
  },
  {
   "cell_type": "markdown",
   "metadata": {
    "slideshow": {
     "slide_type": "fragment"
    }
   },
   "source": [
    "<div class=\"alert alert-block alert-success\">\n",
    "    \t&#10003; <b>Proposed solution</b>: set PDSTATE=OFF and PDTRTMNT=0. It is very unlikely that the patient was medicated and none of the medication-related variables were set.\n",
    "</div>"
   ]
  },
  {
   "cell_type": "markdown",
   "metadata": {
    "slideshow": {
     "slide_type": "slide"
    }
   },
   "source": [
    "⚙️ Implementation"
   ]
  },
  {
   "cell_type": "code",
   "execution_count": 27,
   "metadata": {},
   "outputs": [],
   "source": [
    "df_1 = df.copy()\n",
    "df_1.loc[(df[\"PDSTATE\"].isnull()) & (df[\"PDTRTMNT\"].isnull()), \"PDSTATE\"] = \"OFF\"\n",
    "df_1.loc[(df[\"PDSTATE\"].isnull()) & (df[\"PDTRTMNT\"].isnull()), \"PDTRTMNT\"] = 0\n",
    "df = df_1"
   ]
  },
  {
   "cell_type": "markdown",
   "metadata": {
    "slideshow": {
     "slide_type": "fragment"
    }
   },
   "source": [
    "Let's verify that case 3 is now resolved:"
   ]
  },
  {
   "cell_type": "code",
   "execution_count": 28,
   "metadata": {
    "scrolled": true
   },
   "outputs": [
    {
     "data": {
      "text/html": [
       "<div>\n",
       "<style scoped>\n",
       "    .dataframe tbody tr th:only-of-type {\n",
       "        vertical-align: middle;\n",
       "    }\n",
       "\n",
       "    .dataframe tbody tr th {\n",
       "        vertical-align: top;\n",
       "    }\n",
       "\n",
       "    .dataframe thead th {\n",
       "        text-align: right;\n",
       "    }\n",
       "</style>\n",
       "<table border=\"1\" class=\"dataframe\">\n",
       "  <thead>\n",
       "    <tr style=\"text-align: right;\">\n",
       "      <th></th>\n",
       "      <th></th>\n",
       "      <th>REC_ID</th>\n",
       "    </tr>\n",
       "    <tr>\n",
       "      <th>PDSTATE</th>\n",
       "      <th>PDTRTMNT</th>\n",
       "      <th></th>\n",
       "    </tr>\n",
       "  </thead>\n",
       "  <tbody>\n",
       "    <tr>\n",
       "      <th rowspan=\"2\" valign=\"top\">OFF</th>\n",
       "      <th>0.0</th>\n",
       "      <td>11427</td>\n",
       "    </tr>\n",
       "    <tr>\n",
       "      <th>1.0</th>\n",
       "      <td>3917</td>\n",
       "    </tr>\n",
       "    <tr>\n",
       "      <th>ON</th>\n",
       "      <th>1.0</th>\n",
       "      <td>5924</td>\n",
       "    </tr>\n",
       "  </tbody>\n",
       "</table>\n",
       "</div>"
      ],
      "text/plain": [
       "                  REC_ID\n",
       "PDSTATE PDTRTMNT        \n",
       "OFF     0.0        11427\n",
       "        1.0         3917\n",
       "ON      1.0         5924"
      ]
     },
     "execution_count": 28,
     "metadata": {},
     "output_type": "execute_result"
    }
   ],
   "source": [
    "df.groupby([\"PDSTATE\", \"PDTRTMNT\"], dropna=False)[[\"REC_ID\"]].count()"
   ]
  },
  {
   "cell_type": "markdown",
   "metadata": {
    "slideshow": {
     "slide_type": "fragment"
    }
   },
   "source": [
    "There's no remaining missing PDSTATE or PDTRTMNT value in the data!\n",
    "\n",
    "Let's save the cleaned file:"
   ]
  },
  {
   "cell_type": "code",
   "execution_count": 29,
   "metadata": {},
   "outputs": [
    {
     "name": "stdout",
     "output_type": "stream",
     "text": [
      "Cleaned file saved in MDS_UPDRS_Part_III_clean.csv\n"
     ]
    }
   ],
   "source": [
    "filename = \"MDS_UPDRS_Part_III_clean.csv\"\n",
    "df.to_csv(os.path.join(utils.study_files_dir, filename), index=False)\n",
    "print(f\"Cleaned file saved in {filename}\")"
   ]
  },
  {
   "cell_type": "markdown",
   "metadata": {
    "slideshow": {
     "slide_type": "slide"
    }
   },
   "source": [
    "# ⚕️ Sanity checks\n",
    "\n",
    "The following sanity checks are applied to the cleaned UPDRS-III data."
   ]
  },
  {
   "cell_type": "markdown",
   "metadata": {
    "slideshow": {
     "slide_type": "fragment"
    }
   },
   "source": [
    "**IF** visit has two exam **THEN** one is ON and the other one is OFF:"
   ]
  },
  {
   "cell_type": "code",
   "execution_count": 30,
   "metadata": {},
   "outputs": [
    {
     "data": {
      "text/plain": [
       "True"
      ]
     },
     "execution_count": 30,
     "metadata": {},
     "output_type": "execute_result"
    }
   ],
   "source": [
    "a = df.groupby([\"PATNO\", \"EVENT_ID\"]).filter(lambda x: len(x) == 2)\n",
    "a.groupby([\"PATNO\", \"EVENT_ID\"]).filter(\n",
    "    lambda x: x.iloc[[0]][\"PDSTATE\"].to_string() == x.iloc[[1]][\"PDSTATE\"].to_string()\n",
    ").empty"
   ]
  },
  {
   "cell_type": "markdown",
   "metadata": {},
   "source": [
    "**IF** PDSTATE=ON **THEN** ONEXAMTM>ONPDMEDTM"
   ]
  },
  {
   "cell_type": "code",
   "execution_count": 31,
   "metadata": {},
   "outputs": [
    {
     "data": {
      "text/plain": [
       "True"
      ]
     },
     "execution_count": 31,
     "metadata": {},
     "output_type": "execute_result"
    }
   ],
   "source": [
    "df[\n",
    "    (df[\"PDSTATE\"] == \"ON\")\n",
    "    & (df[\"ONEXAMTM\"].apply(to_secs) < df[\"ONPDMEDTM\"].apply(to_secs))\n",
    "].empty"
   ]
  },
  {
   "cell_type": "markdown",
   "metadata": {},
   "source": [
    "**IF** PDTRTMNT=0 **THEN** there is a single visit and PDSTATE=OFF"
   ]
  },
  {
   "cell_type": "code",
   "execution_count": 32,
   "metadata": {},
   "outputs": [
    {
     "name": "stdout",
     "output_type": "stream",
     "text": [
      "True\n"
     ]
    }
   ],
   "source": [
    "assert (\n",
    "    df[df[\"PDTRTMNT\"] == 0]\n",
    "    .groupby([\"PATNO\", \"EVENT_ID\"])\n",
    "    .filter(lambda x: len(x) > 1)\n",
    "    .empty\n",
    "), \"False!\"\n",
    "assert (\n",
    "    df[df[\"PDTRTMNT\"] == 0]\n",
    "    .groupby([\"PATNO\", \"EVENT_ID\"])\n",
    "    .filter(lambda x: x[\"PDSTATE\"] != \"OFF\")\n",
    "    .empty\n",
    "), \"False!\"\n",
    "print(\"True\")"
   ]
  },
  {
   "cell_type": "markdown",
   "metadata": {},
   "source": [
    "A patient cannot become unmedicated after being medicated:"
   ]
  },
  {
   "cell_type": "code",
   "execution_count": 33,
   "metadata": {},
   "outputs": [
    {
     "data": {
      "text/plain": [
       "False"
      ]
     },
     "execution_count": 33,
     "metadata": {},
     "output_type": "execute_result"
    }
   ],
   "source": [
    "def wrong_pairs(x):\n",
    "    rows = [row for index, row in x.iterrows()]\n",
    "    for a in rows:\n",
    "        for b in rows:\n",
    "            if a[\"EVENT_ID\"] == b[\"EVENT_ID\"]:\n",
    "                continue\n",
    "            # If dates are equal, we cannot say anything\n",
    "            if pd.to_datetime(a[\"INFODT\"]) == pd.to_datetime(b[\"INFODT\"]):\n",
    "                return False\n",
    "            # If a is later than b, a['PDTRTMNT'] has to be larger or equal to b['PDTRTMNT']\n",
    "            if pd.to_datetime(a[\"INFODT\"]) > pd.to_datetime(b[\"INFODT\"]):\n",
    "                if int(a[\"PDTRTMNT\"]) < int(b[\"PDTRTMNT\"]):\n",
    "                    return True\n",
    "                return False\n",
    "            # a is earlier than b: a['PDTRTMNT'] has to be lower or equal to b['PDTRTMNT']\n",
    "            if int(a[\"PDTRTMNT\"]) > int(b[\"PDTRTMNT\"]):\n",
    "                return True\n",
    "            return False\n",
    "\n",
    "\n",
    "df.groupby([\"PATNO\"]).filter(lambda x: x[\"PDTRTMNT\"].nunique() > 1).groupby(\n",
    "    \"PATNO\"\n",
    ").filter(wrong_pairs).empty"
   ]
  }
 ],
 "metadata": {
  "celltoolbar": "Slideshow",
  "kernelspec": {
   "display_name": "Python 3 (ipykernel)",
   "language": "python",
   "name": "python3"
  },
  "language_info": {
   "codemirror_mode": {
    "name": "ipython",
    "version": 3
   },
   "file_extension": ".py",
   "mimetype": "text/x-python",
   "name": "python",
   "nbconvert_exporter": "python",
   "pygments_lexer": "ipython3",
   "version": "3.11.1"
  },
  "toc": {
   "base_numbering": 1,
   "nav_menu": {},
   "number_sections": true,
   "sideBar": true,
   "skip_h1_title": false,
   "title_cell": "Table of Contents",
   "title_sidebar": "Contents",
   "toc_cell": false,
   "toc_position": {
    "height": "calc(100% - 180px)",
    "left": "10px",
    "top": "150px",
    "width": "394px"
   },
   "toc_section_display": true,
   "toc_window_display": true
  },
  "vscode": {
   "interpreter": {
    "hash": "aee395a8d00533f832df9e1b1c1e1d0e9597d211ea119d471f3b541b75fb0f52"
   }
  }
 },
 "nbformat": 4,
 "nbformat_minor": 4
}
