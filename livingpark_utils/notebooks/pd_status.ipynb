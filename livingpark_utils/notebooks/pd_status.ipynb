{
 "cells": [
  {
   "cell_type": "markdown",
   "metadata": {
    "slideshow": {
     "slide_type": "slide"
    }
   },
   "source": [
    "# 👋 Introduction"
   ]
  },
  {
   "cell_type": "markdown",
   "metadata": {
    "slideshow": {
     "slide_type": "fragment"
    }
   },
   "source": [
    "The medication status of PD patients is important as medication importantly affects clinical measures such as the Hoehn & Yahr score used in many studies. In PPMI, medication is available through the following main variables:\n",
    "* PDSTATE (ON/OFF): the current functional state of the patient\n",
    "* PDTRTMNT (0/1): 1 if the participant is on PD medication or receives deep brain stimulation, 0 otherwise\n",
    "* PDMEDTM: time of most recent PD medication dose\n",
    "* PDMEDDT: date of most recent PD medication dose\n",
    "\n",
    "As mentioned in the \"Methods for Defining PD Med Use\" in PPMI study data, OFF state requires that the last dose of levodopa or dopamine agonist was taken 6 hours or more before MDS-UPDRS Part III assessment.\n",
    "\n",
    "The goal of this notebook is (1) to identify and correct inconsistencies among these variables, (2) to impute missing data for PDSTATE and PDTRTMNT, and (3) to check the sanity of the corrected dataset."
   ]
  },
  {
   "cell_type": "code",
   "execution_count": 1,
   "metadata": {},
   "outputs": [
    {
     "data": {
      "text/html": [
       "<script>\n",
       "code_show=true; \n",
       "function code_toggle() {\n",
       " if (code_show){\n",
       " $('div.input').hide();\n",
       " } else {\n",
       " $('div.input').show();\n",
       " }\n",
       " code_show = !code_show\n",
       "} \n",
       "$( document ).ready(code_toggle);\n",
       "</script>\n",
       "<form action=\"javascript:code_toggle()\"><input type=\"submit\" value=\"Click here to toggle on/off the Python code.\"></form>"
      ],
      "text/plain": [
       "<IPython.core.display.HTML object>"
      ]
     },
     "execution_count": 1,
     "metadata": {},
     "output_type": "execute_result"
    }
   ],
   "source": [
    "from IPython.display import HTML\n",
    "\n",
    "HTML(\n",
    "    \"\"\"<script>\n",
    "code_show=true; \n",
    "function code_toggle() {\n",
    " if (code_show){\n",
    " $('div.input').hide();\n",
    " } else {\n",
    " $('div.input').show();\n",
    " }\n",
    " code_show = !code_show\n",
    "} \n",
    "$( document ).ready(code_toggle);\n",
    "</script>\n",
    "<form action=\"javascript:code_toggle()\"><input type=\"submit\" value=\"Click here to toggle on/off the Python code.\"></form>\"\"\"\n",
    ")"
   ]
  },
  {
   "cell_type": "code",
   "execution_count": 2,
   "metadata": {},
   "outputs": [
    {
     "name": "stdout",
     "output_type": "stream",
     "text": [
      "This notebook was run on 2022-11-16 17:00:53 UTC +0000\n"
     ]
    }
   ],
   "source": [
    "import datetime\n",
    "import warnings\n",
    "\n",
    "import pytz\n",
    "\n",
    "\n",
    "warnings.filterwarnings('ignore')\n",
    "\n",
    "now = datetime.datetime.now(pytz.utc).strftime('%Y-%m-%d %H:%M:%S %Z %z')\n",
    "print(f\"This notebook was run on {now}\")"
   ]
  },
  {
   "cell_type": "markdown",
   "metadata": {
    "slideshow": {
     "slide_type": "slide"
    }
   },
   "source": [
    "# 🔽 Data download\n",
    "\n",
    "The above-mentioned variables are available in PPMI file `MDS_UPDRS_Part_III.csv`. To download this file, we will use package `ppmi-downloader` available on PyPi. The package will ask you for your PPMI login and password."
   ]
  },
  {
   "cell_type": "code",
   "execution_count": 3,
   "metadata": {},
   "outputs": [
    {
     "name": "stderr",
     "output_type": "stream",
     "text": [
      "LivingPark-utils|DEBUG|ppmi_downloader.py:106 in __init__()\n",
      "                       self.tempdir: <TemporaryDirectory '/tmp/tmp19d_5t6y'>\n",
      "LivingPark-utils|DEBUG|ppmi_downloader.py:117 in __init__()\n",
      "                       self.config_file: '.ppmi_config'\n",
      "                       config_file: '.ppmi_config'\n",
      "100%|███████████████████████████████████████████████████████████████████████████████| 1/1 [00:00<00:00, 647.27it/s]\n",
      "LivingPark-utils|DEBUG|ppmi_navigator.py:64 in click_button()\n",
      "                       'Click button': 'Click button'\n",
      "                       field: 'ida-cookie-policy-accept'\n",
      "                       debug_name: 'Cookie Policy'\n",
      "LivingPark-utils|DEBUG|ppmi_navigator.py:33 in wait_for_element_to_be_visible()\n",
      "                       'Wait for element to be visible': 'Wait for element to be visible'\n",
      "                       field: 'ida-user-username'\n",
      "                       BY: 'class name'\n",
      "                       debug_name: ''\n",
      "LivingPark-utils|DEBUG|ppmi_navigator.py:33 in wait_for_element_to_be_visible()\n",
      "                       'Wait for element to be visible': 'Wait for element to be visible'\n",
      "                       field: 'userEmail'\n",
      "                       BY: 'name'\n",
      "                       debug_name: ''\n",
      "LivingPark-utils|DEBUG|ppmi_navigator.py:48 in enter_data()\n",
      "                       'Enter data': 'Enter data'\n",
      "                       field: 'userEmail'\n",
      "                       debug_name: 'Email'\n",
      "LivingPark-utils|DEBUG|ppmi_navigator.py:33 in wait_for_element_to_be_visible()\n",
      "                       'Wait for element to be visible': 'Wait for element to be visible'\n",
      "                       field: 'userPassword'\n",
      "                       BY: 'name'\n",
      "                       debug_name: ''\n",
      "LivingPark-utils|DEBUG|ppmi_navigator.py:48 in enter_data()\n",
      "                       'Enter data': 'Enter data'\n",
      "                       field: 'userPassword'\n",
      "                       debug_name: 'Password'\n",
      "LivingPark-utils|DEBUG|ppmi_navigator.py:33 in wait_for_element_to_be_visible()\n",
      "                       'Wait for element to be visible': 'Wait for element to be visible'\n",
      "                       field: 'button'\n",
      "                       BY: 'tag name'\n",
      "                       debug_name: ''\n",
      "LivingPark-utils|DEBUG|ppmi_navigator.py:64 in click_button()\n",
      "                       'Click button': 'Click button'\n",
      "                       field: 'button'\n",
      "                       debug_name: 'Login button'\n",
      "LivingPark-utils|INFO|'Login Successful'\n",
      "LivingPark-utils|DEBUG|ppmi_navigator.py:64 in click_button()\n",
      "                       'Click button': 'Click button'\n",
      "                       field: 'ida-menu-option.sub-menu.download'\n",
      "                       debug_name: 'Download'\n",
      "LivingPark-utils|DEBUG|ppmi_navigator.py:64 in click_button()\n",
      "                       'Click button': 'Click button'\n",
      "                       field: \"//*[text()='Study Data']\"\n",
      "                       debug_name: 'Study Data'\n",
      "LivingPark-utils|DEBUG|ppmi_navigator.py:64 in click_button()\n",
      "                       'Click button': 'Click button'\n",
      "                       field: 'ygtvlabelel71'\n",
      "                       debug_name: 'ALL'\n",
      "LivingPark-utils|DEBUG|ppmi_navigator.py:64 in click_button()\n",
      "                       'Click button': 'Click button'\n",
      "                       field: 'downloadBtn'\n",
      "                       debug_name: ''\n",
      "LivingPark-utils|DEBUG|ppmi_downloader.py:484 in download_complete()\n",
      "                       'Size': 'Size'\n",
      "                       size: 69820\n",
      "LivingPark-utils|DEBUG|ppmi_downloader.py:484 in download_complete()\n",
      "                       'Size': 'Size'\n",
      "                       size: 503112\n",
      "LivingPark-utils|DEBUG|ppmi_downloader.py:484 in download_complete()\n",
      "                       'Size': 'Size'\n",
      "                       size: 878536\n",
      "LivingPark-utils|DEBUG|ppmi_downloader.py:484 in download_complete()\n",
      "                       'Size': 'Size'\n",
      "                       size: 1312776\n",
      "LivingPark-utils|DEBUG|ppmi_downloader.py:484 in download_complete()\n",
      "                       'Size': 'Size'\n",
      "                       size: 1758224\n",
      "LivingPark-utils|DEBUG|ppmi_downloader.py:484 in download_complete()\n",
      "                       'Size': 'Size'\n",
      "                       size: 2199308\n",
      "LivingPark-utils|DEBUG|ppmi_downloader.py:484 in download_complete()\n",
      "                       'Size': 'Size'\n",
      "                       size: 2615248\n",
      "LivingPark-utils|DEBUG|ppmi_downloader.py:484 in download_complete()\n",
      "                       'Size': 'Size'\n",
      "                       size: 3030208\n",
      "LivingPark-utils|DEBUG|ppmi_downloader.py:484 in download_complete()\n",
      "                       'Size': 'Size'\n",
      "                       size: 3475672\n",
      "LivingPark-utils|DEBUG|ppmi_downloader.py:484 in download_complete()\n",
      "                       'Size': 'Size'\n",
      "                       size: 3907996\n",
      "LivingPark-utils|DEBUG|ppmi_downloader.py:484 in download_complete()\n",
      "                       'Size': 'Size'\n",
      "                       size: 4410236\n",
      "LivingPark-utils|DEBUG|ppmi_downloader.py:484 in download_complete()\n",
      "                       'Size': 'Size'\n",
      "                       size: 4854240\n",
      "LivingPark-utils|DEBUG|ppmi_downloader.py:484 in download_complete()\n",
      "                       'Size': 'Size'\n",
      "                       size: 5301068\n",
      "LivingPark-utils|INFO|f\"Successfully downloaded file {filename}\": 'Successfully downloaded file MDS_UPDRS_Part_III.csv'\n"
     ]
    },
    {
     "name": "stdout",
     "output_type": "stream",
     "text": [
      "File downloaded\n"
     ]
    }
   ],
   "source": [
    "import os\n",
    "import os.path as op\n",
    "\n",
    "import pandas as pd\n",
    "import ppmi_downloader\n",
    "\n",
    "\n",
    "data_dir = op.join('inputs', 'study_files')\n",
    "\n",
    "if not op.exists(data_dir):\n",
    "    os.makedirs(data_dir)\n",
    "required_files = [\"MDS_UPDRS_Part_III.csv\"]\n",
    "missing_files = [x for x in required_files if not op.exists(os.path.join(data_dir, x))]\n",
    "\n",
    "if len(missing_files) > 0:\n",
    "    ppmi = ppmi_downloader.PPMIDownloader()\n",
    "    ppmi.download_metadata(\n",
    "        missing_files, destination_dir=data_dir, headless=False, timeout=600\n",
    "    )\n",
    "    ppmi.quit()\n",
    "\n",
    "df = pd.read_csv(op.join(data_dir, \"MDS_UPDRS_Part_III.csv\"))\n",
    "\n",
    "print(\"File downloaded\")"
   ]
  },
  {
   "cell_type": "markdown",
   "metadata": {
    "slideshow": {
     "slide_type": "slide"
    }
   },
   "source": [
    "# ⁉️ Inconsistencies"
   ]
  },
  {
   "cell_type": "markdown",
   "metadata": {},
   "source": [
    "## Records with no value"
   ]
  },
  {
   "cell_type": "markdown",
   "metadata": {
    "slideshow": {
     "slide_type": "fragment"
    }
   },
   "source": [
    "<div class=\"alert alert-block alert-danger\">\n",
    "     \t&#10060; <b>Problem:</b> some records have missing data for all UPDRS-III variables.\n",
    "</div>"
   ]
  },
  {
   "cell_type": "markdown",
   "metadata": {
    "slideshow": {
     "slide_type": "fragment"
    }
   },
   "source": [
    "Number of records with NaNs for all UPDRS-III variables:"
   ]
  },
  {
   "cell_type": "code",
   "execution_count": 4,
   "metadata": {
    "slideshow": {
     "slide_type": "skip"
    }
   },
   "outputs": [],
   "source": [
    "updrs3_vars = [\n",
    "    \"PDMEDDT\",\n",
    "    \"PDMEDTM\",\n",
    "    \"PDSTATE\",\n",
    "    \"EXAMTM\",\n",
    "    \"DBS_STATUS\",\n",
    "    \"NP3SPCH\",\n",
    "    \"NP3FACXP\",\n",
    "    \"NP3RIGN\",\n",
    "    \"NP3RIGRU\",\n",
    "    \"NP3RIGLU\",\n",
    "    \"NP3RIGRL\",\n",
    "    \"NP3RIGLL\",\n",
    "    \"NP3FTAPR\",\n",
    "    \"NP3FTAPL\",\n",
    "    \"NP3HMOVR\",\n",
    "    \"NP3HMOVL\",\n",
    "    \"NP3PRSPR\",\n",
    "    \"NP3PRSPL\",\n",
    "    \"NP3TTAPR\",\n",
    "    \"NP3TTAPL\",\n",
    "    \"NP3LGAGR\",\n",
    "    \"NP3LGAGL\",\n",
    "    \"NP3RISNG\",\n",
    "    \"NP3GAIT\",\n",
    "    \"NP3FRZGT\",\n",
    "    \"NP3PSTBL\",\n",
    "    \"NP3POSTR\",\n",
    "    \"NP3BRADY\",\n",
    "    \"NP3PTRMR\",\n",
    "    \"NP3PTRML\",\n",
    "    \"NP3KTRMR\",\n",
    "    \"NP3KTRML\",\n",
    "    \"NP3RTARU\",\n",
    "    \"NP3RTALU\",\n",
    "    \"NP3RTARL\",\n",
    "    \"NP3RTALL\",\n",
    "    \"NP3RTALJ\",\n",
    "    \"NP3RTCON\",\n",
    "    \"NP3TOT\",\n",
    "    \"DYSKPRES\",\n",
    "    \"DYSKIRAT\",\n",
    "    \"NHY\",\n",
    "    \"DBSONTM\",\n",
    "    \"DBSOFFTM\",\n",
    "    \"HRPOSTMED\",\n",
    "    \"HRDBSOFF\",\n",
    "    \"HRDBSON\",\n",
    "]"
   ]
  },
  {
   "cell_type": "code",
   "execution_count": 5,
   "metadata": {
    "slideshow": {
     "slide_type": "fragment"
    }
   },
   "outputs": [
    {
     "data": {
      "text/plain": [
       "207"
      ]
     },
     "execution_count": 5,
     "metadata": {},
     "output_type": "execute_result"
    }
   ],
   "source": [
    "len(df[df[updrs3_vars].isnull().all(axis=1)])"
   ]
  },
  {
   "cell_type": "markdown",
   "metadata": {
    "slideshow": {
     "slide_type": "slide"
    }
   },
   "source": [
    "<div class=\"alert alert-block alert-success\">\n",
    "     \t&#10003; <b>Proposed correction</b>: remove these records.\n",
    "</div>"
   ]
  },
  {
   "cell_type": "markdown",
   "metadata": {
    "slideshow": {
     "slide_type": "fragment"
    }
   },
   "source": [
    "⚙️ Implementation\n",
    "\n"
   ]
  },
  {
   "cell_type": "code",
   "execution_count": 6,
   "metadata": {
    "slideshow": {
     "slide_type": "fragment"
    }
   },
   "outputs": [],
   "source": [
    "df = df[df[updrs3_vars].notna().any(axis=1)]"
   ]
  },
  {
   "cell_type": "markdown",
   "metadata": {
    "slideshow": {
     "slide_type": "fragment"
    }
   },
   "source": [
    "Updated number of records with NaNs for all UPDRS-III variables:"
   ]
  },
  {
   "cell_type": "code",
   "execution_count": 7,
   "metadata": {
    "scrolled": true,
    "slideshow": {
     "slide_type": "fragment"
    }
   },
   "outputs": [
    {
     "data": {
      "text/plain": [
       "0"
      ]
     },
     "execution_count": 7,
     "metadata": {},
     "output_type": "execute_result"
    }
   ],
   "source": [
    "len(df[df[updrs3_vars].isnull().all(axis=1)])"
   ]
  },
  {
   "cell_type": "markdown",
   "metadata": {
    "slideshow": {
     "slide_type": "fragment"
    }
   },
   "source": [
    "## PDTRTMNT=0 and PDSTATE=ON\n",
    "\n",
    "<div class=\"alert alert-block alert-danger\">\n",
    "     \t&#10060; <b>Problem:</b> a few records have PDSTATE=ON and PDTRTMNT=0, which is inconsistent:\n",
    "</div>"
   ]
  },
  {
   "cell_type": "code",
   "execution_count": 8,
   "metadata": {},
   "outputs": [
    {
     "data": {
      "text/html": [
       "<div>\n",
       "<style scoped>\n",
       "    .dataframe tbody tr th:only-of-type {\n",
       "        vertical-align: middle;\n",
       "    }\n",
       "\n",
       "    .dataframe tbody tr th {\n",
       "        vertical-align: top;\n",
       "    }\n",
       "\n",
       "    .dataframe thead th {\n",
       "        text-align: right;\n",
       "    }\n",
       "</style>\n",
       "<table border=\"1\" class=\"dataframe\">\n",
       "  <thead>\n",
       "    <tr style=\"text-align: right;\">\n",
       "      <th></th>\n",
       "      <th></th>\n",
       "      <th>REC_ID</th>\n",
       "    </tr>\n",
       "    <tr>\n",
       "      <th>PDSTATE</th>\n",
       "      <th>PDTRTMNT</th>\n",
       "      <th></th>\n",
       "    </tr>\n",
       "  </thead>\n",
       "  <tbody>\n",
       "    <tr>\n",
       "      <th rowspan=\"3\" valign=\"top\">OFF</th>\n",
       "      <th>0.0</th>\n",
       "      <td>18</td>\n",
       "    </tr>\n",
       "    <tr>\n",
       "      <th>1.0</th>\n",
       "      <td>3257</td>\n",
       "    </tr>\n",
       "    <tr>\n",
       "      <th>NaN</th>\n",
       "      <td>6</td>\n",
       "    </tr>\n",
       "    <tr>\n",
       "      <th rowspan=\"3\" valign=\"top\">ON</th>\n",
       "      <th>0.0</th>\n",
       "      <td>10</td>\n",
       "    </tr>\n",
       "    <tr>\n",
       "      <th>1.0</th>\n",
       "      <td>5550</td>\n",
       "    </tr>\n",
       "    <tr>\n",
       "      <th>NaN</th>\n",
       "      <td>1</td>\n",
       "    </tr>\n",
       "    <tr>\n",
       "      <th rowspan=\"3\" valign=\"top\">NaN</th>\n",
       "      <th>0.0</th>\n",
       "      <td>8190</td>\n",
       "    </tr>\n",
       "    <tr>\n",
       "      <th>1.0</th>\n",
       "      <td>135</td>\n",
       "    </tr>\n",
       "    <tr>\n",
       "      <th>NaN</th>\n",
       "      <td>2322</td>\n",
       "    </tr>\n",
       "  </tbody>\n",
       "</table>\n",
       "</div>"
      ],
      "text/plain": [
       "                  REC_ID\n",
       "PDSTATE PDTRTMNT        \n",
       "OFF     0.0           18\n",
       "        1.0         3257\n",
       "        NaN            6\n",
       "ON      0.0           10\n",
       "        1.0         5550\n",
       "        NaN            1\n",
       "NaN     0.0         8190\n",
       "        1.0          135\n",
       "        NaN         2322"
      ]
     },
     "execution_count": 8,
     "metadata": {},
     "output_type": "execute_result"
    }
   ],
   "source": [
    "df.groupby([\"PDSTATE\", \"PDTRTMNT\"], dropna=False)[[\"REC_ID\"]].count()"
   ]
  },
  {
   "cell_type": "markdown",
   "metadata": {
    "slideshow": {
     "slide_type": "fragment"
    }
   },
   "source": [
    "The lines below show the difference between EXAMTM and PDMEDTM. All the records have a PDMEDTM that is earlier to EXAMTM by at most 5 hours:"
   ]
  },
  {
   "cell_type": "code",
   "execution_count": 9,
   "metadata": {
    "scrolled": true
   },
   "outputs": [
    {
     "data": {
      "text/plain": [
       "6759    0 days 01:00:00\n",
       "7617    0 days 01:00:00\n",
       "8308    0 days 01:25:00\n",
       "10795   0 days 04:30:00\n",
       "11853   0 days 00:40:00\n",
       "11883   0 days 00:00:00\n",
       "11884   0 days 01:54:00\n",
       "16299   0 days 03:50:00\n",
       "17945   0 days 00:15:00\n",
       "18473   0 days 05:00:00\n",
       "dtype: timedelta64[ns]"
      ]
     },
     "execution_count": 9,
     "metadata": {},
     "output_type": "execute_result"
    }
   ],
   "source": [
    "errors = df[(df[\"PDSTATE\"] == \"ON\") & (df[\"PDTRTMNT\"] == 0)]\n",
    "# print the time difference between EXAMTM and PDMEDTM\n",
    "(pd.to_datetime(errors[\"EXAMTM\"]) - pd.to_datetime(errors[\"PDMEDTM\"]))"
   ]
  },
  {
   "cell_type": "markdown",
   "metadata": {
    "slideshow": {
     "slide_type": "fragment"
    }
   },
   "source": [
    "<div class=\"alert alert-block alert-success\">\n",
    "     \t&#10003; <b>Proposed correction</b>: set PDTRTMNT to 1 for these records. It doesn't seem realistic that a plausible PDMEDTM and PDSTATE=ON have been entered by mistake while the patient was not under medication.\n",
    "</div>"
   ]
  },
  {
   "cell_type": "markdown",
   "metadata": {
    "slideshow": {
     "slide_type": "slide"
    }
   },
   "source": [
    "⚙️ Implementation\n",
    "\n"
   ]
  },
  {
   "cell_type": "code",
   "execution_count": 10,
   "metadata": {},
   "outputs": [],
   "source": [
    "df.loc[(df[\"PDSTATE\"] == \"ON\") & (df[\"PDTRTMNT\"] == 0), \"PDTRTMNT\"] = 1"
   ]
  },
  {
   "cell_type": "markdown",
   "metadata": {
    "slideshow": {
     "slide_type": "fragment"
    }
   },
   "source": [
    "Let's verify that the inconsistency is now resolved:"
   ]
  },
  {
   "cell_type": "code",
   "execution_count": 11,
   "metadata": {},
   "outputs": [
    {
     "data": {
      "text/html": [
       "<div>\n",
       "<style scoped>\n",
       "    .dataframe tbody tr th:only-of-type {\n",
       "        vertical-align: middle;\n",
       "    }\n",
       "\n",
       "    .dataframe tbody tr th {\n",
       "        vertical-align: top;\n",
       "    }\n",
       "\n",
       "    .dataframe thead th {\n",
       "        text-align: right;\n",
       "    }\n",
       "</style>\n",
       "<table border=\"1\" class=\"dataframe\">\n",
       "  <thead>\n",
       "    <tr style=\"text-align: right;\">\n",
       "      <th></th>\n",
       "      <th></th>\n",
       "      <th>REC_ID</th>\n",
       "    </tr>\n",
       "    <tr>\n",
       "      <th>PDSTATE</th>\n",
       "      <th>PDTRTMNT</th>\n",
       "      <th></th>\n",
       "    </tr>\n",
       "  </thead>\n",
       "  <tbody>\n",
       "    <tr>\n",
       "      <th rowspan=\"3\" valign=\"top\">OFF</th>\n",
       "      <th>0.0</th>\n",
       "      <td>18</td>\n",
       "    </tr>\n",
       "    <tr>\n",
       "      <th>1.0</th>\n",
       "      <td>3257</td>\n",
       "    </tr>\n",
       "    <tr>\n",
       "      <th>NaN</th>\n",
       "      <td>6</td>\n",
       "    </tr>\n",
       "    <tr>\n",
       "      <th rowspan=\"2\" valign=\"top\">ON</th>\n",
       "      <th>1.0</th>\n",
       "      <td>5560</td>\n",
       "    </tr>\n",
       "    <tr>\n",
       "      <th>NaN</th>\n",
       "      <td>1</td>\n",
       "    </tr>\n",
       "    <tr>\n",
       "      <th rowspan=\"3\" valign=\"top\">NaN</th>\n",
       "      <th>0.0</th>\n",
       "      <td>8190</td>\n",
       "    </tr>\n",
       "    <tr>\n",
       "      <th>1.0</th>\n",
       "      <td>135</td>\n",
       "    </tr>\n",
       "    <tr>\n",
       "      <th>NaN</th>\n",
       "      <td>2322</td>\n",
       "    </tr>\n",
       "  </tbody>\n",
       "</table>\n",
       "</div>"
      ],
      "text/plain": [
       "                  REC_ID\n",
       "PDSTATE PDTRTMNT        \n",
       "OFF     0.0           18\n",
       "        1.0         3257\n",
       "        NaN            6\n",
       "ON      1.0         5560\n",
       "        NaN            1\n",
       "NaN     0.0         8190\n",
       "        1.0          135\n",
       "        NaN         2322"
      ]
     },
     "execution_count": 11,
     "metadata": {},
     "output_type": "execute_result"
    }
   ],
   "source": [
    "df.groupby([\"PDSTATE\", \"PDTRTMNT\"], dropna=False)[[\"REC_ID\"]].count()"
   ]
  },
  {
   "cell_type": "markdown",
   "metadata": {
    "slideshow": {
     "slide_type": "slide"
    }
   },
   "source": [
    "## PDTRTMNT=0 and PDMEDTM not empty\n",
    "\n",
    "<div class=\"alert alert-block alert-danger\">\n",
    " \t&#10060; <b>Problem:</b> some records have a non-empty PDMEDTIME and have PDTRTMNT=0, which is inconsistent.\n",
    "    </div>"
   ]
  },
  {
   "cell_type": "markdown",
   "metadata": {
    "slideshow": {
     "slide_type": "fragment"
    }
   },
   "source": [
    "Number of records with a non-empty PDMEDTIME and PDTRTMNT=0:"
   ]
  },
  {
   "cell_type": "code",
   "execution_count": 12,
   "metadata": {},
   "outputs": [
    {
     "data": {
      "text/plain": [
       "474"
      ]
     },
     "execution_count": 12,
     "metadata": {},
     "output_type": "execute_result"
    }
   ],
   "source": [
    "errors = df[(df[\"PDMEDTM\"].notnull()) & (df[\"PDTRTMNT\"] == 0)]\n",
    "len(errors)"
   ]
  },
  {
   "cell_type": "markdown",
   "metadata": {
    "slideshow": {
     "slide_type": "fragment"
    }
   },
   "source": [
    "PDMEDTIME values for these records look plausible:"
   ]
  },
  {
   "cell_type": "code",
   "execution_count": 13,
   "metadata": {
    "slideshow": {
     "slide_type": "fragment"
    }
   },
   "outputs": [
    {
     "data": {
      "image/png": "[encoded data removed]",
      "text/plain": [
       "<Figure size 640x480 with 1 Axes>"
      ]
     },
     "metadata": {},
     "output_type": "display_data"
    }
   ],
   "source": [
    "from matplotlib import pyplot as plt\n",
    "\n",
    "pd.to_datetime(errors[\"PDMEDTM\"]).dt.hour.hist(bins=24, xrot=90, legend=True)\n",
    "plt.xlabel(\"Hour of the day\")\n",
    "plt.ylabel(\"Number of records\")\n",
    "plt.show()"
   ]
  },
  {
   "cell_type": "markdown",
   "metadata": {
    "slideshow": {
     "slide_type": "fragment"
    }
   },
   "source": [
    "<div class=\"alert alert-block alert-success\">\n",
    "    \t&#10003; <b>Proposed correction:</b> set PDTRTMNT=1. It is unlikely that a plausible medication time was entered by mistake.\n",
    "</div>"
   ]
  },
  {
   "cell_type": "markdown",
   "metadata": {
    "slideshow": {
     "slide_type": "slide"
    }
   },
   "source": [
    "⚙️ Implementation"
   ]
  },
  {
   "cell_type": "code",
   "execution_count": 14,
   "metadata": {},
   "outputs": [],
   "source": [
    "df.loc[(df[\"PDTRTMNT\"] == 0) & (df[\"PDMEDTM\"].notnull()), \"PDTRTMNT\"] = 1"
   ]
  },
  {
   "cell_type": "markdown",
   "metadata": {},
   "source": [
    "Let's verify that the inconsistency is now fixed by counting the number of records with a non-empty PDMEDTIME and PDTRTMNT=0:"
   ]
  },
  {
   "cell_type": "code",
   "execution_count": 15,
   "metadata": {},
   "outputs": [
    {
     "data": {
      "text/plain": [
       "0"
      ]
     },
     "execution_count": 15,
     "metadata": {},
     "output_type": "execute_result"
    }
   ],
   "source": [
    "errors = df[(df[\"PDMEDTM\"].notnull()) & (df[\"PDTRTMNT\"] == 0)]\n",
    "len(errors)"
   ]
  },
  {
   "cell_type": "markdown",
   "metadata": {
    "slideshow": {
     "slide_type": "slide"
    }
   },
   "source": [
    "## EVENT_ID = SC and PDTRTMNT = 1"
   ]
  },
  {
   "cell_type": "markdown",
   "metadata": {
    "slideshow": {
     "slide_type": "fragment"
    }
   },
   "source": [
    "<div class=\"alert alert-block alert-danger\">\n",
    "     \t&#10060; <b>Problem</b>: Some patients were on medication at screening time while PPMI patients were supposed to be unmedicated at screening time.\n",
    "    </div>"
   ]
  },
  {
   "cell_type": "markdown",
   "metadata": {
    "slideshow": {
     "slide_type": "fragment"
    }
   },
   "source": [
    "Number of patients on medication at screening time:"
   ]
  },
  {
   "cell_type": "code",
   "execution_count": 16,
   "metadata": {},
   "outputs": [
    {
     "data": {
      "text/plain": [
       "9"
      ]
     },
     "execution_count": 16,
     "metadata": {},
     "output_type": "execute_result"
    }
   ],
   "source": [
    "len(df[(df[\"EVENT_ID\"] == \"SC\") & (df[\"PDTRTMNT\"] == 1)])"
   ]
  },
  {
   "cell_type": "markdown",
   "metadata": {
    "slideshow": {
     "slide_type": "fragment"
    }
   },
   "source": [
    "<div class=\"alert alert-block alert-success\">\n",
    "     \t&#10003; <b>Proposed correction:</b> keep the records. Maybe the patients started medication between recruitment and screening time.\n",
    "</div>"
   ]
  },
  {
   "cell_type": "markdown",
   "metadata": {},
   "source": [
    "## PDSTATE=ON and EXAMTM<PDMEDTM"
   ]
  },
  {
   "cell_type": "markdown",
   "metadata": {
    "slideshow": {
     "slide_type": "fragment"
    }
   },
   "source": [
    "<div class=\"alert alert-block alert-danger\">\n",
    "     \t&#10060; <b>Problem</b>: Some records have PDSTATE=ON but PDMEDTM is after EXAMTM. \n",
    "    </div>"
   ]
  },
  {
   "cell_type": "markdown",
   "metadata": {
    "slideshow": {
     "slide_type": "fragment"
    }
   },
   "source": [
    "Number of records where PDSTATE=ON and EXAMTM<PDMEDTM:"
   ]
  },
  {
   "cell_type": "code",
   "execution_count": 17,
   "metadata": {},
   "outputs": [
    {
     "data": {
      "text/plain": [
       "40"
      ]
     },
     "execution_count": 17,
     "metadata": {},
     "output_type": "execute_result"
    }
   ],
   "source": [
    "# ON records\n",
    "on = df[df[\"PDSTATE\"] == \"ON\"]\n",
    "\n",
    "\n",
    "def to_secs(x):\n",
    "    \"\"\"\n",
    "    Convert time from hh:mm to seconds since midnight\n",
    "\n",
    "    x: time in hh:ss format\n",
    "    return: number of seconds elapsed since midnight\n",
    "    \"\"\"\n",
    "    if str(x) == \"nan\":\n",
    "        import numpy as np\n",
    "\n",
    "        return np.NaN\n",
    "    try:\n",
    "        hour, mn, sec = x.split(\":\")\n",
    "    except Exception as e:\n",
    "        print(f'Cannot process \"{x}\"')\n",
    "        raise (e)\n",
    "    return int(hour) * 3600 + int(mn) * 60 + int(sec)\n",
    "\n",
    "\n",
    "on[\"delta\"] = on[\"EXAMTM\"].apply(to_secs) - on[\"PDMEDTM\"].apply(to_secs)\n",
    "len(on[on[\"delta\"] < 0])"
   ]
  },
  {
   "cell_type": "markdown",
   "metadata": {
    "slideshow": {
     "slide_type": "fragment"
    }
   },
   "source": [
    "<div class=\"alert alert-block alert-success\">\n",
    "     \t&#10003; <b>Proposed correction:</b> discard the records. \n",
    "</div>"
   ]
  },
  {
   "cell_type": "markdown",
   "metadata": {},
   "source": [
    "Note: for some of these records, medication date was likely on the day before the exam, although this cannot be verified since dates only contain a year and a month but no day. Even in such cases, duration between medication time and exam time was more than 6 hours which is inconsistent with the rule used for the other records."
   ]
  },
  {
   "cell_type": "markdown",
   "metadata": {
    "slideshow": {
     "slide_type": "slide"
    }
   },
   "source": [
    "⚙️ Implementation"
   ]
  },
  {
   "cell_type": "code",
   "execution_count": 18,
   "metadata": {},
   "outputs": [
    {
     "name": "stdout",
     "output_type": "stream",
     "text": [
      "Removed 40 records where PDSTATE=ON and EXAMTM<PDMEDTM\n"
     ]
    }
   ],
   "source": [
    "before = len(df)\n",
    "df = df[\n",
    "    ~(\n",
    "        (df[\"PDSTATE\"] == \"ON\")\n",
    "        & df[\"EXAMTM\"].notnull()\n",
    "        & df[\"PDMEDTM\"].notnull()\n",
    "        & (df[\"EXAMTM\"] < df[\"PDMEDTM\"])\n",
    "    )\n",
    "]\n",
    "print(f\"Removed {before-len(df)} records where PDSTATE=ON and EXAMTM<PDMEDTM\")"
   ]
  },
  {
   "cell_type": "markdown",
   "metadata": {
    "slideshow": {
     "slide_type": "slide"
    }
   },
   "source": [
    "## Visits with 3 exams"
   ]
  },
  {
   "cell_type": "markdown",
   "metadata": {
    "slideshow": {
     "slide_type": "fragment"
    }
   },
   "source": [
    "<div class=\"alert alert-block alert-danger\">\n",
    "    \t&#10060; <b>Problem</b>: some visits have 3 exams while a maximum of two exams per visit are expected, one in OFF state and one in ON state.\n",
    "</div>"
   ]
  },
  {
   "cell_type": "markdown",
   "metadata": {
    "slideshow": {
     "slide_type": "fragment"
    }
   },
   "source": [
    "Number of records that belong to a visit with more than 3 exams:"
   ]
  },
  {
   "cell_type": "code",
   "execution_count": 19,
   "metadata": {},
   "outputs": [
    {
     "data": {
      "text/plain": [
       "15"
      ]
     },
     "execution_count": 19,
     "metadata": {},
     "output_type": "execute_result"
    }
   ],
   "source": [
    "pb = df.groupby([\"PATNO\", \"EVENT_ID\"]).filter(lambda x: len(x) > 2)\n",
    "len(pb)"
   ]
  },
  {
   "cell_type": "markdown",
   "metadata": {
    "slideshow": {
     "slide_type": "fragment"
    }
   },
   "source": [
    "Each exams triple has an exam with missing EXAMTM and missing PDSTATE:"
   ]
  },
  {
   "cell_type": "code",
   "execution_count": 20,
   "metadata": {},
   "outputs": [
    {
     "data": {
      "text/html": [
       "<table border=\"1\" class=\"dataframe\">\n",
       "  <thead>\n",
       "    <tr style=\"text-align: right;\">\n",
       "      <th>EVENT_ID</th>\n",
       "      <th>PDSTATE</th>\n",
       "      <th>EXAMTM</th>\n",
       "    </tr>\n",
       "  </thead>\n",
       "  <tbody>\n",
       "    <tr>\n",
       "      <td>V16</td>\n",
       "      <td>OFF</td>\n",
       "      <td>08:35:00</td>\n",
       "    </tr>\n",
       "    <tr>\n",
       "      <td>V16</td>\n",
       "      <td>ON</td>\n",
       "      <td>09:36:00</td>\n",
       "    </tr>\n",
       "    <tr>\n",
       "      <td>V16</td>\n",
       "      <td>NaN</td>\n",
       "      <td>NaN</td>\n",
       "    </tr>\n",
       "    <tr>\n",
       "      <td>V16</td>\n",
       "      <td>ON</td>\n",
       "      <td>12:45:00</td>\n",
       "    </tr>\n",
       "    <tr>\n",
       "      <td>V16</td>\n",
       "      <td>NaN</td>\n",
       "      <td>NaN</td>\n",
       "    </tr>\n",
       "    <tr>\n",
       "      <td>V16</td>\n",
       "      <td>OFF</td>\n",
       "      <td>10:48:00</td>\n",
       "    </tr>\n",
       "    <tr>\n",
       "      <td>V14</td>\n",
       "      <td>ON</td>\n",
       "      <td>12:00:00</td>\n",
       "    </tr>\n",
       "    <tr>\n",
       "      <td>V14</td>\n",
       "      <td>NaN</td>\n",
       "      <td>NaN</td>\n",
       "    </tr>\n",
       "    <tr>\n",
       "      <td>V14</td>\n",
       "      <td>OFF</td>\n",
       "      <td>10:20:00</td>\n",
       "    </tr>\n",
       "    <tr>\n",
       "      <td>V13</td>\n",
       "      <td>NaN</td>\n",
       "      <td>NaN</td>\n",
       "    </tr>\n",
       "    <tr>\n",
       "      <td>V13</td>\n",
       "      <td>OFF</td>\n",
       "      <td>09:18:00</td>\n",
       "    </tr>\n",
       "    <tr>\n",
       "      <td>V13</td>\n",
       "      <td>ON</td>\n",
       "      <td>10:40:00</td>\n",
       "    </tr>\n",
       "    <tr>\n",
       "      <td>V12</td>\n",
       "      <td>OFF</td>\n",
       "      <td>10:05:00</td>\n",
       "    </tr>\n",
       "    <tr>\n",
       "      <td>V12</td>\n",
       "      <td>ON</td>\n",
       "      <td>NaN</td>\n",
       "    </tr>\n",
       "    <tr>\n",
       "      <td>V12</td>\n",
       "      <td>NaN</td>\n",
       "      <td>NaN</td>\n",
       "    </tr>\n",
       "  </tbody>\n",
       "</table>"
      ],
      "text/plain": [
       "<IPython.core.display.HTML object>"
      ]
     },
     "execution_count": 20,
     "metadata": {},
     "output_type": "execute_result"
    }
   ],
   "source": [
    "pb = df.groupby([\"PATNO\", \"EVENT_ID\"]).filter(lambda x: len(x) > 2)\n",
    "pb_trunc = pb[[\"EVENT_ID\", \"PDSTATE\", \"EXAMTM\"]]\n",
    "from IPython.display import HTML\n",
    "\n",
    "HTML(pb_trunc.to_html(index=False))"
   ]
  },
  {
   "cell_type": "markdown",
   "metadata": {
    "slideshow": {
     "slide_type": "fragment"
    }
   },
   "source": [
    "<div class=\"alert alert-block alert-success\">\n",
    "  \t&#10003;   <b>Proposed correction:</b> remove exam with EXAMTM=NaN and PDSTATE=NaN when visit has 3 exams.\n",
    "</div>"
   ]
  },
  {
   "cell_type": "markdown",
   "metadata": {
    "slideshow": {
     "slide_type": "slide"
    }
   },
   "source": [
    "⚙️ Implementation"
   ]
  },
  {
   "cell_type": "code",
   "execution_count": 21,
   "metadata": {},
   "outputs": [
    {
     "name": "stdout",
     "output_type": "stream",
     "text": [
      "Number of removed records: 5\n"
     ]
    }
   ],
   "source": [
    "a = df.groupby([\"PATNO\", \"EVENT_ID\"]).filter(lambda x: len(x) > 2)\n",
    "index = (a[(a[\"PDSTATE\"].isnull()) & (a[\"EXAMTM\"].isnull())]).index\n",
    "\n",
    "before_len = len(df)\n",
    "df = df[~df.index.isin(index)]\n",
    "print(f\"Number of removed records: {before_len-len(df)}\")"
   ]
  },
  {
   "cell_type": "markdown",
   "metadata": {},
   "source": [
    "Let's verify that the inconsistency is solved by counting the number of records that belong to a visit with more than 3 exams:"
   ]
  },
  {
   "cell_type": "code",
   "execution_count": 22,
   "metadata": {},
   "outputs": [
    {
     "data": {
      "text/plain": [
       "0"
      ]
     },
     "execution_count": 22,
     "metadata": {},
     "output_type": "execute_result"
    }
   ],
   "source": [
    "pb = df.groupby([\"PATNO\", \"EVENT_ID\"]).filter(lambda x: len(x) > 2)\n",
    "len(pb)"
   ]
  },
  {
   "cell_type": "markdown",
   "metadata": {
    "slideshow": {
     "slide_type": "slide"
    }
   },
   "source": [
    "# 🕵️ Imputation of missing PDSTATE or PDTRTMNT"
   ]
  },
  {
   "cell_type": "markdown",
   "metadata": {
    "slideshow": {
     "slide_type": "fragment"
    }
   },
   "source": [
    "<div class=\"alert alert-block alert-danger\">\n",
    "    \t&#10060; <b>Problem:</b> variables PDSTATE and PDTRTMNT have missing data, which makes it difficult to identify when/if a patient was under medication.\n",
    "</div>"
   ]
  },
  {
   "cell_type": "markdown",
   "metadata": {},
   "source": [
    "The following table summarizes the number of records for which PDSTATE or PDTRTMNT is missing:"
   ]
  },
  {
   "cell_type": "code",
   "execution_count": 23,
   "metadata": {
    "scrolled": true
   },
   "outputs": [
    {
     "data": {
      "text/html": [
       "<div>\n",
       "<style scoped>\n",
       "    .dataframe tbody tr th:only-of-type {\n",
       "        vertical-align: middle;\n",
       "    }\n",
       "\n",
       "    .dataframe tbody tr th {\n",
       "        vertical-align: top;\n",
       "    }\n",
       "\n",
       "    .dataframe thead th {\n",
       "        text-align: right;\n",
       "    }\n",
       "</style>\n",
       "<table border=\"1\" class=\"dataframe\">\n",
       "  <thead>\n",
       "    <tr style=\"text-align: right;\">\n",
       "      <th></th>\n",
       "      <th></th>\n",
       "      <th>REC_ID</th>\n",
       "    </tr>\n",
       "    <tr>\n",
       "      <th>PDSTATE</th>\n",
       "      <th>PDTRTMNT</th>\n",
       "      <th></th>\n",
       "    </tr>\n",
       "  </thead>\n",
       "  <tbody>\n",
       "    <tr>\n",
       "      <th rowspan=\"3\" valign=\"top\">OFF</th>\n",
       "      <th>0.0</th>\n",
       "      <td>14</td>\n",
       "    </tr>\n",
       "    <tr>\n",
       "      <th>1.0</th>\n",
       "      <td>3261</td>\n",
       "    </tr>\n",
       "    <tr>\n",
       "      <th>NaN</th>\n",
       "      <td>6</td>\n",
       "    </tr>\n",
       "    <tr>\n",
       "      <th rowspan=\"2\" valign=\"top\">ON</th>\n",
       "      <th>1.0</th>\n",
       "      <td>5520</td>\n",
       "    </tr>\n",
       "    <tr>\n",
       "      <th>NaN</th>\n",
       "      <td>1</td>\n",
       "    </tr>\n",
       "    <tr>\n",
       "      <th rowspan=\"3\" valign=\"top\">NaN</th>\n",
       "      <th>0.0</th>\n",
       "      <td>7715</td>\n",
       "    </tr>\n",
       "    <tr>\n",
       "      <th>1.0</th>\n",
       "      <td>605</td>\n",
       "    </tr>\n",
       "    <tr>\n",
       "      <th>NaN</th>\n",
       "      <td>2322</td>\n",
       "    </tr>\n",
       "  </tbody>\n",
       "</table>\n",
       "</div>"
      ],
      "text/plain": [
       "                  REC_ID\n",
       "PDSTATE PDTRTMNT        \n",
       "OFF     0.0           14\n",
       "        1.0         3261\n",
       "        NaN            6\n",
       "ON      1.0         5520\n",
       "        NaN            1\n",
       "NaN     0.0         7715\n",
       "        1.0          605\n",
       "        NaN         2322"
      ]
     },
     "execution_count": 23,
     "metadata": {},
     "output_type": "execute_result"
    }
   ],
   "source": [
    "df.groupby([\"PDSTATE\", \"PDTRTMNT\"], dropna=False)[[\"REC_ID\"]].count()"
   ]
  },
  {
   "cell_type": "markdown",
   "metadata": {
    "slideshow": {
     "slide_type": "fragment"
    }
   },
   "source": [
    "The following cases will be treated separately in the following sections:\n",
    "\n",
    "|               |PDSTATE | PDTRTMNT | Number of records |\n",
    "|---------------|--------|----------|-------------------|\n",
    "| **Case 1**  | OFF    | NaN      | 6                 |\n",
    "| **Case 2** | NaN    | 0        | 6947          |\n",
    "| **Case 3**|  NaN   | 1        | 633               |\n",
    "| **Case 4** | NaN    | NaN      | 2322             |\n",
    "| **Case 5**  | ON     | NaN      | 1                 |"
   ]
  },
  {
   "cell_type": "markdown",
   "metadata": {
    "slideshow": {
     "slide_type": "slide"
    }
   },
   "source": [
    "## Case 1: PDSTATE=OFF and PDTRTMNT=NaN"
   ]
  },
  {
   "cell_type": "markdown",
   "metadata": {
    "slideshow": {
     "slide_type": "fragment"
    }
   },
   "source": [
    "No record in case 1 has a medication date (PDMEDDT), a medication time (PDMEDTM), or\n",
    "a DBS status (DBS_STATUS):"
   ]
  },
  {
   "cell_type": "code",
   "execution_count": 24,
   "metadata": {},
   "outputs": [
    {
     "data": {
      "text/html": [
       "<div>\n",
       "<style scoped>\n",
       "    .dataframe tbody tr th:only-of-type {\n",
       "        vertical-align: middle;\n",
       "    }\n",
       "\n",
       "    .dataframe tbody tr th {\n",
       "        vertical-align: top;\n",
       "    }\n",
       "\n",
       "    .dataframe thead th {\n",
       "        text-align: right;\n",
       "    }\n",
       "</style>\n",
       "<table border=\"1\" class=\"dataframe\">\n",
       "  <thead>\n",
       "    <tr style=\"text-align: right;\">\n",
       "      <th></th>\n",
       "      <th></th>\n",
       "      <th></th>\n",
       "      <th></th>\n",
       "      <th></th>\n",
       "      <th></th>\n",
       "      <th></th>\n",
       "      <th></th>\n",
       "      <th>REC_ID</th>\n",
       "    </tr>\n",
       "    <tr>\n",
       "      <th>PDMEDDT</th>\n",
       "      <th>PDMEDTM</th>\n",
       "      <th>DBS_STATUS</th>\n",
       "      <th>HRPOSTMED</th>\n",
       "      <th>DBSONTM</th>\n",
       "      <th>DBSOFFTM</th>\n",
       "      <th>HRDBSOFF</th>\n",
       "      <th>HRDBSON</th>\n",
       "      <th></th>\n",
       "    </tr>\n",
       "  </thead>\n",
       "  <tbody>\n",
       "    <tr>\n",
       "      <th>NaN</th>\n",
       "      <th>NaN</th>\n",
       "      <th>NaN</th>\n",
       "      <th>NaN</th>\n",
       "      <th>NaN</th>\n",
       "      <th>NaN</th>\n",
       "      <th>NaN</th>\n",
       "      <th>NaN</th>\n",
       "      <td>6</td>\n",
       "    </tr>\n",
       "  </tbody>\n",
       "</table>\n",
       "</div>"
      ],
      "text/plain": [
       "                                                                        REC_ID\n",
       "PDMEDDT PDMEDTM DBS_STATUS HRPOSTMED DBSONTM DBSOFFTM HRDBSOFF HRDBSON        \n",
       "NaN     NaN     NaN        NaN       NaN     NaN      NaN      NaN           6"
      ]
     },
     "execution_count": 24,
     "metadata": {},
     "output_type": "execute_result"
    }
   ],
   "source": [
    "case_1 = df[(df[\"PDSTATE\"] == \"OFF\") & (df[\"PDTRTMNT\"].isnull())]\n",
    "case_1.groupby(\n",
    "    [\n",
    "        \"PDMEDDT\",\n",
    "        \"PDMEDTM\",\n",
    "        \"DBS_STATUS\",\n",
    "        \"HRPOSTMED\",\n",
    "        \"DBSONTM\",\n",
    "        \"DBSOFFTM\",\n",
    "        \"HRDBSOFF\",\n",
    "        \"HRDBSON\",\n",
    "    ],\n",
    "    dropna=False,\n",
    ")[[\"REC_ID\"]].count()"
   ]
  },
  {
   "cell_type": "markdown",
   "metadata": {
    "slideshow": {
     "slide_type": "fragment"
    }
   },
   "source": [
    "<div class=\"alert alert-block alert-success\">\n",
    " \t&#10003;    <b>Proposed correction</b>: set PDTRTMNT=0. It is unlikely that these records correspond to medicated patients when none of the variables related to medication have a value.\n",
    "</div>"
   ]
  },
  {
   "cell_type": "markdown",
   "metadata": {
    "slideshow": {
     "slide_type": "slide"
    }
   },
   "source": [
    "⚙️ Implementation"
   ]
  },
  {
   "cell_type": "code",
   "execution_count": 25,
   "metadata": {},
   "outputs": [],
   "source": [
    "df.loc[(df[\"PDSTATE\"] == \"OFF\") & (df[\"PDTRTMNT\"].isnull()), \"PDTRTMNT\"] = 0"
   ]
  },
  {
   "cell_type": "markdown",
   "metadata": {
    "slideshow": {
     "slide_type": "fragment"
    }
   },
   "source": [
    "Let's verify that case 1 is now resolved:"
   ]
  },
  {
   "cell_type": "code",
   "execution_count": 26,
   "metadata": {},
   "outputs": [
    {
     "data": {
      "text/html": [
       "<div>\n",
       "<style scoped>\n",
       "    .dataframe tbody tr th:only-of-type {\n",
       "        vertical-align: middle;\n",
       "    }\n",
       "\n",
       "    .dataframe tbody tr th {\n",
       "        vertical-align: top;\n",
       "    }\n",
       "\n",
       "    .dataframe thead th {\n",
       "        text-align: right;\n",
       "    }\n",
       "</style>\n",
       "<table border=\"1\" class=\"dataframe\">\n",
       "  <thead>\n",
       "    <tr style=\"text-align: right;\">\n",
       "      <th></th>\n",
       "      <th></th>\n",
       "      <th>REC_ID</th>\n",
       "    </tr>\n",
       "    <tr>\n",
       "      <th>PDSTATE</th>\n",
       "      <th>PDTRTMNT</th>\n",
       "      <th></th>\n",
       "    </tr>\n",
       "  </thead>\n",
       "  <tbody>\n",
       "    <tr>\n",
       "      <th rowspan=\"2\" valign=\"top\">OFF</th>\n",
       "      <th>0.0</th>\n",
       "      <td>20</td>\n",
       "    </tr>\n",
       "    <tr>\n",
       "      <th>1.0</th>\n",
       "      <td>3261</td>\n",
       "    </tr>\n",
       "    <tr>\n",
       "      <th rowspan=\"2\" valign=\"top\">ON</th>\n",
       "      <th>1.0</th>\n",
       "      <td>5520</td>\n",
       "    </tr>\n",
       "    <tr>\n",
       "      <th>NaN</th>\n",
       "      <td>1</td>\n",
       "    </tr>\n",
       "    <tr>\n",
       "      <th rowspan=\"3\" valign=\"top\">NaN</th>\n",
       "      <th>0.0</th>\n",
       "      <td>7715</td>\n",
       "    </tr>\n",
       "    <tr>\n",
       "      <th>1.0</th>\n",
       "      <td>605</td>\n",
       "    </tr>\n",
       "    <tr>\n",
       "      <th>NaN</th>\n",
       "      <td>2322</td>\n",
       "    </tr>\n",
       "  </tbody>\n",
       "</table>\n",
       "</div>"
      ],
      "text/plain": [
       "                  REC_ID\n",
       "PDSTATE PDTRTMNT        \n",
       "OFF     0.0           20\n",
       "        1.0         3261\n",
       "ON      1.0         5520\n",
       "        NaN            1\n",
       "NaN     0.0         7715\n",
       "        1.0          605\n",
       "        NaN         2322"
      ]
     },
     "execution_count": 26,
     "metadata": {},
     "output_type": "execute_result"
    }
   ],
   "source": [
    "df.groupby([\"PDSTATE\", \"PDTRTMNT\"], dropna=False)[[\"REC_ID\"]].count()"
   ]
  },
  {
   "cell_type": "markdown",
   "metadata": {
    "slideshow": {
     "slide_type": "slide"
    }
   },
   "source": [
    "## Case 2: PDSTATE=NaN and PDTRTMNT=0\n",
    "\n",
    "<div class=\"alert alert-block alert-success\">\n",
    "   \t&#10003;   <b>Proposed correction</b>: set PDSTATE=OFF. The patient is not medicated and for this reason PDSTATE is likely to not have been entered.\n",
    "</div>"
   ]
  },
  {
   "cell_type": "markdown",
   "metadata": {
    "slideshow": {
     "slide_type": "fragment"
    }
   },
   "source": [
    "⚙️ Implementation"
   ]
  },
  {
   "cell_type": "code",
   "execution_count": 27,
   "metadata": {},
   "outputs": [],
   "source": [
    "df.loc[(df[\"PDSTATE\"].isnull()) & (df[\"PDTRTMNT\"] == 0), \"PDSTATE\"] = \"OFF\""
   ]
  },
  {
   "cell_type": "markdown",
   "metadata": {
    "slideshow": {
     "slide_type": "fragment"
    }
   },
   "source": [
    "Let's verify that case 2 is now resolved:"
   ]
  },
  {
   "cell_type": "code",
   "execution_count": 28,
   "metadata": {},
   "outputs": [
    {
     "data": {
      "text/html": [
       "<div>\n",
       "<style scoped>\n",
       "    .dataframe tbody tr th:only-of-type {\n",
       "        vertical-align: middle;\n",
       "    }\n",
       "\n",
       "    .dataframe tbody tr th {\n",
       "        vertical-align: top;\n",
       "    }\n",
       "\n",
       "    .dataframe thead th {\n",
       "        text-align: right;\n",
       "    }\n",
       "</style>\n",
       "<table border=\"1\" class=\"dataframe\">\n",
       "  <thead>\n",
       "    <tr style=\"text-align: right;\">\n",
       "      <th></th>\n",
       "      <th></th>\n",
       "      <th>REC_ID</th>\n",
       "    </tr>\n",
       "    <tr>\n",
       "      <th>PDSTATE</th>\n",
       "      <th>PDTRTMNT</th>\n",
       "      <th></th>\n",
       "    </tr>\n",
       "  </thead>\n",
       "  <tbody>\n",
       "    <tr>\n",
       "      <th rowspan=\"2\" valign=\"top\">OFF</th>\n",
       "      <th>0.0</th>\n",
       "      <td>7735</td>\n",
       "    </tr>\n",
       "    <tr>\n",
       "      <th>1.0</th>\n",
       "      <td>3261</td>\n",
       "    </tr>\n",
       "    <tr>\n",
       "      <th rowspan=\"2\" valign=\"top\">ON</th>\n",
       "      <th>1.0</th>\n",
       "      <td>5520</td>\n",
       "    </tr>\n",
       "    <tr>\n",
       "      <th>NaN</th>\n",
       "      <td>1</td>\n",
       "    </tr>\n",
       "    <tr>\n",
       "      <th rowspan=\"2\" valign=\"top\">NaN</th>\n",
       "      <th>1.0</th>\n",
       "      <td>605</td>\n",
       "    </tr>\n",
       "    <tr>\n",
       "      <th>NaN</th>\n",
       "      <td>2322</td>\n",
       "    </tr>\n",
       "  </tbody>\n",
       "</table>\n",
       "</div>"
      ],
      "text/plain": [
       "                  REC_ID\n",
       "PDSTATE PDTRTMNT        \n",
       "OFF     0.0         7735\n",
       "        1.0         3261\n",
       "ON      1.0         5520\n",
       "        NaN            1\n",
       "NaN     1.0          605\n",
       "        NaN         2322"
      ]
     },
     "execution_count": 28,
     "metadata": {},
     "output_type": "execute_result"
    }
   ],
   "source": [
    "df.groupby([\"PDSTATE\", \"PDTRTMNT\"], dropna=False)[[\"REC_ID\"]].count()"
   ]
  },
  {
   "cell_type": "markdown",
   "metadata": {
    "slideshow": {
     "slide_type": "slide"
    }
   },
   "source": [
    "## Case 3: PDSTATE=NaN and PDTRTMNT=1\n",
    "\n",
    "<div class=\"alert alert-block alert-success\">\n",
    "    \t&#10003; <b>Proposed correction</b>: \n",
    "    <ul>\n",
    "        <li>(a) <b>IF</b> record belongs to a visit with two exams:</li>\n",
    "            <ul>\n",
    "                <li> Set PDSTATE=OFF for record with earliest EXAMTM</li>\n",
    "                <li> Set PDSTATE=ON for record with latest EXAMTM</li>\n",
    "            </ul>\n",
    "        <li>(b) <b>ELSE</b>: determine PDSTATE as a function of PDMEDTM and EXAMTM:</li>\n",
    "            <ul>\n",
    "                <li>(i) <b>IF</b> PDMEDTM or EXAMTM are missing <b>THEN</b> discard record.</li>\n",
    "                <li> (ii) <b>IF</b> PDMEDTM is earlier than EXAMTM:</li>\n",
    "                    <ul>\n",
    "                        <li><b>IF</b> EXAMTM-PDMEDTM < 6 hours (PPMI cut-off)<b>THEN</b>:\n",
    "                <ul><li><b>IF</b> EXAMTM-PDMEDTM >= 30 min <b>THEN</b> set PDSTATE=ON.</li>\n",
    "                    <li><b>ELSE</b>: discard record.</ul>\n",
    "        <li><b>ELSE:</b> set PDSTATE=OFF</li>\n",
    "                    </ul>\n",
    "                <li> (iii) <b>IF</b> PDMEDTM is later than EXAMTM <b>THEN</b>:\n",
    "                    <UL>\n",
    "                        <li>(a) <b>IF</b> PDMEDTM is later than 4pm <b>THEN</b> assume record belongs to the previous day, set PDSTATE=OFF.</li>\n",
    "                        <li>(b) <b>ELSE</b>                     \n",
    "                    discard record.\n",
    "                            </ul></li>\n",
    "    </ul>\n",
    "    \n",
    "    \n",
    "  \n",
    "</div>"
   ]
  },
  {
   "cell_type": "markdown",
   "metadata": {
    "slideshow": {
     "slide_type": "slide"
    }
   },
   "source": [
    "⚙️ Implementation\n",
    "\n",
    "Let's implement each sub-case separately."
   ]
  },
  {
   "cell_type": "markdown",
   "metadata": {},
   "source": [
    "### Case 3.a: visits with two exams"
   ]
  },
  {
   "cell_type": "markdown",
   "metadata": {},
   "source": [
    "Let's count the number of records in case 3.a:"
   ]
  },
  {
   "cell_type": "code",
   "execution_count": 29,
   "metadata": {},
   "outputs": [
    {
     "name": "stdout",
     "output_type": "stream",
     "text": [
      "Found 0 records in Case 3.a\n"
     ]
    }
   ],
   "source": [
    "case_3 = (df[\"PDSTATE\"].isnull()) & (df[\"PDTRTMNT\"] == 1)\n",
    "a = df[case_3].groupby([\"PATNO\", \"EVENT_ID\"]).filter(lambda x: len(x) == 2)\n",
    "print(f\"Found {len(a)} records in Case 3.a\")"
   ]
  },
  {
   "cell_type": "markdown",
   "metadata": {},
   "source": [
    "### Case 3.b.i: visits with one exam, missing EXAMTM or PDMEDTM"
   ]
  },
  {
   "cell_type": "markdown",
   "metadata": {},
   "source": [
    "Number of records in case 3.b with missing EXAMTM or missing PDMEDTM:"
   ]
  },
  {
   "cell_type": "code",
   "execution_count": 30,
   "metadata": {},
   "outputs": [
    {
     "data": {
      "text/plain": [
       "1"
      ]
     },
     "execution_count": 30,
     "metadata": {},
     "output_type": "execute_result"
    }
   ],
   "source": [
    "len(df[case_3 & ((df[\"EXAMTM\"].isnull()) | (df[\"PDMEDTM\"].isnull()))])"
   ]
  },
  {
   "cell_type": "code",
   "execution_count": 31,
   "metadata": {},
   "outputs": [
    {
     "name": "stdout",
     "output_type": "stream",
     "text": [
      "Removed 1 record(s) with missing EXAMTM or PDMEDTM\n"
     ]
    }
   ],
   "source": [
    "before_len = len(df)\n",
    "df.drop(\n",
    "    df[case_3 & ((df[\"EXAMTM\"].isnull()) | (df[\"PDMEDTM\"].isnull()))].index,\n",
    "    inplace=True,\n",
    ")\n",
    "print(f\"Removed {before_len-len(df)} record(s) with missing EXAMTM or PDMEDTM\")"
   ]
  },
  {
   "cell_type": "markdown",
   "metadata": {},
   "source": [
    "Updated records distribution in case 3:"
   ]
  },
  {
   "cell_type": "code",
   "execution_count": 32,
   "metadata": {},
   "outputs": [
    {
     "data": {
      "text/html": [
       "<div>\n",
       "<style scoped>\n",
       "    .dataframe tbody tr th:only-of-type {\n",
       "        vertical-align: middle;\n",
       "    }\n",
       "\n",
       "    .dataframe tbody tr th {\n",
       "        vertical-align: top;\n",
       "    }\n",
       "\n",
       "    .dataframe thead th {\n",
       "        text-align: right;\n",
       "    }\n",
       "</style>\n",
       "<table border=\"1\" class=\"dataframe\">\n",
       "  <thead>\n",
       "    <tr style=\"text-align: right;\">\n",
       "      <th></th>\n",
       "      <th></th>\n",
       "      <th>REC_ID</th>\n",
       "    </tr>\n",
       "    <tr>\n",
       "      <th>PDSTATE</th>\n",
       "      <th>PDTRTMNT</th>\n",
       "      <th></th>\n",
       "    </tr>\n",
       "  </thead>\n",
       "  <tbody>\n",
       "    <tr>\n",
       "      <th rowspan=\"2\" valign=\"top\">OFF</th>\n",
       "      <th>0.0</th>\n",
       "      <td>7735</td>\n",
       "    </tr>\n",
       "    <tr>\n",
       "      <th>1.0</th>\n",
       "      <td>3261</td>\n",
       "    </tr>\n",
       "    <tr>\n",
       "      <th rowspan=\"2\" valign=\"top\">ON</th>\n",
       "      <th>1.0</th>\n",
       "      <td>5520</td>\n",
       "    </tr>\n",
       "    <tr>\n",
       "      <th>NaN</th>\n",
       "      <td>1</td>\n",
       "    </tr>\n",
       "    <tr>\n",
       "      <th rowspan=\"2\" valign=\"top\">NaN</th>\n",
       "      <th>1.0</th>\n",
       "      <td>604</td>\n",
       "    </tr>\n",
       "    <tr>\n",
       "      <th>NaN</th>\n",
       "      <td>2322</td>\n",
       "    </tr>\n",
       "  </tbody>\n",
       "</table>\n",
       "</div>"
      ],
      "text/plain": [
       "                  REC_ID\n",
       "PDSTATE PDTRTMNT        \n",
       "OFF     0.0         7735\n",
       "        1.0         3261\n",
       "ON      1.0         5520\n",
       "        NaN            1\n",
       "NaN     1.0          604\n",
       "        NaN         2322"
      ]
     },
     "execution_count": 32,
     "metadata": {},
     "output_type": "execute_result"
    }
   ],
   "source": [
    "df.groupby([\"PDSTATE\", \"PDTRTMNT\"], dropna=False)[[\"REC_ID\"]].count()"
   ]
  },
  {
   "cell_type": "code",
   "execution_count": 33,
   "metadata": {},
   "outputs": [],
   "source": [
    "case_3 = (df[\"PDSTATE\"].isnull()) & (df[\"PDTRTMNT\"] == 1)"
   ]
  },
  {
   "cell_type": "markdown",
   "metadata": {},
   "source": [
    "### Case 3.b.ii: visits with one exam, PDMEDTM earlier than EXAMTM"
   ]
  },
  {
   "cell_type": "markdown",
   "metadata": {},
   "source": [
    "Number of records in case 3.b where PDMEDTM is earlier or equal to EXAMTM:"
   ]
  },
  {
   "cell_type": "code",
   "execution_count": 34,
   "metadata": {},
   "outputs": [
    {
     "data": {
      "text/plain": [
       "396"
      ]
     },
     "execution_count": 34,
     "metadata": {},
     "output_type": "execute_result"
    }
   ],
   "source": [
    "len(df[case_3 & (df[\"PDMEDTM\"] <= df[\"EXAMTM\"])])"
   ]
  },
  {
   "cell_type": "code",
   "execution_count": 35,
   "metadata": {},
   "outputs": [],
   "source": [
    "def to_secs(x):\n",
    "    if str(x) == \"nan\":\n",
    "        import numpy as np\n",
    "\n",
    "        return np.NaN\n",
    "    try:\n",
    "        hour, mn, sec = x.split(\":\")\n",
    "    except Exception as e:\n",
    "        print(f'Cannot process \"{x}\"')\n",
    "        raise (e)\n",
    "    return int(hour) * 3600 + int(mn) * 60 + int(sec)"
   ]
  },
  {
   "cell_type": "markdown",
   "metadata": {},
   "source": [
    "Number of records in case 3.b where PDMEDTM is earlier or equal to EXAMTM and $30\\,min \\le \\text{EXAMTM}-\\text{PDMEDTM} < 6\\,hours$:"
   ]
  },
  {
   "cell_type": "code",
   "execution_count": 36,
   "metadata": {},
   "outputs": [
    {
     "data": {
      "text/plain": [
       "331"
      ]
     },
     "execution_count": 36,
     "metadata": {},
     "output_type": "execute_result"
    }
   ],
   "source": [
    "len(\n",
    "    df[\n",
    "        case_3\n",
    "        & (df[\"EXAMTM\"].apply(to_secs) - df[\"PDMEDTM\"].apply(to_secs) >= 1800)\n",
    "        & (df[\"EXAMTM\"].apply(to_secs) - df[\"PDMEDTM\"].apply(to_secs) < 6 * 3600)\n",
    "    ]\n",
    ")"
   ]
  },
  {
   "cell_type": "markdown",
   "metadata": {},
   "source": [
    "Let's set PDSTATE=ON for these records."
   ]
  },
  {
   "cell_type": "code",
   "execution_count": 37,
   "metadata": {},
   "outputs": [],
   "source": [
    "df.loc[\n",
    "    case_3\n",
    "    & (df[\"EXAMTM\"].apply(to_secs) - df[\"PDMEDTM\"].apply(to_secs) >= 1800)\n",
    "    & (df[\"EXAMTM\"].apply(to_secs) - df[\"PDMEDTM\"].apply(to_secs) < 6 * 3600),\n",
    "    \"PDSTATE\",\n",
    "] = \"ON\""
   ]
  },
  {
   "cell_type": "markdown",
   "metadata": {},
   "source": [
    "Updated records distribution:"
   ]
  },
  {
   "cell_type": "code",
   "execution_count": 38,
   "metadata": {
    "scrolled": true
   },
   "outputs": [
    {
     "data": {
      "text/html": [
       "<div>\n",
       "<style scoped>\n",
       "    .dataframe tbody tr th:only-of-type {\n",
       "        vertical-align: middle;\n",
       "    }\n",
       "\n",
       "    .dataframe tbody tr th {\n",
       "        vertical-align: top;\n",
       "    }\n",
       "\n",
       "    .dataframe thead th {\n",
       "        text-align: right;\n",
       "    }\n",
       "</style>\n",
       "<table border=\"1\" class=\"dataframe\">\n",
       "  <thead>\n",
       "    <tr style=\"text-align: right;\">\n",
       "      <th></th>\n",
       "      <th></th>\n",
       "      <th>REC_ID</th>\n",
       "    </tr>\n",
       "    <tr>\n",
       "      <th>PDSTATE</th>\n",
       "      <th>PDTRTMNT</th>\n",
       "      <th></th>\n",
       "    </tr>\n",
       "  </thead>\n",
       "  <tbody>\n",
       "    <tr>\n",
       "      <th rowspan=\"2\" valign=\"top\">OFF</th>\n",
       "      <th>0.0</th>\n",
       "      <td>7735</td>\n",
       "    </tr>\n",
       "    <tr>\n",
       "      <th>1.0</th>\n",
       "      <td>3261</td>\n",
       "    </tr>\n",
       "    <tr>\n",
       "      <th rowspan=\"2\" valign=\"top\">ON</th>\n",
       "      <th>1.0</th>\n",
       "      <td>5851</td>\n",
       "    </tr>\n",
       "    <tr>\n",
       "      <th>NaN</th>\n",
       "      <td>1</td>\n",
       "    </tr>\n",
       "    <tr>\n",
       "      <th rowspan=\"2\" valign=\"top\">NaN</th>\n",
       "      <th>1.0</th>\n",
       "      <td>273</td>\n",
       "    </tr>\n",
       "    <tr>\n",
       "      <th>NaN</th>\n",
       "      <td>2322</td>\n",
       "    </tr>\n",
       "  </tbody>\n",
       "</table>\n",
       "</div>"
      ],
      "text/plain": [
       "                  REC_ID\n",
       "PDSTATE PDTRTMNT        \n",
       "OFF     0.0         7735\n",
       "        1.0         3261\n",
       "ON      1.0         5851\n",
       "        NaN            1\n",
       "NaN     1.0          273\n",
       "        NaN         2322"
      ]
     },
     "execution_count": 38,
     "metadata": {},
     "output_type": "execute_result"
    }
   ],
   "source": [
    "df.groupby([\"PDSTATE\", \"PDTRTMNT\"], dropna=False)[[\"REC_ID\"]].count()"
   ]
  },
  {
   "cell_type": "code",
   "execution_count": 39,
   "metadata": {},
   "outputs": [],
   "source": [
    "case_3 = (df[\"PDSTATE\"].isnull()) & (df[\"PDTRTMNT\"] == 1)"
   ]
  },
  {
   "cell_type": "markdown",
   "metadata": {},
   "source": [
    "Number of records in case 3.b where PDMEDTM is earlier or equal to EXAMTM and $\\text{EXAMTM-PDMEDTM} < 30\\,min$:"
   ]
  },
  {
   "cell_type": "code",
   "execution_count": 40,
   "metadata": {},
   "outputs": [
    {
     "data": {
      "text/plain": [
       "30"
      ]
     },
     "execution_count": 40,
     "metadata": {},
     "output_type": "execute_result"
    }
   ],
   "source": [
    "len(\n",
    "    df[\n",
    "        case_3\n",
    "        & (df[\"EXAMTM\"].apply(to_secs) - df[\"PDMEDTM\"].apply(to_secs) < 1800)\n",
    "        & (df[\"EXAMTM\"].apply(to_secs) - df[\"PDMEDTM\"].apply(to_secs) >= 0)\n",
    "    ]\n",
    ")"
   ]
  },
  {
   "cell_type": "markdown",
   "metadata": {},
   "source": [
    "Let's discard these records:"
   ]
  },
  {
   "cell_type": "code",
   "execution_count": 41,
   "metadata": {},
   "outputs": [],
   "source": [
    "df.drop(\n",
    "    df[\n",
    "        case_3\n",
    "        & (df[\"EXAMTM\"].apply(to_secs) - df[\"PDMEDTM\"].apply(to_secs) < 1800)\n",
    "        & (df[\"EXAMTM\"].apply(to_secs) - df[\"PDMEDTM\"].apply(to_secs) >= 0)\n",
    "    ].index,\n",
    "    inplace=True,\n",
    ")"
   ]
  },
  {
   "cell_type": "markdown",
   "metadata": {},
   "source": [
    "Updated records distribution:"
   ]
  },
  {
   "cell_type": "code",
   "execution_count": 42,
   "metadata": {},
   "outputs": [
    {
     "data": {
      "text/html": [
       "<div>\n",
       "<style scoped>\n",
       "    .dataframe tbody tr th:only-of-type {\n",
       "        vertical-align: middle;\n",
       "    }\n",
       "\n",
       "    .dataframe tbody tr th {\n",
       "        vertical-align: top;\n",
       "    }\n",
       "\n",
       "    .dataframe thead th {\n",
       "        text-align: right;\n",
       "    }\n",
       "</style>\n",
       "<table border=\"1\" class=\"dataframe\">\n",
       "  <thead>\n",
       "    <tr style=\"text-align: right;\">\n",
       "      <th></th>\n",
       "      <th></th>\n",
       "      <th>REC_ID</th>\n",
       "    </tr>\n",
       "    <tr>\n",
       "      <th>PDSTATE</th>\n",
       "      <th>PDTRTMNT</th>\n",
       "      <th></th>\n",
       "    </tr>\n",
       "  </thead>\n",
       "  <tbody>\n",
       "    <tr>\n",
       "      <th rowspan=\"2\" valign=\"top\">OFF</th>\n",
       "      <th>0.0</th>\n",
       "      <td>7735</td>\n",
       "    </tr>\n",
       "    <tr>\n",
       "      <th>1.0</th>\n",
       "      <td>3261</td>\n",
       "    </tr>\n",
       "    <tr>\n",
       "      <th rowspan=\"2\" valign=\"top\">ON</th>\n",
       "      <th>1.0</th>\n",
       "      <td>5851</td>\n",
       "    </tr>\n",
       "    <tr>\n",
       "      <th>NaN</th>\n",
       "      <td>1</td>\n",
       "    </tr>\n",
       "    <tr>\n",
       "      <th rowspan=\"2\" valign=\"top\">NaN</th>\n",
       "      <th>1.0</th>\n",
       "      <td>243</td>\n",
       "    </tr>\n",
       "    <tr>\n",
       "      <th>NaN</th>\n",
       "      <td>2322</td>\n",
       "    </tr>\n",
       "  </tbody>\n",
       "</table>\n",
       "</div>"
      ],
      "text/plain": [
       "                  REC_ID\n",
       "PDSTATE PDTRTMNT        \n",
       "OFF     0.0         7735\n",
       "        1.0         3261\n",
       "ON      1.0         5851\n",
       "        NaN            1\n",
       "NaN     1.0          243\n",
       "        NaN         2322"
      ]
     },
     "execution_count": 42,
     "metadata": {},
     "output_type": "execute_result"
    }
   ],
   "source": [
    "df.groupby([\"PDSTATE\", \"PDTRTMNT\"], dropna=False)[[\"REC_ID\"]].count()"
   ]
  },
  {
   "cell_type": "code",
   "execution_count": 43,
   "metadata": {},
   "outputs": [],
   "source": [
    "case_3 = (df[\"PDSTATE\"].isnull()) & (df[\"PDTRTMNT\"] == 1)"
   ]
  },
  {
   "cell_type": "markdown",
   "metadata": {},
   "source": [
    "Number of records in case 3.b where PDMEDTM is earlier or equal to EXAMTM and $\\text{EXAMTM-PDMEDTM} \\ge 6\\,hours$:"
   ]
  },
  {
   "cell_type": "code",
   "execution_count": 44,
   "metadata": {},
   "outputs": [
    {
     "data": {
      "text/plain": [
       "35"
      ]
     },
     "execution_count": 44,
     "metadata": {},
     "output_type": "execute_result"
    }
   ],
   "source": [
    "len(\n",
    "    df[\n",
    "        case_3\n",
    "        & (df[\"EXAMTM\"].apply(to_secs) - df[\"PDMEDTM\"].apply(to_secs) >= 6 * 3600)\n",
    "    ]\n",
    ")"
   ]
  },
  {
   "cell_type": "markdown",
   "metadata": {},
   "source": [
    "Let's set PDSTATE=OFF for these records."
   ]
  },
  {
   "cell_type": "code",
   "execution_count": 45,
   "metadata": {},
   "outputs": [],
   "source": [
    "df.loc[\n",
    "    case_3 & (df[\"EXAMTM\"].apply(to_secs) - df[\"PDMEDTM\"].apply(to_secs) >= 6 * 3600),\n",
    "    \"PDSTATE\",\n",
    "] = \"OFF\""
   ]
  },
  {
   "cell_type": "markdown",
   "metadata": {},
   "source": [
    "Updated records distribution:"
   ]
  },
  {
   "cell_type": "code",
   "execution_count": 46,
   "metadata": {},
   "outputs": [
    {
     "data": {
      "text/html": [
       "<div>\n",
       "<style scoped>\n",
       "    .dataframe tbody tr th:only-of-type {\n",
       "        vertical-align: middle;\n",
       "    }\n",
       "\n",
       "    .dataframe tbody tr th {\n",
       "        vertical-align: top;\n",
       "    }\n",
       "\n",
       "    .dataframe thead th {\n",
       "        text-align: right;\n",
       "    }\n",
       "</style>\n",
       "<table border=\"1\" class=\"dataframe\">\n",
       "  <thead>\n",
       "    <tr style=\"text-align: right;\">\n",
       "      <th></th>\n",
       "      <th></th>\n",
       "      <th>REC_ID</th>\n",
       "    </tr>\n",
       "    <tr>\n",
       "      <th>PDSTATE</th>\n",
       "      <th>PDTRTMNT</th>\n",
       "      <th></th>\n",
       "    </tr>\n",
       "  </thead>\n",
       "  <tbody>\n",
       "    <tr>\n",
       "      <th rowspan=\"2\" valign=\"top\">OFF</th>\n",
       "      <th>0.0</th>\n",
       "      <td>7735</td>\n",
       "    </tr>\n",
       "    <tr>\n",
       "      <th>1.0</th>\n",
       "      <td>3296</td>\n",
       "    </tr>\n",
       "    <tr>\n",
       "      <th rowspan=\"2\" valign=\"top\">ON</th>\n",
       "      <th>1.0</th>\n",
       "      <td>5851</td>\n",
       "    </tr>\n",
       "    <tr>\n",
       "      <th>NaN</th>\n",
       "      <td>1</td>\n",
       "    </tr>\n",
       "    <tr>\n",
       "      <th rowspan=\"2\" valign=\"top\">NaN</th>\n",
       "      <th>1.0</th>\n",
       "      <td>208</td>\n",
       "    </tr>\n",
       "    <tr>\n",
       "      <th>NaN</th>\n",
       "      <td>2322</td>\n",
       "    </tr>\n",
       "  </tbody>\n",
       "</table>\n",
       "</div>"
      ],
      "text/plain": [
       "                  REC_ID\n",
       "PDSTATE PDTRTMNT        \n",
       "OFF     0.0         7735\n",
       "        1.0         3296\n",
       "ON      1.0         5851\n",
       "        NaN            1\n",
       "NaN     1.0          208\n",
       "        NaN         2322"
      ]
     },
     "execution_count": 46,
     "metadata": {},
     "output_type": "execute_result"
    }
   ],
   "source": [
    "df.groupby([\"PDSTATE\", \"PDTRTMNT\"], dropna=False)[[\"REC_ID\"]].count()"
   ]
  },
  {
   "cell_type": "markdown",
   "metadata": {},
   "source": [
    "### Case 3.b.iii: PDMEDTM is later than EXAMTM"
   ]
  },
  {
   "cell_type": "markdown",
   "metadata": {},
   "source": [
    "Number of records in case 3.b where PDMEDTM is later than EXAMTM:"
   ]
  },
  {
   "cell_type": "code",
   "execution_count": 47,
   "metadata": {},
   "outputs": [
    {
     "data": {
      "text/plain": [
       "208"
      ]
     },
     "execution_count": 47,
     "metadata": {},
     "output_type": "execute_result"
    }
   ],
   "source": [
    "case_3 = (df[\"PDSTATE\"].isnull()) & (df[\"PDTRTMNT\"] == 1)\n",
    "len(df[case_3 & (df[\"PDMEDTM\"] > df[\"EXAMTM\"])])"
   ]
  },
  {
   "cell_type": "markdown",
   "metadata": {},
   "source": [
    "#### Case 3.b.iii.a: PDMEDTM is after 4pm"
   ]
  },
  {
   "cell_type": "markdown",
   "metadata": {},
   "source": [
    "Some of records have a PDMEDTIME which likely belongs to the previous day but there is no way to confirm it because dates only include a month, a year, but no day. Looking at the distribution of exam times in such cases, we noticed that no exam took place after 4pm, which motivates the use of 4pm as cut-off time."
   ]
  },
  {
   "cell_type": "markdown",
   "metadata": {},
   "source": [
    "Distribution of EXAM times when $\\text{PDMEDTM} > \\text{EXAMTM}$:"
   ]
  },
  {
   "cell_type": "code",
   "execution_count": 48,
   "metadata": {},
   "outputs": [
    {
     "data": {
      "image/png": "[encoded data removed]",
      "text/plain": [
       "<Figure size 640x480 with 1 Axes>"
      ]
     },
     "metadata": {},
     "output_type": "display_data"
    }
   ],
   "source": [
    "import numpy as np\n",
    "\n",
    "pd.to_datetime(\n",
    "    df[case_3 & (df[\"PDMEDTM\"].apply(to_secs) > df[\"EXAMTM\"].apply(to_secs))][\"EXAMTM\"]\n",
    ").dt.hour.hist(bins=np.arange(24))\n",
    "plt.xlabel(\"Hour of the day\")\n",
    "plt.ylabel(\"Number of EXAMTM records\");"
   ]
  },
  {
   "cell_type": "markdown",
   "metadata": {},
   "source": [
    "Number of records in case 3 where PDMEDTM is after EXAMTM and PDMEDTM is after 4pm:"
   ]
  },
  {
   "cell_type": "code",
   "execution_count": 49,
   "metadata": {},
   "outputs": [
    {
     "data": {
      "text/plain": [
       "120"
      ]
     },
     "execution_count": 49,
     "metadata": {},
     "output_type": "execute_result"
    }
   ],
   "source": [
    "len(\n",
    "    df[\n",
    "        case_3\n",
    "        & (df[\"PDMEDTM\"].apply(to_secs) > df[\"EXAMTM\"].apply(to_secs))\n",
    "        & (df[\"PDMEDTM\"] > \"16:00:00\")\n",
    "    ]\n",
    ")"
   ]
  },
  {
   "cell_type": "markdown",
   "metadata": {},
   "source": [
    "Let's set PDSTATE=OFF for these records:"
   ]
  },
  {
   "cell_type": "code",
   "execution_count": 50,
   "metadata": {},
   "outputs": [],
   "source": [
    "df.loc[\n",
    "    case_3\n",
    "    & (df[\"PDMEDTM\"].apply(to_secs) > df[\"EXAMTM\"].apply(to_secs))\n",
    "    & (df[\"PDMEDTM\"] > \"16:00:00\"),\n",
    "    \"PDSTATE\",\n",
    "] = \"OFF\""
   ]
  },
  {
   "cell_type": "markdown",
   "metadata": {},
   "source": [
    "Updated records distribution:"
   ]
  },
  {
   "cell_type": "code",
   "execution_count": 51,
   "metadata": {},
   "outputs": [
    {
     "data": {
      "text/html": [
       "<div>\n",
       "<style scoped>\n",
       "    .dataframe tbody tr th:only-of-type {\n",
       "        vertical-align: middle;\n",
       "    }\n",
       "\n",
       "    .dataframe tbody tr th {\n",
       "        vertical-align: top;\n",
       "    }\n",
       "\n",
       "    .dataframe thead th {\n",
       "        text-align: right;\n",
       "    }\n",
       "</style>\n",
       "<table border=\"1\" class=\"dataframe\">\n",
       "  <thead>\n",
       "    <tr style=\"text-align: right;\">\n",
       "      <th></th>\n",
       "      <th></th>\n",
       "      <th>REC_ID</th>\n",
       "    </tr>\n",
       "    <tr>\n",
       "      <th>PDSTATE</th>\n",
       "      <th>PDTRTMNT</th>\n",
       "      <th></th>\n",
       "    </tr>\n",
       "  </thead>\n",
       "  <tbody>\n",
       "    <tr>\n",
       "      <th rowspan=\"2\" valign=\"top\">OFF</th>\n",
       "      <th>0.0</th>\n",
       "      <td>7735</td>\n",
       "    </tr>\n",
       "    <tr>\n",
       "      <th>1.0</th>\n",
       "      <td>3416</td>\n",
       "    </tr>\n",
       "    <tr>\n",
       "      <th rowspan=\"2\" valign=\"top\">ON</th>\n",
       "      <th>1.0</th>\n",
       "      <td>5851</td>\n",
       "    </tr>\n",
       "    <tr>\n",
       "      <th>NaN</th>\n",
       "      <td>1</td>\n",
       "    </tr>\n",
       "    <tr>\n",
       "      <th rowspan=\"2\" valign=\"top\">NaN</th>\n",
       "      <th>1.0</th>\n",
       "      <td>88</td>\n",
       "    </tr>\n",
       "    <tr>\n",
       "      <th>NaN</th>\n",
       "      <td>2322</td>\n",
       "    </tr>\n",
       "  </tbody>\n",
       "</table>\n",
       "</div>"
      ],
      "text/plain": [
       "                  REC_ID\n",
       "PDSTATE PDTRTMNT        \n",
       "OFF     0.0         7735\n",
       "        1.0         3416\n",
       "ON      1.0         5851\n",
       "        NaN            1\n",
       "NaN     1.0           88\n",
       "        NaN         2322"
      ]
     },
     "execution_count": 51,
     "metadata": {},
     "output_type": "execute_result"
    }
   ],
   "source": [
    "df.groupby([\"PDSTATE\", \"PDTRTMNT\"], dropna=False)[[\"REC_ID\"]].count()"
   ]
  },
  {
   "cell_type": "code",
   "execution_count": 52,
   "metadata": {},
   "outputs": [],
   "source": [
    "case_3 = (df[\"PDSTATE\"].isnull()) & (df[\"PDTRTMNT\"] == 1)"
   ]
  },
  {
   "cell_type": "markdown",
   "metadata": {},
   "source": [
    "#### Case 3.b.iii.a: PDMEDTM is before 4pm"
   ]
  },
  {
   "cell_type": "markdown",
   "metadata": {},
   "source": [
    "Number of records in case 3 where PDMEDTM is later than EXAMTM and PDMEDTM is before 4pm:"
   ]
  },
  {
   "cell_type": "code",
   "execution_count": 53,
   "metadata": {},
   "outputs": [
    {
     "data": {
      "text/plain": [
       "88"
      ]
     },
     "execution_count": 53,
     "metadata": {},
     "output_type": "execute_result"
    }
   ],
   "source": [
    "len(df[case_3 & (df[\"EXAMTM\"].apply(to_secs) < df[\"PDMEDTM\"].apply(to_secs))])"
   ]
  },
  {
   "cell_type": "markdown",
   "metadata": {},
   "source": [
    "Let's remove these records. "
   ]
  },
  {
   "cell_type": "code",
   "execution_count": 54,
   "metadata": {},
   "outputs": [],
   "source": [
    "df.drop(\n",
    "    df[case_3 & (df[\"EXAMTM\"].apply(to_secs) < df[\"PDMEDTM\"].apply(to_secs))].index,\n",
    "    inplace=True,\n",
    ")"
   ]
  },
  {
   "cell_type": "code",
   "execution_count": 55,
   "metadata": {},
   "outputs": [],
   "source": [
    "case_3 = (df[\"PDSTATE\"].isnull()) & (df[\"PDTRTMNT\"] == 1)"
   ]
  },
  {
   "cell_type": "markdown",
   "metadata": {
    "slideshow": {
     "slide_type": "slide"
    }
   },
   "source": [
    "Let's verify that case 3 (PDSTATE=NaN, PDTRTMNT=1) is now resolved:"
   ]
  },
  {
   "cell_type": "code",
   "execution_count": 56,
   "metadata": {},
   "outputs": [
    {
     "data": {
      "text/html": [
       "<div>\n",
       "<style scoped>\n",
       "    .dataframe tbody tr th:only-of-type {\n",
       "        vertical-align: middle;\n",
       "    }\n",
       "\n",
       "    .dataframe tbody tr th {\n",
       "        vertical-align: top;\n",
       "    }\n",
       "\n",
       "    .dataframe thead th {\n",
       "        text-align: right;\n",
       "    }\n",
       "</style>\n",
       "<table border=\"1\" class=\"dataframe\">\n",
       "  <thead>\n",
       "    <tr style=\"text-align: right;\">\n",
       "      <th></th>\n",
       "      <th></th>\n",
       "      <th>REC_ID</th>\n",
       "    </tr>\n",
       "    <tr>\n",
       "      <th>PDSTATE</th>\n",
       "      <th>PDTRTMNT</th>\n",
       "      <th></th>\n",
       "    </tr>\n",
       "  </thead>\n",
       "  <tbody>\n",
       "    <tr>\n",
       "      <th rowspan=\"2\" valign=\"top\">OFF</th>\n",
       "      <th>0.0</th>\n",
       "      <td>7735</td>\n",
       "    </tr>\n",
       "    <tr>\n",
       "      <th>1.0</th>\n",
       "      <td>3416</td>\n",
       "    </tr>\n",
       "    <tr>\n",
       "      <th rowspan=\"2\" valign=\"top\">ON</th>\n",
       "      <th>1.0</th>\n",
       "      <td>5851</td>\n",
       "    </tr>\n",
       "    <tr>\n",
       "      <th>NaN</th>\n",
       "      <td>1</td>\n",
       "    </tr>\n",
       "    <tr>\n",
       "      <th>NaN</th>\n",
       "      <th>NaN</th>\n",
       "      <td>2322</td>\n",
       "    </tr>\n",
       "  </tbody>\n",
       "</table>\n",
       "</div>"
      ],
      "text/plain": [
       "                  REC_ID\n",
       "PDSTATE PDTRTMNT        \n",
       "OFF     0.0         7735\n",
       "        1.0         3416\n",
       "ON      1.0         5851\n",
       "        NaN            1\n",
       "NaN     NaN         2322"
      ]
     },
     "execution_count": 56,
     "metadata": {},
     "output_type": "execute_result"
    }
   ],
   "source": [
    "df.groupby([\"PDSTATE\", \"PDTRTMNT\"], dropna=False)[[\"REC_ID\"]].count()"
   ]
  },
  {
   "cell_type": "markdown",
   "metadata": {
    "slideshow": {
     "slide_type": "slide"
    }
   },
   "source": [
    "## Case 4: PDSTATE=NaN and PDTRTMNT=NaN\n",
    "\n",
    "Similar to case 1, no record in case 4 has a medication date (PDMEDDT), a medication time (PDMEDTM), or\n",
    "a DBS status (DBS_STATUS):"
   ]
  },
  {
   "cell_type": "code",
   "execution_count": 57,
   "metadata": {
    "scrolled": true
   },
   "outputs": [
    {
     "data": {
      "text/html": [
       "<div>\n",
       "<style scoped>\n",
       "    .dataframe tbody tr th:only-of-type {\n",
       "        vertical-align: middle;\n",
       "    }\n",
       "\n",
       "    .dataframe tbody tr th {\n",
       "        vertical-align: top;\n",
       "    }\n",
       "\n",
       "    .dataframe thead th {\n",
       "        text-align: right;\n",
       "    }\n",
       "</style>\n",
       "<table border=\"1\" class=\"dataframe\">\n",
       "  <thead>\n",
       "    <tr style=\"text-align: right;\">\n",
       "      <th></th>\n",
       "      <th></th>\n",
       "      <th></th>\n",
       "      <th></th>\n",
       "      <th></th>\n",
       "      <th></th>\n",
       "      <th></th>\n",
       "      <th></th>\n",
       "      <th>REC_ID</th>\n",
       "      <th>PATNO</th>\n",
       "      <th>EVENT_ID</th>\n",
       "      <th>PAG_NAME</th>\n",
       "      <th>INFODT</th>\n",
       "      <th>PDSTATE</th>\n",
       "      <th>EXAMTM</th>\n",
       "      <th>NP3SPCH</th>\n",
       "      <th>NP3FACXP</th>\n",
       "      <th>NP3RIGN</th>\n",
       "      <th>...</th>\n",
       "      <th>NP3RTALL</th>\n",
       "      <th>NP3RTALJ</th>\n",
       "      <th>NP3RTCON</th>\n",
       "      <th>NP3TOT</th>\n",
       "      <th>DYSKPRES</th>\n",
       "      <th>DYSKIRAT</th>\n",
       "      <th>NHY</th>\n",
       "      <th>PDTRTMNT</th>\n",
       "      <th>ORIG_ENTRY</th>\n",
       "      <th>LAST_UPDATE</th>\n",
       "    </tr>\n",
       "    <tr>\n",
       "      <th>PDMEDDT</th>\n",
       "      <th>PDMEDTM</th>\n",
       "      <th>DBS_STATUS</th>\n",
       "      <th>HRPOSTMED</th>\n",
       "      <th>DBSONTM</th>\n",
       "      <th>DBSOFFTM</th>\n",
       "      <th>HRDBSOFF</th>\n",
       "      <th>HRDBSON</th>\n",
       "      <th></th>\n",
       "      <th></th>\n",
       "      <th></th>\n",
       "      <th></th>\n",
       "      <th></th>\n",
       "      <th></th>\n",
       "      <th></th>\n",
       "      <th></th>\n",
       "      <th></th>\n",
       "      <th></th>\n",
       "      <th></th>\n",
       "      <th></th>\n",
       "      <th></th>\n",
       "      <th></th>\n",
       "      <th></th>\n",
       "      <th></th>\n",
       "      <th></th>\n",
       "      <th></th>\n",
       "      <th></th>\n",
       "      <th></th>\n",
       "      <th></th>\n",
       "    </tr>\n",
       "  </thead>\n",
       "  <tbody>\n",
       "    <tr>\n",
       "      <th>NaN</th>\n",
       "      <th>NaN</th>\n",
       "      <th>NaN</th>\n",
       "      <th>NaN</th>\n",
       "      <th>NaN</th>\n",
       "      <th>NaN</th>\n",
       "      <th>NaN</th>\n",
       "      <th>NaN</th>\n",
       "      <td>2322</td>\n",
       "      <td>2322</td>\n",
       "      <td>2322</td>\n",
       "      <td>2322</td>\n",
       "      <td>2322</td>\n",
       "      <td>0</td>\n",
       "      <td>1135</td>\n",
       "      <td>2322</td>\n",
       "      <td>2322</td>\n",
       "      <td>2321</td>\n",
       "      <td>...</td>\n",
       "      <td>2321</td>\n",
       "      <td>2321</td>\n",
       "      <td>2320</td>\n",
       "      <td>2314</td>\n",
       "      <td>2320</td>\n",
       "      <td>40</td>\n",
       "      <td>2320</td>\n",
       "      <td>0</td>\n",
       "      <td>2322</td>\n",
       "      <td>2322</td>\n",
       "    </tr>\n",
       "  </tbody>\n",
       "</table>\n",
       "<p>1 rows × 47 columns</p>\n",
       "</div>"
      ],
      "text/plain": [
       "                                                                        REC_ID  \\\n",
       "PDMEDDT PDMEDTM DBS_STATUS HRPOSTMED DBSONTM DBSOFFTM HRDBSOFF HRDBSON           \n",
       "NaN     NaN     NaN        NaN       NaN     NaN      NaN      NaN        2322   \n",
       "\n",
       "                                                                        PATNO  \\\n",
       "PDMEDDT PDMEDTM DBS_STATUS HRPOSTMED DBSONTM DBSOFFTM HRDBSOFF HRDBSON          \n",
       "NaN     NaN     NaN        NaN       NaN     NaN      NaN      NaN       2322   \n",
       "\n",
       "                                                                        EVENT_ID  \\\n",
       "PDMEDDT PDMEDTM DBS_STATUS HRPOSTMED DBSONTM DBSOFFTM HRDBSOFF HRDBSON             \n",
       "NaN     NaN     NaN        NaN       NaN     NaN      NaN      NaN          2322   \n",
       "\n",
       "                                                                        PAG_NAME  \\\n",
       "PDMEDDT PDMEDTM DBS_STATUS HRPOSTMED DBSONTM DBSOFFTM HRDBSOFF HRDBSON             \n",
       "NaN     NaN     NaN        NaN       NaN     NaN      NaN      NaN          2322   \n",
       "\n",
       "                                                                        INFODT  \\\n",
       "PDMEDDT PDMEDTM DBS_STATUS HRPOSTMED DBSONTM DBSOFFTM HRDBSOFF HRDBSON           \n",
       "NaN     NaN     NaN        NaN       NaN     NaN      NaN      NaN        2322   \n",
       "\n",
       "                                                                        PDSTATE  \\\n",
       "PDMEDDT PDMEDTM DBS_STATUS HRPOSTMED DBSONTM DBSOFFTM HRDBSOFF HRDBSON            \n",
       "NaN     NaN     NaN        NaN       NaN     NaN      NaN      NaN            0   \n",
       "\n",
       "                                                                        EXAMTM  \\\n",
       "PDMEDDT PDMEDTM DBS_STATUS HRPOSTMED DBSONTM DBSOFFTM HRDBSOFF HRDBSON           \n",
       "NaN     NaN     NaN        NaN       NaN     NaN      NaN      NaN        1135   \n",
       "\n",
       "                                                                        NP3SPCH  \\\n",
       "PDMEDDT PDMEDTM DBS_STATUS HRPOSTMED DBSONTM DBSOFFTM HRDBSOFF HRDBSON            \n",
       "NaN     NaN     NaN        NaN       NaN     NaN      NaN      NaN         2322   \n",
       "\n",
       "                                                                        NP3FACXP  \\\n",
       "PDMEDDT PDMEDTM DBS_STATUS HRPOSTMED DBSONTM DBSOFFTM HRDBSOFF HRDBSON             \n",
       "NaN     NaN     NaN        NaN       NaN     NaN      NaN      NaN          2322   \n",
       "\n",
       "                                                                        NP3RIGN  \\\n",
       "PDMEDDT PDMEDTM DBS_STATUS HRPOSTMED DBSONTM DBSOFFTM HRDBSOFF HRDBSON            \n",
       "NaN     NaN     NaN        NaN       NaN     NaN      NaN      NaN         2321   \n",
       "\n",
       "                                                                        ...  \\\n",
       "PDMEDDT PDMEDTM DBS_STATUS HRPOSTMED DBSONTM DBSOFFTM HRDBSOFF HRDBSON  ...   \n",
       "NaN     NaN     NaN        NaN       NaN     NaN      NaN      NaN      ...   \n",
       "\n",
       "                                                                        NP3RTALL  \\\n",
       "PDMEDDT PDMEDTM DBS_STATUS HRPOSTMED DBSONTM DBSOFFTM HRDBSOFF HRDBSON             \n",
       "NaN     NaN     NaN        NaN       NaN     NaN      NaN      NaN          2321   \n",
       "\n",
       "                                                                        NP3RTALJ  \\\n",
       "PDMEDDT PDMEDTM DBS_STATUS HRPOSTMED DBSONTM DBSOFFTM HRDBSOFF HRDBSON             \n",
       "NaN     NaN     NaN        NaN       NaN     NaN      NaN      NaN          2321   \n",
       "\n",
       "                                                                        NP3RTCON  \\\n",
       "PDMEDDT PDMEDTM DBS_STATUS HRPOSTMED DBSONTM DBSOFFTM HRDBSOFF HRDBSON             \n",
       "NaN     NaN     NaN        NaN       NaN     NaN      NaN      NaN          2320   \n",
       "\n",
       "                                                                        NP3TOT  \\\n",
       "PDMEDDT PDMEDTM DBS_STATUS HRPOSTMED DBSONTM DBSOFFTM HRDBSOFF HRDBSON           \n",
       "NaN     NaN     NaN        NaN       NaN     NaN      NaN      NaN        2314   \n",
       "\n",
       "                                                                        DYSKPRES  \\\n",
       "PDMEDDT PDMEDTM DBS_STATUS HRPOSTMED DBSONTM DBSOFFTM HRDBSOFF HRDBSON             \n",
       "NaN     NaN     NaN        NaN       NaN     NaN      NaN      NaN          2320   \n",
       "\n",
       "                                                                        DYSKIRAT  \\\n",
       "PDMEDDT PDMEDTM DBS_STATUS HRPOSTMED DBSONTM DBSOFFTM HRDBSOFF HRDBSON             \n",
       "NaN     NaN     NaN        NaN       NaN     NaN      NaN      NaN            40   \n",
       "\n",
       "                                                                         NHY  \\\n",
       "PDMEDDT PDMEDTM DBS_STATUS HRPOSTMED DBSONTM DBSOFFTM HRDBSOFF HRDBSON         \n",
       "NaN     NaN     NaN        NaN       NaN     NaN      NaN      NaN      2320   \n",
       "\n",
       "                                                                        PDTRTMNT  \\\n",
       "PDMEDDT PDMEDTM DBS_STATUS HRPOSTMED DBSONTM DBSOFFTM HRDBSOFF HRDBSON             \n",
       "NaN     NaN     NaN        NaN       NaN     NaN      NaN      NaN             0   \n",
       "\n",
       "                                                                        ORIG_ENTRY  \\\n",
       "PDMEDDT PDMEDTM DBS_STATUS HRPOSTMED DBSONTM DBSOFFTM HRDBSOFF HRDBSON               \n",
       "NaN     NaN     NaN        NaN       NaN     NaN      NaN      NaN            2322   \n",
       "\n",
       "                                                                        LAST_UPDATE  \n",
       "PDMEDDT PDMEDTM DBS_STATUS HRPOSTMED DBSONTM DBSOFFTM HRDBSOFF HRDBSON               \n",
       "NaN     NaN     NaN        NaN       NaN     NaN      NaN      NaN             2322  \n",
       "\n",
       "[1 rows x 47 columns]"
      ]
     },
     "execution_count": 57,
     "metadata": {},
     "output_type": "execute_result"
    }
   ],
   "source": [
    "case_4 = df[(df[\"PDSTATE\"].isnull()) & (df[\"PDTRTMNT\"].isnull())]\n",
    "case_4.groupby(\n",
    "    [\n",
    "        \"PDMEDDT\",\n",
    "        \"PDMEDTM\",\n",
    "        \"DBS_STATUS\",\n",
    "        \"HRPOSTMED\",\n",
    "        \"DBSONTM\",\n",
    "        \"DBSOFFTM\",\n",
    "        \"HRDBSOFF\",\n",
    "        \"HRDBSON\",\n",
    "    ],\n",
    "    dropna=False,\n",
    ").count()"
   ]
  },
  {
   "cell_type": "markdown",
   "metadata": {
    "slideshow": {
     "slide_type": "fragment"
    }
   },
   "source": [
    "<div class=\"alert alert-block alert-success\">\n",
    "    \t&#10003; <b>Proposed solution</b>: set PDSTATE=OFF and PDTRTMNT=0. It is very unlikely that the patient was medicated and none of the 8 medication-related variables were set.\n",
    "</div>"
   ]
  },
  {
   "cell_type": "markdown",
   "metadata": {
    "slideshow": {
     "slide_type": "slide"
    }
   },
   "source": [
    "⚙️ Implementation"
   ]
  },
  {
   "cell_type": "code",
   "execution_count": 58,
   "metadata": {},
   "outputs": [],
   "source": [
    "df_1 = df.copy()\n",
    "df_1.loc[(df[\"PDSTATE\"].isnull()) & (df[\"PDTRTMNT\"].isnull()), \"PDSTATE\"] = \"OFF\"\n",
    "df_1.loc[(df[\"PDSTATE\"].isnull()) & (df[\"PDTRTMNT\"].isnull()), \"PDTRTMNT\"] = 0\n",
    "df = df_1"
   ]
  },
  {
   "cell_type": "markdown",
   "metadata": {
    "slideshow": {
     "slide_type": "fragment"
    }
   },
   "source": [
    "Let's verify that case 4 is now resolved:"
   ]
  },
  {
   "cell_type": "code",
   "execution_count": 59,
   "metadata": {
    "scrolled": true
   },
   "outputs": [
    {
     "data": {
      "text/html": [
       "<div>\n",
       "<style scoped>\n",
       "    .dataframe tbody tr th:only-of-type {\n",
       "        vertical-align: middle;\n",
       "    }\n",
       "\n",
       "    .dataframe tbody tr th {\n",
       "        vertical-align: top;\n",
       "    }\n",
       "\n",
       "    .dataframe thead th {\n",
       "        text-align: right;\n",
       "    }\n",
       "</style>\n",
       "<table border=\"1\" class=\"dataframe\">\n",
       "  <thead>\n",
       "    <tr style=\"text-align: right;\">\n",
       "      <th></th>\n",
       "      <th></th>\n",
       "      <th>REC_ID</th>\n",
       "    </tr>\n",
       "    <tr>\n",
       "      <th>PDSTATE</th>\n",
       "      <th>PDTRTMNT</th>\n",
       "      <th></th>\n",
       "    </tr>\n",
       "  </thead>\n",
       "  <tbody>\n",
       "    <tr>\n",
       "      <th rowspan=\"2\" valign=\"top\">OFF</th>\n",
       "      <th>0.0</th>\n",
       "      <td>10057</td>\n",
       "    </tr>\n",
       "    <tr>\n",
       "      <th>1.0</th>\n",
       "      <td>3416</td>\n",
       "    </tr>\n",
       "    <tr>\n",
       "      <th rowspan=\"2\" valign=\"top\">ON</th>\n",
       "      <th>1.0</th>\n",
       "      <td>5851</td>\n",
       "    </tr>\n",
       "    <tr>\n",
       "      <th>NaN</th>\n",
       "      <td>1</td>\n",
       "    </tr>\n",
       "  </tbody>\n",
       "</table>\n",
       "</div>"
      ],
      "text/plain": [
       "                  REC_ID\n",
       "PDSTATE PDTRTMNT        \n",
       "OFF     0.0        10057\n",
       "        1.0         3416\n",
       "ON      1.0         5851\n",
       "        NaN            1"
      ]
     },
     "execution_count": 59,
     "metadata": {},
     "output_type": "execute_result"
    }
   ],
   "source": [
    "df.groupby([\"PDSTATE\", \"PDTRTMNT\"], dropna=False)[[\"REC_ID\"]].count()"
   ]
  },
  {
   "cell_type": "markdown",
   "metadata": {
    "slideshow": {
     "slide_type": "slide"
    }
   },
   "source": [
    "## Case 5: PDSTATE=ON and PDTRTMNT=NaN\n",
    "\n",
    "\n",
    "<div class=\"alert alert-block alert-success\">\n",
    "    \t&#10003; <b>Proposed correction</b>: set PDTRTMNT=1. The patient is medicated since PDSTATE=ON.\n",
    "</div>"
   ]
  },
  {
   "cell_type": "markdown",
   "metadata": {
    "slideshow": {
     "slide_type": "fragment"
    }
   },
   "source": [
    "⚙️ Implementation"
   ]
  },
  {
   "cell_type": "code",
   "execution_count": 60,
   "metadata": {},
   "outputs": [],
   "source": [
    "df.loc[(df[\"PDSTATE\"] == \"ON\") & (df[\"PDTRTMNT\"].isnull()), \"PDTRTMNT\"] = 1"
   ]
  },
  {
   "cell_type": "markdown",
   "metadata": {
    "slideshow": {
     "slide_type": "fragment"
    }
   },
   "source": [
    "Let's verify that case 5 is now resolved:"
   ]
  },
  {
   "cell_type": "code",
   "execution_count": 61,
   "metadata": {
    "scrolled": true
   },
   "outputs": [
    {
     "data": {
      "text/html": [
       "<div>\n",
       "<style scoped>\n",
       "    .dataframe tbody tr th:only-of-type {\n",
       "        vertical-align: middle;\n",
       "    }\n",
       "\n",
       "    .dataframe tbody tr th {\n",
       "        vertical-align: top;\n",
       "    }\n",
       "\n",
       "    .dataframe thead th {\n",
       "        text-align: right;\n",
       "    }\n",
       "</style>\n",
       "<table border=\"1\" class=\"dataframe\">\n",
       "  <thead>\n",
       "    <tr style=\"text-align: right;\">\n",
       "      <th></th>\n",
       "      <th></th>\n",
       "      <th>REC_ID</th>\n",
       "    </tr>\n",
       "    <tr>\n",
       "      <th>PDSTATE</th>\n",
       "      <th>PDTRTMNT</th>\n",
       "      <th></th>\n",
       "    </tr>\n",
       "  </thead>\n",
       "  <tbody>\n",
       "    <tr>\n",
       "      <th rowspan=\"2\" valign=\"top\">OFF</th>\n",
       "      <th>0.0</th>\n",
       "      <td>10057</td>\n",
       "    </tr>\n",
       "    <tr>\n",
       "      <th>1.0</th>\n",
       "      <td>3416</td>\n",
       "    </tr>\n",
       "    <tr>\n",
       "      <th>ON</th>\n",
       "      <th>1.0</th>\n",
       "      <td>5852</td>\n",
       "    </tr>\n",
       "  </tbody>\n",
       "</table>\n",
       "</div>"
      ],
      "text/plain": [
       "                  REC_ID\n",
       "PDSTATE PDTRTMNT        \n",
       "OFF     0.0        10057\n",
       "        1.0         3416\n",
       "ON      1.0         5852"
      ]
     },
     "execution_count": 61,
     "metadata": {},
     "output_type": "execute_result"
    }
   ],
   "source": [
    "df.groupby([\"PDSTATE\", \"PDTRTMNT\"], dropna=False)[[\"REC_ID\"]].count()"
   ]
  },
  {
   "cell_type": "markdown",
   "metadata": {
    "slideshow": {
     "slide_type": "fragment"
    }
   },
   "source": [
    "There's no remaining missing PDSTATE or PDTRTMNT value in the data!\n",
    "\n",
    "Let's save the cleaned file:"
   ]
  },
  {
   "cell_type": "code",
   "execution_count": 62,
   "metadata": {},
   "outputs": [
    {
     "name": "stdout",
     "output_type": "stream",
     "text": [
      "Cleaned file saved in MDS_UPDRS_Part_III_clean.csv\n"
     ]
    }
   ],
   "source": [
    "filename = \"MDS_UPDRS_Part_III_clean.csv\"\n",
    "df.to_csv(op.join(data_dir, filename), index=False)\n",
    "print(f\"Cleaned file saved in {filename}\")"
   ]
  },
  {
   "cell_type": "markdown",
   "metadata": {
    "slideshow": {
     "slide_type": "slide"
    }
   },
   "source": [
    "# ⚕️ Sanity checks\n",
    "\n",
    "The following sanity checks are applied to the cleaned UPDRS-III data."
   ]
  },
  {
   "cell_type": "markdown",
   "metadata": {
    "slideshow": {
     "slide_type": "fragment"
    }
   },
   "source": [
    "**IF** visit has two exam **THEN** one is ON and the other one is OFF:"
   ]
  },
  {
   "cell_type": "code",
   "execution_count": 63,
   "metadata": {},
   "outputs": [
    {
     "data": {
      "text/plain": [
       "True"
      ]
     },
     "execution_count": 63,
     "metadata": {},
     "output_type": "execute_result"
    }
   ],
   "source": [
    "a = df.groupby(['PATNO', 'EVENT_ID']).filter(lambda x: len(x)==2)\n",
    "a.groupby(['PATNO', 'EVENT_ID']).filter(lambda x: x.iloc[[0]]['PDSTATE'].to_string() ==\n",
    "                                                  x.iloc[[1]]['PDSTATE'].to_string()).empty"
   ]
  },
  {
   "cell_type": "markdown",
   "metadata": {},
   "source": [
    "**IF** PDSTATE=ON **THEN** EXAMTM>PDMEDTM"
   ]
  },
  {
   "cell_type": "code",
   "execution_count": 64,
   "metadata": {},
   "outputs": [
    {
     "data": {
      "text/plain": [
       "True"
      ]
     },
     "execution_count": 64,
     "metadata": {},
     "output_type": "execute_result"
    }
   ],
   "source": [
    "df[\n",
    "    (df[\"PDSTATE\"] == \"ON\")\n",
    "    & (df[\"EXAMTM\"].apply(to_secs) < df[\"PDMEDTM\"].apply(to_secs))\n",
    "].empty"
   ]
  },
  {
   "cell_type": "markdown",
   "metadata": {},
   "source": [
    "**IF** PDTRTMNT=0 **THEN** there is a single visit and PDSTATE=off"
   ]
  },
  {
   "cell_type": "code",
   "execution_count": 65,
   "metadata": {},
   "outputs": [
    {
     "name": "stdout",
     "output_type": "stream",
     "text": [
      "True\n"
     ]
    }
   ],
   "source": [
    "assert (\n",
    "    df[df[\"PDTRTMNT\"] == 0]\n",
    "    .groupby([\"PATNO\", \"EVENT_ID\"])\n",
    "    .filter(lambda x: len(x) > 1)\n",
    "    .empty\n",
    "), \"False!\"\n",
    "assert (\n",
    "    df[df[\"PDTRTMNT\"] == 0]\n",
    "    .groupby([\"PATNO\", \"EVENT_ID\"])\n",
    "    .filter(lambda x: x[\"PDSTATE\"] != \"OFF\")\n",
    "    .empty\n",
    "), \"False!\"\n",
    "print(\"True\")"
   ]
  },
  {
   "cell_type": "markdown",
   "metadata": {},
   "source": [
    "A patient cannot become unmedicated after being medicated:"
   ]
  },
  {
   "cell_type": "code",
   "execution_count": 66,
   "metadata": {},
   "outputs": [
    {
     "data": {
      "text/plain": [
       "True"
      ]
     },
     "execution_count": 66,
     "metadata": {},
     "output_type": "execute_result"
    }
   ],
   "source": [
    "def wrong_pairs(x):\n",
    "    rows = [row for index, row in x.iterrows()]\n",
    "    for a in rows:\n",
    "        for b in rows:\n",
    "            if a['EVENT_ID'] == b['EVENT_ID']:\n",
    "                continue\n",
    "            # If dates are equal, we cannot say anything\n",
    "            if pd.to_datetime(a['INFODT']) == pd.to_datetime(b['INFODT']):\n",
    "                return False                   \n",
    "            # If a is later than b, a['PDTRTMNT'] has to be larger or equal to b['PDTRTMNT']\n",
    "            if pd.to_datetime(a['INFODT']) > pd.to_datetime(b['INFODT']):\n",
    "                if int(a['PDTRTMNT']) < int(b['PDTRTMNT']):\n",
    "                    return True\n",
    "                return False\n",
    "            # a is earlier than b: a['PDTRTMNT'] has to be lower or equal to b['PDTRTMNT']\n",
    "            if int(a['PDTRTMNT']) > int(b['PDTRTMNT']):\n",
    "                return True\n",
    "            return False\n",
    "\n",
    "df.groupby(['PATNO']).filter(lambda x: x['PDTRTMNT'].nunique() > 1).groupby('PATNO').filter(wrong_pairs).empty"
   ]
  },
  {
   "cell_type": "code",
   "execution_count": 67,
   "metadata": {
    "scrolled": true
   },
   "outputs": [],
   "source": [
    "# off = (df['PDSTATE']=='OFF') & (df['PDMEDTM']<='16:00:00')\n",
    "# df['EXAMsecs'] = df[off]['EXAMTM'].apply(to_secs)\n",
    "# df['PDMEDTMsecs'] = df[off]['PDMEDTM'].apply(to_secs)\n",
    "\n",
    "# df[off & (df['EXAMsecs']-df['PDMEDTMsecs']>=0) & (df['EXAMsecs']-df['PDMEDTMsecs']<6*3600)]"
   ]
  },
  {
   "cell_type": "code",
   "execution_count": null,
   "metadata": {},
   "outputs": [],
   "source": []
  },
  {
   "cell_type": "code",
   "execution_count": 68,
   "metadata": {},
   "outputs": [],
   "source": [
    "# off = (df['PDSTATE']=='OFF') & (df['PDMEDTM']<='16:00:00')\n",
    "# df['EXAMsecs'] = df[off]['EXAMTM'].apply(to_secs)\n",
    "# df['PDMEDTMsecs'] = df[off]['PDMEDTM'].apply(to_secs)\n",
    "\n",
    "# df[off & (df['EXAMsecs']-df['PDMEDTMsecs']>=0) & (df['EXAMsecs']-df['PDMEDTMsecs']<6*3600)]"
   ]
  },
  {
   "cell_type": "code",
   "execution_count": null,
   "metadata": {},
   "outputs": [],
   "source": []
  }
 ],
 "metadata": {
  "celltoolbar": "Slideshow",
  "kernelspec": {
   "display_name": "Python 3 (ipykernel)",
   "language": "python",
   "name": "python3"
  },
  "language_info": {
   "codemirror_mode": {
    "name": "ipython",
    "version": 3
   },
   "file_extension": ".py",
   "mimetype": "text/x-python",
   "name": "python",
   "nbconvert_exporter": "python",
   "pygments_lexer": "ipython3",
   "version": "3.10.8"
  },
  "toc": {
   "base_numbering": 1,
   "nav_menu": {},
   "number_sections": true,
   "sideBar": true,
   "skip_h1_title": false,
   "title_cell": "Table of Contents",
   "title_sidebar": "Contents",
   "toc_cell": false,
   "toc_position": {
    "height": "calc(100% - 180px)",
    "left": "10px",
    "top": "150px",
    "width": "394px"
   },
   "toc_section_display": true,
   "toc_window_display": true
  },
  "vscode": {
   "interpreter": {
    "hash": "aee395a8d00533f832df9e1b1c1e1d0e9597d211ea119d471f3b541b75fb0f52"
   }
  }
 },
 "nbformat": 4,
 "nbformat_minor": 4
}
